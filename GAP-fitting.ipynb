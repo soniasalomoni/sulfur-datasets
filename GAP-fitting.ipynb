{
 "cells": [
  {
   "cell_type": "code",
   "execution_count": 2,
   "metadata": {
    "scrolled": true
   },
   "outputs": [],
   "source": [
    "import sys\n",
    "#sys.path.insert(0,'/home/gigli/librascal/build/rascal/')\n",
    "\n",
    "%matplotlib inline\n",
    "from matplotlib import pylab as plt\n",
    "\n",
    "\n",
    "import ase\n",
    "from ase.io import read, write\n",
    "from ase.build import make_supercell\n",
    "from ase.geometry.analysis import Analysis\n",
    "\n",
    "from ase.visualize import view\n",
    "import numpy as np\n",
    "# If installed -- not essential, though\n",
    "#try:\n",
    "from tqdm.notebook import tqdm\n",
    "#except ImportError:\n",
    "    #tqdm = (lambda i, **kwargs: i)\n",
    "\n",
    "from time import time\n",
    "\n",
    "import skcosmo\n",
    "import rascal\n",
    "import sklearn\n",
    "from rascal.models import Kernel, train_gap_model, compute_KNM, KRR\n",
    "from rascal.representations import SphericalInvariants\n",
    "from rascal.utils import from_dict, to_dict, CURFilter, FPSFilter, dump_obj, load_obj, get_score\n",
    "\n",
    "import pickle as pk\n",
    "\n",
    "\n",
    "#import quippy\n",
    "#from quippy import potential\n",
    "#\n",
    "#import dftbplus\n",
    "#from dftbplus import DftbPlus"
   ]
  },
  {
   "cell_type": "markdown",
   "metadata": {},
   "source": [
    "Load the structures. Energy thresholds are chosen in such a way as to exclude outliers, e.g. non-physical structures, which might skew the training set."
   ]
  },
  {
   "cell_type": "markdown",
   "metadata": {},
   "source": [
    "# Loading the dataset "
   ]
  },
  {
   "cell_type": "code",
   "execution_count": 3,
   "metadata": {},
   "outputs": [
    {
     "data": {
      "text/plain": [
       "array([3, 0, 8, 2, 4, 5, 1, 9, 7, 6])"
      ]
     },
     "execution_count": 3,
     "metadata": {},
     "output_type": "execute_result"
    }
   ],
   "source": [
    "np.random.permutation(10)"
   ]
  },
  {
   "cell_type": "code",
   "execution_count": 4,
   "metadata": {},
   "outputs": [],
   "source": [
    "LiPSdataset = read('input.xyz',':',format='extxyz')\n",
    "Ndataset = len(LiPSdataset)\n",
    "np.random.seed(50)\n",
    "index = np.random.permutation(Ndataset)\n",
    "LiPSdataset = [LiPSdataset[i] for i in index]"
   ]
  },
  {
   "cell_type": "code",
   "execution_count": 5,
   "metadata": {},
   "outputs": [
    {
     "data": {
      "text/plain": [
       "(-133338.765739, 662)"
      ]
     },
     "execution_count": 5,
     "metadata": {},
     "output_type": "execute_result"
    }
   ],
   "source": [
    "LiPSdataset[0].get_potential_energy(),Ndataset"
   ]
  },
  {
   "cell_type": "code",
   "execution_count": 6,
   "metadata": {},
   "outputs": [],
   "source": [
    "energiesXTB = np.array([snap.get_potential_energy() for snap in LiPSdataset ])\n",
    "forcesXTB = np.array([snap.get_forces() for snap in LiPSdataset ],dtype=object)"
   ]
  },
  {
   "cell_type": "code",
   "execution_count": 7,
   "metadata": {},
   "outputs": [],
   "source": [
    "forcesXTB_fl = np.concatenate(forcesXTB).ravel()\n",
    "\n",
    "\n"
   ]
  },
  {
   "cell_type": "code",
   "execution_count": 7,
   "metadata": {},
   "outputs": [],
   "source": [
    "species = set()\n",
    "for frame in LiPSdataset:\n",
    "    species.update(frame.get_atomic_numbers())\n",
    "species = np.sort(np.array(list(species)))\n",
    "\n",
    "N_el = np.zeros((len(LiPSdataset), len(species)), dtype=int)\n",
    "Natoms = np.zeros((len(LiPSdataset), 1), dtype=int)\n",
    "atom_numbers = []\n",
    "\n",
    "for i, frame in enumerate(LiPSdataset):\n",
    "    atom_numbers = frame.get_atomic_numbers()\n",
    "    Natoms[i] = frame.get_global_number_of_atoms()\n",
    "    for j, s in enumerate(species):\n",
    "        for el in atom_numbers:\n",
    "            if(s == el): \n",
    "                N_el[i, j] += 1"
   ]
  },
  {
   "cell_type": "code",
   "execution_count": 8,
   "metadata": {},
   "outputs": [
    {
     "name": "stdout",
     "output_type": "stream",
     "text": [
      "2256 [-202.4559868  -190.78526508 -284.60813356]\n"
     ]
    }
   ],
   "source": [
    "#energies_coesXTB = np.loadtxt('isolated_atom/PBEsol/atomic_energies_PBEsol.dat')\n",
    "#print(Ndataset,energies_coesXTB)\n",
    "#energies_coesiveXTB = np.array([np.sum(N_el[i]*energies_coesXTB) for i in range(Ndataset)])\n",
    "#\n",
    "#energiesXTB_mencoes = energiesXTB - np.array([np.sum(N_el[i]*energies_coesXTB) for i in range(Ndataset)])"
   ]
  },
  {
   "cell_type": "code",
   "execution_count": 9,
   "metadata": {},
   "outputs": [],
   "source": [
    "#LiPSdataset[0].info\n",
    "LiPSdatasetPBEsol_mencoes = []\n",
    "\n",
    "for ii,(snap,e) in enumerate(zip(LiPSdataset,energiesXTB_mencoes)):\n",
    "    LiPSdatasetPBEsol_mencoes.append(snap)\n",
    "    LiPSdatasetPBEsol_mencoes[ii].info['energy'] = e\n",
    "    LiPSdatasetPBEsol_mencoes[ii].info['free_energy'] = e\n",
    "    \n",
    "    "
   ]
  },
  {
   "cell_type": "code",
   "execution_count": 10,
   "metadata": {},
   "outputs": [
    {
     "data": {
      "text/plain": [
       "(2256, -2.948176277463972)"
      ]
     },
     "execution_count": 10,
     "metadata": {},
     "output_type": "execute_result"
    }
   ],
   "source": [
    "len(LiPSdatasetPBEsol_mencoes),LiPSdatasetPBEsol_mencoes[0].info['energy']"
   ]
  },
  {
   "cell_type": "code",
   "execution_count": 8,
   "metadata": {},
   "outputs": [
    {
     "name": "stdout",
     "output_type": "stream",
     "text": [
      "Shape of the full input vector:  953942\n",
      "Mean & STD energies/atom =  -133317.20597238973   15.915361483739995  eV\n",
      "Mean & STD forces =  7.03675730072458e-09   0.8208911428305201  eV/Angstrom\n"
     ]
    }
   ],
   "source": [
    "\n",
    "av_forces = np.mean(forcesXTB_fl)\n",
    "sigma_forces = np.std(forcesXTB_fl)\n",
    "\n",
    "av_energies = np.mean(energiesXTB)\n",
    "sigma_energies = np.std(energiesXTB)\n",
    "\n",
    "print(\"Shape of the full input vector: \", forcesXTB_fl.shape[0] + energiesXTB.shape[0])\n",
    "print(\"Mean & STD energies/atom = \", av_energies, \" \", sigma_energies, \" eV\")\n",
    "print(\"Mean & STD forces = \", av_forces, \" \", sigma_forces, \" eV/Angstrom\")"
   ]
  },
  {
   "cell_type": "markdown",
   "metadata": {},
   "source": [
    "The very large variances on atomic energies that one sees are due to the fact that the $\\alpha$ phase has a different \n",
    "stoichiometry w.r.t. to $\\beta$ and $\\gamma$. The loss of one Li atoms accounts for the difference."
   ]
  },
  {
   "cell_type": "code",
   "execution_count": 9,
   "metadata": {},
   "outputs": [
    {
     "data": {
      "application/vnd.jupyter.widget-view+json": {
       "model_id": "318eb098a2bb499088f1e1aaa9036373",
       "version_major": 2,
       "version_minor": 0
      },
      "text/plain": [
       "  0%|          | 0/662 [00:00<?, ?it/s]"
      ]
     },
     "metadata": {},
     "output_type": "display_data"
    }
   ],
   "source": [
    "for f in tqdm(LiPSdataset):\n",
    "    f.wrap(eps=1e-18)"
   ]
  },
  {
   "cell_type": "code",
   "execution_count": 10,
   "metadata": {},
   "outputs": [
    {
     "name": "stdout",
     "output_type": "stream",
     "text": [
      "662\n"
     ]
    }
   ],
   "source": [
    "Ndataset = len(LiPSdataset)\n",
    "print(Ndataset)"
   ]
  },
  {
   "cell_type": "code",
   "execution_count": 11,
   "metadata": {
    "scrolled": true
   },
   "outputs": [
    {
     "data": {
      "text/plain": [
       "(array([3.18717880e-05, 0.00000000e+00, 0.00000000e+00, 0.00000000e+00,\n",
       "        0.00000000e+00, 0.00000000e+00, 0.00000000e+00, 0.00000000e+00,\n",
       "        0.00000000e+00, 0.00000000e+00, 0.00000000e+00, 0.00000000e+00,\n",
       "        0.00000000e+00, 0.00000000e+00, 0.00000000e+00, 3.18717880e-05,\n",
       "        0.00000000e+00, 0.00000000e+00, 0.00000000e+00, 0.00000000e+00,\n",
       "        0.00000000e+00, 0.00000000e+00, 0.00000000e+00, 6.37435759e-05,\n",
       "        3.18717880e-05, 3.18717880e-05, 3.18717880e-05, 0.00000000e+00,\n",
       "        3.18717880e-05, 6.37435759e-05, 3.18717880e-05, 0.00000000e+00,\n",
       "        0.00000000e+00, 3.18717880e-05, 0.00000000e+00, 0.00000000e+00,\n",
       "        0.00000000e+00, 0.00000000e+00, 3.18717880e-05, 3.18717880e-05,\n",
       "        6.37435759e-05, 6.37435759e-05, 0.00000000e+00, 0.00000000e+00,\n",
       "        0.00000000e+00, 0.00000000e+00, 3.18717880e-05, 0.00000000e+00,\n",
       "        3.18717880e-05, 3.18717880e-05, 0.00000000e+00, 3.18717880e-05,\n",
       "        3.18717880e-05, 3.18717880e-05, 9.56153639e-05, 0.00000000e+00,\n",
       "        3.18717880e-05, 6.37435759e-05, 3.18717880e-05, 6.37435759e-05,\n",
       "        6.37435759e-05, 3.18717880e-05, 0.00000000e+00, 3.18717880e-05,\n",
       "        0.00000000e+00, 3.18717880e-05, 6.37435759e-05, 3.18717880e-05,\n",
       "        9.56153639e-05, 1.27487152e-04, 9.56153639e-05, 9.56153639e-05,\n",
       "        9.56153639e-05, 1.27487152e-04, 3.18717880e-05, 9.56153639e-05,\n",
       "        9.56153639e-05, 6.37435759e-05, 6.37435759e-05, 6.37435759e-05,\n",
       "        9.56153639e-05, 1.27487152e-04, 6.37435759e-05, 9.56153639e-05,\n",
       "        9.56153639e-05, 6.37435759e-05, 1.59358940e-04, 6.37435759e-05,\n",
       "        1.59358940e-04, 9.56153639e-05, 9.56153639e-05, 6.37435759e-05,\n",
       "        6.37435759e-05, 9.56153639e-05, 9.56153639e-05, 1.27487152e-04,\n",
       "        1.59358940e-04, 2.54974304e-04, 9.56153639e-05, 1.59358940e-04,\n",
       "        2.54974304e-04, 9.56153639e-05, 6.37435759e-05, 1.59358940e-04,\n",
       "        1.27487152e-04, 6.37435759e-05, 6.37435759e-05, 1.59358940e-04,\n",
       "        2.23102516e-04, 9.56153639e-05, 1.59358940e-04, 2.54974304e-04,\n",
       "        3.18717880e-05, 1.27487152e-04, 1.27487152e-04, 2.54974304e-04,\n",
       "        1.59358940e-04, 1.27487152e-04, 2.86846092e-04, 2.86846092e-04,\n",
       "        3.18717880e-04, 2.54974304e-04, 3.82461456e-04, 2.86846092e-04,\n",
       "        1.59358940e-04, 2.54974304e-04, 4.14333244e-04, 4.14333244e-04,\n",
       "        2.23102516e-04, 2.54974304e-04, 2.86846092e-04, 3.50589668e-04,\n",
       "        5.41820395e-04, 4.46205032e-04, 7.01179335e-04, 4.14333244e-04,\n",
       "        5.73692183e-04, 6.05563971e-04, 4.46205032e-04, 6.05563971e-04,\n",
       "        7.33051123e-04, 8.28666487e-04, 7.01179335e-04, 1.11551258e-03,\n",
       "        6.69307547e-04, 7.33051123e-04, 1.14738437e-03, 9.24281851e-04,\n",
       "        1.30674331e-03, 9.24281851e-04, 7.96794699e-04, 1.01989722e-03,\n",
       "        1.05176900e-03, 1.33861509e-03, 1.62546119e-03, 1.33861509e-03,\n",
       "        1.75294834e-03, 2.10353801e-03, 1.94417907e-03, 1.91230728e-03,\n",
       "        2.19915337e-03, 2.64535840e-03, 1.91230728e-03, 3.09156343e-03,\n",
       "        2.93220449e-03, 2.70910198e-03, 3.76087098e-03, 3.44215310e-03,\n",
       "        4.30269138e-03, 4.33456316e-03, 4.33456316e-03, 4.58953747e-03,\n",
       "        5.13135786e-03, 5.51381932e-03, 5.60943468e-03, 5.57756289e-03,\n",
       "        6.24687044e-03, 6.53371653e-03, 7.07553693e-03, 8.09543414e-03,\n",
       "        9.33843387e-03, 9.49779281e-03, 9.88025427e-03, 1.05814336e-02,\n",
       "        1.23662537e-02, 1.31630484e-02, 1.50434839e-02, 1.52028429e-02,\n",
       "        1.63183554e-02, 1.80713038e-02, 1.93780471e-02, 2.10035083e-02,\n",
       "        2.29476873e-02, 2.41906871e-02, 2.75690966e-02, 2.72503787e-02,\n",
       "        3.11706086e-02, 3.48677360e-02, 3.67162997e-02, 3.89473249e-02,\n",
       "        4.02540682e-02, 4.57041439e-02, 5.07080147e-02, 5.44051421e-02,\n",
       "        5.97914742e-02, 6.54009089e-02, 6.66439086e-02, 7.50899325e-02,\n",
       "        7.73847012e-02, 8.80617502e-02, 9.14401597e-02, 1.03806413e-01,\n",
       "        1.09925797e-01, 1.17989359e-01, 1.22770127e-01, 1.34307715e-01,\n",
       "        1.43964866e-01, 1.53749505e-01, 1.64044093e-01, 1.74657398e-01,\n",
       "        1.84250806e-01, 1.96903906e-01, 2.10640647e-01, 2.27532694e-01,\n",
       "        2.32823411e-01, 2.45094049e-01, 2.56057945e-01, 2.68137352e-01,\n",
       "        2.86782348e-01, 2.96790090e-01, 3.11578599e-01, 3.27163904e-01,\n",
       "        3.42303003e-01, 3.58047666e-01, 3.73951688e-01, 3.79911713e-01,\n",
       "        3.93138505e-01, 4.11401039e-01, 4.22014344e-01, 4.39416341e-01,\n",
       "        4.45695083e-01, 4.55734696e-01, 4.64913771e-01, 4.78873614e-01,\n",
       "        4.90124355e-01, 5.02203763e-01, 4.95383200e-01, 5.02522481e-01,\n",
       "        5.17757196e-01, 5.25980117e-01, 5.28816706e-01, 5.35191064e-01,\n",
       "        5.26171348e-01, 5.24227169e-01, 5.29772860e-01, 5.29868475e-01,\n",
       "        5.22888553e-01, 5.20593785e-01, 5.16099863e-01, 5.05295326e-01,\n",
       "        4.99367174e-01, 4.87988946e-01, 4.82857588e-01, 4.67208540e-01,\n",
       "        4.63766387e-01, 4.54874158e-01, 4.32563906e-01, 4.26157677e-01,\n",
       "        4.13695808e-01, 3.98046760e-01, 3.88772070e-01, 3.77138867e-01,\n",
       "        3.63816460e-01, 3.42685464e-01, 3.29968621e-01, 3.21586341e-01,\n",
       "        3.07244036e-01, 2.92168680e-01, 2.74957915e-01, 2.60934328e-01,\n",
       "        2.45476511e-01, 2.36042462e-01, 2.21540798e-01, 2.10226313e-01,\n",
       "        1.99867982e-01, 1.91549446e-01, 1.76856551e-01, 1.63438529e-01,\n",
       "        1.55598069e-01, 1.45590327e-01, 1.35996919e-01, 1.28443306e-01,\n",
       "        1.17320052e-01, 1.08778412e-01, 1.01320414e-01, 9.62527997e-02,\n",
       "        8.71055965e-02, 8.20061104e-02, 7.76396755e-02, 6.85562159e-02,\n",
       "        6.58471139e-02, 6.10026022e-02, 5.34171166e-02, 5.12498351e-02,\n",
       "        4.67559130e-02, 4.54810414e-02, 3.96166324e-02, 3.69712740e-02,\n",
       "        3.54733000e-02, 3.07244036e-02, 2.93539167e-02, 2.67723019e-02,\n",
       "        2.63898404e-02, 2.26608412e-02, 2.11309954e-02, 2.04935597e-02,\n",
       "        1.86131242e-02, 1.53940736e-02, 1.45654071e-02, 1.54578172e-02,\n",
       "        1.38004842e-02, 1.23343819e-02, 1.18244333e-02, 1.09001515e-02,\n",
       "        9.43404924e-03, 8.60538275e-03, 8.98784421e-03, 8.89222884e-03,\n",
       "        6.72494726e-03, 6.34248581e-03, 6.59746011e-03, 5.92815256e-03,\n",
       "        5.25884501e-03, 5.67317826e-03, 5.00387071e-03, 4.58953747e-03,\n",
       "        4.07958886e-03, 4.33456316e-03, 3.63338383e-03, 3.85648634e-03,\n",
       "        3.37840952e-03, 3.02781986e-03, 2.74097377e-03, 2.29476873e-03,\n",
       "        2.39038410e-03, 1.81669191e-03, 2.35851231e-03, 1.84856370e-03,\n",
       "        1.46610225e-03, 1.75294834e-03, 1.88043549e-03, 1.37048688e-03,\n",
       "        1.52984582e-03, 1.24299973e-03, 1.14738437e-03, 1.27487152e-03,\n",
       "        9.24281851e-04, 1.08364079e-03, 7.64922911e-04, 1.08364079e-03,\n",
       "        1.17925615e-03, 1.11551258e-03, 8.28666487e-04, 9.88025427e-04,\n",
       "        8.28666487e-04, 4.14333244e-04, 5.73692183e-04, 6.69307547e-04,\n",
       "        6.37435759e-04, 5.09948608e-04, 5.09948608e-04, 3.50589668e-04,\n",
       "        6.37435759e-04, 5.73692183e-04, 4.46205032e-04, 4.46205032e-04,\n",
       "        3.50589668e-04, 3.50589668e-04, 4.46205032e-04, 4.78076820e-04,\n",
       "        3.50589668e-04, 3.50589668e-04, 4.46205032e-04, 2.86846092e-04,\n",
       "        3.50589668e-04, 1.91230728e-04, 3.18717880e-04, 1.91230728e-04,\n",
       "        9.56153639e-05, 2.54974304e-04, 2.54974304e-04, 2.54974304e-04,\n",
       "        3.50589668e-04, 1.59358940e-04, 1.27487152e-04, 1.59358940e-04,\n",
       "        1.91230728e-04, 9.56153639e-05, 1.91230728e-04, 1.59358940e-04,\n",
       "        6.37435759e-05, 1.59358940e-04, 1.27487152e-04, 1.59358940e-04,\n",
       "        6.37435759e-05, 1.27487152e-04, 6.37435759e-05, 3.18717880e-05,\n",
       "        9.56153639e-05, 6.37435759e-05, 2.23102516e-04, 2.23102516e-04,\n",
       "        6.37435759e-05, 1.27487152e-04, 1.91230728e-04, 6.37435759e-05,\n",
       "        1.91230728e-04, 3.18717880e-05, 9.56153639e-05, 3.18717880e-05,\n",
       "        6.37435759e-05, 3.18717880e-05, 9.56153639e-05, 9.56153639e-05,\n",
       "        1.59358940e-04, 9.56153639e-05, 6.37435759e-05, 1.59358940e-04,\n",
       "        6.37435759e-05, 6.37435759e-05, 1.27487152e-04, 6.37435759e-05,\n",
       "        6.37435759e-05, 1.27487152e-04, 6.37435759e-05, 3.18717880e-05,\n",
       "        9.56153639e-05, 1.27487152e-04, 1.27487152e-04, 6.37435759e-05,\n",
       "        9.56153639e-05, 0.00000000e+00, 0.00000000e+00, 6.37435759e-05,\n",
       "        0.00000000e+00, 6.37435759e-05, 3.18717880e-05, 6.37435759e-05,\n",
       "        0.00000000e+00, 3.18717880e-05, 0.00000000e+00, 0.00000000e+00,\n",
       "        3.18717880e-05, 0.00000000e+00, 6.37435759e-05, 3.18717880e-05,\n",
       "        3.18717880e-05, 6.37435759e-05, 6.37435759e-05, 1.27487152e-04,\n",
       "        3.18717880e-05, 9.56153639e-05, 0.00000000e+00, 0.00000000e+00,\n",
       "        6.37435759e-05, 0.00000000e+00, 0.00000000e+00, 0.00000000e+00,\n",
       "        3.18717880e-05, 3.18717880e-05, 6.37435759e-05, 3.18717880e-05,\n",
       "        0.00000000e+00, 0.00000000e+00, 0.00000000e+00, 3.18717880e-05,\n",
       "        3.18717880e-05, 0.00000000e+00, 0.00000000e+00, 0.00000000e+00,\n",
       "        6.37435759e-05, 0.00000000e+00, 0.00000000e+00, 0.00000000e+00,\n",
       "        0.00000000e+00, 0.00000000e+00, 3.18717880e-05, 0.00000000e+00,\n",
       "        0.00000000e+00, 0.00000000e+00, 3.18717880e-05, 0.00000000e+00,\n",
       "        3.18717880e-05, 0.00000000e+00, 0.00000000e+00, 0.00000000e+00,\n",
       "        0.00000000e+00, 0.00000000e+00, 0.00000000e+00, 3.18717880e-05]),\n",
       " array([-8.331869, -8.298955573999999, -8.266042147999999, -8.233128722,\n",
       "        -8.200215296, -8.16730187, -8.134388443999999, -8.101475017999999,\n",
       "        -8.068561592, -8.035648166, -8.00273474, -7.969821313999999,\n",
       "        -7.9369078879999995, -7.903994461999999, -7.871081036,\n",
       "        -7.838167609999999, -7.805254183999999, -7.7723407579999995,\n",
       "        -7.739427331999999, -7.706513906, -7.673600479999999,\n",
       "        -7.640687053999999, -7.6077736279999995, -7.574860201999999,\n",
       "        -7.541946776, -7.509033349999999, -7.476119923999999,\n",
       "        -7.4432064979999994, -7.410293071999999, -7.377379646,\n",
       "        -7.344466219999999, -7.311552793999999, -7.278639367999999,\n",
       "        -7.245725941999999, -7.212812516, -7.179899089999999,\n",
       "        -7.146985663999999, -7.114072237999999, -7.081158811999999,\n",
       "        -7.048245386, -7.015331959999999, -6.982418533999999,\n",
       "        -6.949505107999999, -6.916591681999999, -6.883678256,\n",
       "        -6.850764829999999, -6.817851403999999, -6.784937977999999,\n",
       "        -6.752024551999999, -6.719111126, -6.686197699999999,\n",
       "        -6.653284273999999, -6.620370847999999, -6.587457421999999,\n",
       "        -6.554543996, -6.521630569999999, -6.488717143999999,\n",
       "        -6.455803717999999, -6.422890291999999, -6.389976866,\n",
       "        -6.357063439999999, -6.324150013999999, -6.2912365879999985,\n",
       "        -6.258323161999999, -6.225409736, -6.192496309999999,\n",
       "        -6.159582883999999, -6.1266694579999985, -6.093756031999999,\n",
       "        -6.060842606, -6.027929179999999, -5.995015753999999,\n",
       "        -5.9621023279999985, -5.929188901999999, -5.896275476,\n",
       "        -5.863362049999999, -5.830448623999999, -5.7975351979999985,\n",
       "        -5.764621771999999, -5.731708346, -5.698794919999999,\n",
       "        -5.665881493999999, -5.6329680679999985, -5.600054641999999,\n",
       "        -5.567141216, -5.534227789999999, -5.501314363999999,\n",
       "        -5.4684009379999985, -5.435487511999999, -5.4025740859999996,\n",
       "        -5.369660659999999, -5.336747233999999, -5.3038338079999985,\n",
       "        -5.270920381999999, -5.2380069559999995, -5.205093529999999,\n",
       "        -5.172180103999999, -5.1392666779999985, -5.106353251999999,\n",
       "        -5.0734398259999995, -5.040526399999999, -5.007612973999999,\n",
       "        -4.9746995479999985, -4.941786121999999, -4.9088726959999995,\n",
       "        -4.875959269999999, -4.843045843999999, -4.8101324179999985,\n",
       "        -4.777218991999999, -4.7443055659999995, -4.711392139999999,\n",
       "        -4.678478713999999, -4.6455652879999985, -4.612651861999999,\n",
       "        -4.5797384359999995, -4.546825009999999, -4.513911583999999,\n",
       "        -4.4809981579999985, -4.448084731999999, -4.4151713059999995,\n",
       "        -4.382257879999999, -4.349344453999999, -4.316431027999999,\n",
       "        -4.283517601999999, -4.250604175999999, -4.217690749999999,\n",
       "        -4.184777323999999, -4.151863897999999, -4.118950471999999,\n",
       "        -4.086037045999999, -4.053123619999999, -4.020210193999999,\n",
       "        -3.9872967679999993, -3.954383341999999, -3.9214699159999986,\n",
       "        -3.888556489999999, -3.855643063999999, -3.8227296379999993,\n",
       "        -3.789816211999999, -3.7569027859999986, -3.723989359999999,\n",
       "        -3.691075933999999, -3.6581625079999993, -3.625249081999999,\n",
       "        -3.5923356559999986, -3.559422229999999, -3.5265088039999988,\n",
       "        -3.4935953779999993, -3.460681951999999, -3.4277685259999986,\n",
       "        -3.394855099999999, -3.3619416739999988, -3.3290282479999993,\n",
       "        -3.296114821999999, -3.2632013959999986, -3.230287969999999,\n",
       "        -3.1973745439999988, -3.1644611179999993, -3.131547691999999,\n",
       "        -3.0986342659999986, -3.065720839999999, -3.0328074139999988,\n",
       "        -2.9998939879999993, -2.966980561999999, -2.9340671359999986,\n",
       "        -2.901153709999999, -2.8682402839999988, -2.8353268579999993,\n",
       "        -2.802413431999999, -2.7695000059999986, -2.736586579999999,\n",
       "        -2.7036731539999987, -2.6707597279999993, -2.637846301999999,\n",
       "        -2.6049328759999986, -2.572019449999999, -2.5391060239999987,\n",
       "        -2.5061925979999993, -2.473279171999999, -2.4403657459999986,\n",
       "        -2.407452319999999, -2.3745388939999987, -2.3416254679999993,\n",
       "        -2.308712041999999, -2.2757986159999986, -2.242885189999999,\n",
       "        -2.2099717639999987, -2.1770583379999993, -2.144144911999999,\n",
       "        -2.1112314859999985, -2.078318059999999, -2.0454046339999987,\n",
       "        -2.0124912079999984, -1.979577781999999, -1.9466643559999985,\n",
       "        -1.913750929999999, -1.8808375039999987, -1.8479240779999984,\n",
       "        -1.815010651999999, -1.7820972259999985, -1.749183799999999,\n",
       "        -1.7162703739999987, -1.6833569479999984, -1.6504435219999989,\n",
       "        -1.6175300959999985, -1.584616669999999, -1.5517032439999987,\n",
       "        -1.5187898179999983, -1.4858763919999989, -1.4529629659999985,\n",
       "        -1.420049539999999, -1.3871361139999987, -1.3542226879999983,\n",
       "        -1.3213092619999989, -1.2883958359999985, -1.255482409999999,\n",
       "        -1.2225689839999987, -1.1896555579999983, -1.1567421319999989,\n",
       "        -1.1238287059999985, -1.090915279999999, -1.0580018539999987,\n",
       "        -1.0250884279999983, -0.9921750019999989, -0.9592615759999985,\n",
       "        -0.926348149999999, -0.8934347239999987, -0.8605212979999983,\n",
       "        -0.8276078719999989, -0.7946944459999985, -0.761781019999999,\n",
       "        -0.7288675939999987, -0.6959541679999983, -0.6630407419999989,\n",
       "        -0.6301273159999985, -0.597213889999999, -0.5643004639999987,\n",
       "        -0.5313870379999983, -0.49847361199999884, -0.4655601859999985,\n",
       "        -0.432646759999999, -0.39973333399999866, -0.3668199079999983,\n",
       "        -0.33390648199999884, -0.30099305599999937, -0.268079629999999,\n",
       "        -0.23516620399999866, -0.2022527779999983, -0.16933935199999794,\n",
       "        -0.13642592599999936, -0.10351249999999901, -0.07059907399999865,\n",
       "        -0.037685647999998295, -0.004772221999997939, 0.02814120400000064,\n",
       "        0.061054630000001, 0.09396805600000135, 0.1268814820000017,\n",
       "        0.15979490800000207, 0.19270833400000065, 0.225621760000001,\n",
       "        0.25853518600000136, 0.2914486120000017, 0.3243620380000021,\n",
       "        0.35727546400000065, 0.390188890000001, 0.42310231600000137,\n",
       "        0.4560157420000017, 0.4889291680000021, 0.5218425940000007,\n",
       "        0.554756020000001, 0.5876694460000014, 0.6205828720000017,\n",
       "        0.6534962980000021, 0.6864097240000007, 0.719323150000001,\n",
       "        0.7522365760000014, 0.7851500020000017, 0.8180634280000021,\n",
       "        0.8509768540000007, 0.883890280000001, 0.9168037060000014,\n",
       "        0.9497171320000017, 0.9826305580000021, 1.0155439840000007,\n",
       "        1.048457410000001, 1.0813708360000014, 1.1142842620000017,\n",
       "        1.147197688000002, 1.1801111140000007, 1.213024540000001,\n",
       "        1.2459379660000014, 1.2788513920000018, 1.311764818000002,\n",
       "        1.3446782440000007, 1.377591670000001, 1.4105050960000014,\n",
       "        1.4434185220000018, 1.4763319480000021, 1.5092453740000007,\n",
       "        1.542158800000001, 1.5750722260000014, 1.6079856520000018,\n",
       "        1.6408990780000021, 1.6738125040000007, 1.706725930000001,\n",
       "        1.7396393560000014, 1.7725527820000018, 1.8054662080000021,\n",
       "        1.8383796340000007, 1.871293060000001, 1.9042064860000014,\n",
       "        1.9371199120000018, 1.9700333380000021, 2.0029467640000007,\n",
       "        2.035860190000001, 2.0687736160000014, 2.101687042000002,\n",
       "        2.134600468000002, 2.1675138940000007, 2.200427320000001,\n",
       "        2.2333407460000014, 2.266254172000002, 2.299167598000002,\n",
       "        2.3320810240000007, 2.364994450000001, 2.3979078760000014,\n",
       "        2.430821302000002, 2.463734728000002, 2.4966481540000007,\n",
       "        2.529561580000001, 2.5624750060000014, 2.595388432000002,\n",
       "        2.628301858000002, 2.6612152840000007, 2.694128710000001,\n",
       "        2.7270421360000014, 2.759955562000002, 2.792868988000002,\n",
       "        2.8257824140000007, 2.858695840000001, 2.8916092660000015,\n",
       "        2.924522692000002, 2.957436118000002, 2.9903495440000007,\n",
       "        3.023262970000001, 3.0561763960000015, 3.089089822000002,\n",
       "        3.122003248000002, 3.1549166740000008, 3.187830100000001,\n",
       "        3.2207435260000015, 3.253656952000002, 3.286570378000002,\n",
       "        3.3194838040000008, 3.352397230000001, 3.3853106560000015,\n",
       "        3.418224082000002, 3.451137508000002, 3.4840509340000008,\n",
       "        3.516964360000001, 3.5498777860000015, 3.582791212000002,\n",
       "        3.615704638000002, 3.6486180640000008, 3.681531490000001,\n",
       "        3.7144449160000015, 3.747358342000002, 3.780271768000002,\n",
       "        3.8131851940000008, 3.846098620000001, 3.8790120460000015,\n",
       "        3.911925472000002, 3.944838898000002, 3.977752324000001,\n",
       "        4.010665750000001, 4.0435791760000015, 4.076492602000002,\n",
       "        4.109406028000002, 4.142319454000001, 4.175232880000001,\n",
       "        4.2081463060000015, 4.241059732000002, 4.273973158000002,\n",
       "        4.306886584000003, 4.339800010000001, 4.3727134360000015,\n",
       "        4.405626862000002, 4.438540288000002, 4.471453714000003,\n",
       "        4.504367140000001, 4.5372805660000015, 4.570193992000002,\n",
       "        4.603107418000002, 4.636020844000003, 4.668934270000001,\n",
       "        4.7018476960000015, 4.734761122000002, 4.767674548000002,\n",
       "        4.800587974000003, 4.833501400000001, 4.8664148260000015,\n",
       "        4.899328252000002, 4.932241678000002, 4.965155104000003,\n",
       "        4.998068530000001, 5.0309819560000015, 5.063895382000002,\n",
       "        5.096808808000002, 5.129722234000003, 5.162635660000001,\n",
       "        5.1955490860000015, 5.228462512000002, 5.261375938000002,\n",
       "        5.294289364000003, 5.327202790000001, 5.3601162160000015,\n",
       "        5.393029642000002, 5.425943068000002, 5.458856494000003,\n",
       "        5.491769920000001, 5.5246833460000015, 5.557596772000002,\n",
       "        5.590510198000002, 5.623423624000003, 5.656337050000001,\n",
       "        5.6892504760000016, 5.722163902000002, 5.755077328000002,\n",
       "        5.787990754000003, 5.820904180000001, 5.853817606000002,\n",
       "        5.886731032000002, 5.919644458000002, 5.952557884000003,\n",
       "        5.985471310000001, 6.018384736000002, 6.051298162000002,\n",
       "        6.084211588000002, 6.117125014000003, 6.150038440000001,\n",
       "        6.182951866000002, 6.215865292000002, 6.248778718000002,\n",
       "        6.281692144000003, 6.314605570000001, 6.347518996000002,\n",
       "        6.380432422000002, 6.413345848000002, 6.446259274000003,\n",
       "        6.479172700000001, 6.512086126000002, 6.544999552000002,\n",
       "        6.577912978000002, 6.610826404000003, 6.643739830000001,\n",
       "        6.676653256000002, 6.709566682000002, 6.742480108000002,\n",
       "        6.775393534000003, 6.808306960000001, 6.841220386000002,\n",
       "        6.874133812000002, 6.907047238000002, 6.939960664000003,\n",
       "        6.972874090000001, 7.005787516000002, 7.038700942000002,\n",
       "        7.071614368000002, 7.104527794000003, 7.137441220000001,\n",
       "        7.170354646000002, 7.203268072000002, 7.236181498000002,\n",
       "        7.269094924000003, 7.302008350000001, 7.334921776000002,\n",
       "        7.367835202000002, 7.400748628000002, 7.433662054000003,\n",
       "        7.466575480000001, 7.499488906000002, 7.532402332000002,\n",
       "        7.565315758000002, 7.598229184000003, 7.631142610000001,\n",
       "        7.664056036000002, 7.696969462, 7.729882888000001,\n",
       "        7.762796314000001, 7.795709740000001, 7.828623166000002,\n",
       "        7.861536592000002, 7.894450018000002, 7.927363444000003,\n",
       "        7.960276870000003, 7.993190296000003, 8.026103722, 8.059017148,\n",
       "        8.091930574000001, 8.124844], dtype=object),\n",
       " <BarContainer object of 500 artists>)"
      ]
     },
     "execution_count": 11,
     "metadata": {},
     "output_type": "execute_result"
    },
    {
     "data": {
      "image/png": "[encoded data removed]",
      "text/plain": [
       "<Figure size 432x288 with 1 Axes>"
      ]
     },
     "metadata": {
      "needs_background": "light"
     },
     "output_type": "display_data"
    }
   ],
   "source": [
    "\n",
    "fig, ax = plt.subplots(nrows=1, ncols=1)\n",
    "\n",
    "ax.set_xlim(-10.0, 10.0)\n",
    "ax.hist(forcesXTB_fl, bins=500, density=True)"
   ]
  },
  {
   "cell_type": "markdown",
   "metadata": {},
   "source": [
    "# ML baseline + GAPs"
   ]
  },
  {
   "cell_type": "code",
   "execution_count": 12,
   "metadata": {},
   "outputs": [],
   "source": [
    "species = set()\n",
    "for frame in LiPSdataset:\n",
    "    species.update(frame.get_atomic_numbers())\n",
    "species = np.sort(np.array(list(species)))\n",
    "\n",
    "N_el = np.zeros((len(LiPSdataset), len(species)), dtype=int)\n",
    "Natoms = np.zeros((len(LiPSdataset), 1), dtype=int)\n",
    "atom_numbers = []\n",
    "\n",
    "for i, frame in enumerate(LiPSdataset):\n",
    "    atom_numbers = frame.get_atomic_numbers()\n",
    "    Natoms[i] = frame.get_global_number_of_atoms()\n",
    "    for j, s in enumerate(species):\n",
    "        for el in atom_numbers:\n",
    "            if(s == el): \n",
    "                N_el[i, j] += 1"
   ]
  },
  {
   "cell_type": "code",
   "execution_count": 13,
   "metadata": {},
   "outputs": [
    {
     "name": "stdout",
     "output_type": "stream",
     "text": [
      "(662, 1) (1, 662)\n"
     ]
    }
   ],
   "source": [
    "lamb = 1.0\n",
    "y=energiesXTB\n",
    "X=N_el\n",
    "Xt=X.transpose()\n",
    "print(X.shape, Xt.shape)\n",
    "XtX = np.dot(Xt, X)\n",
    "Ndataset = len(LiPSdataset)\n",
    "\n",
    "XtX_lamb = XtX + lamb * np.identity(len(XtX[0,:]))\n",
    "Xty = np.dot(Xt,y)\n",
    "beta = np.linalg.solve(XtX_lamb,Xty)\n",
    "energy_baseline_lstsq = {int(species): beta[i] for i, species in enumerate(species)}"
   ]
  },
  {
   "cell_type": "code",
   "execution_count": 14,
   "metadata": {},
   "outputs": [],
   "source": [
    "# Atomic energy baseline\n",
    "atom_energy_baseline = np.sum([energiesXTB[i]/(LiPSdataset[i].get_global_number_of_atoms()) for i in range(len(LiPSdataset))])/Ndataset\n",
    "energy_baseline = {int(sp): atom_energy_baseline for sp in species}\n",
    "energy_zero = {int(sp): 1e-10 for sp in species}"
   ]
  },
  {
   "cell_type": "code",
   "execution_count": 15,
   "metadata": {},
   "outputs": [
    {
     "name": "stdout",
     "output_type": "stream",
     "text": [
      "{16: -277.7441791091453}\n",
      "{16: -277.7441772881681}\n",
      "{16: 1e-10}\n"
     ]
    }
   ],
   "source": [
    "print(energy_baseline)\n",
    "print(energy_baseline_lstsq)\n",
    "print(energy_zero)"
   ]
  },
  {
   "cell_type": "code",
   "execution_count": 23,
   "metadata": {},
   "outputs": [],
   "source": [
    "hypersbaseline = []"
   ]
  },
  {
   "cell_type": "code",
   "execution_count": 16,
   "metadata": {},
   "outputs": [],
   "source": [
    "# define the parameters of the spherical expansion\n",
    "hypersbaseline = dict(soap_type=\"PowerSpectrum\",\n",
    "              interaction_cutoff=6.0, \n",
    "              max_radial=8,\n",
    "              max_angular=6,\n",
    "              gaussian_sigma_constant=0.3,\n",
    "              gaussian_sigma_type=\"Constant\",\n",
    "              cutoff_function_type=\"RadialScaling\",\n",
    "              cutoff_smooth_width=0.5,\n",
    "              cutoff_function_parameters=\n",
    "                    dict(\n",
    "                            rate=1,\n",
    "                            scale=3.5,\n",
    "                            exponent=4\n",
    "                        ),\n",
    "              radial_basis=\"GTO\",\n",
    "              normalize=True,\n",
    "              optimization=\n",
    "                    dict(\n",
    "                            Spline=dict(\n",
    "                               accuracy=1.0e-05\n",
    "                            )\n",
    "                        ),\n",
    "              compute_gradients=False\n",
    "              )\n",
    "\n",
    "repr_bas = SphericalInvariants(**hypersbaseline)"
   ]
  },
  {
   "cell_type": "code",
   "execution_count": 18,
   "metadata": {},
   "outputs": [],
   "source": [
    "for f in LiPSdataset: \n",
    "    f.wrap(eps=1.0e-12)"
   ]
  },
  {
   "cell_type": "code",
   "execution_count": 19,
   "metadata": {},
   "outputs": [
    {
     "name": "stdout",
     "output_type": "stream",
     "text": [
      "Execution:  26.087083101272583 s\n"
     ]
    }
   ],
   "source": [
    "managers = []\n",
    "start = time()\n",
    "managers = repr_bas.transform(LiPSdataset)\n",
    "feat_vector = repr_bas.transform(LiPSdataset).get_features(repr_bas)\n",
    "print (\"Execution: \", time()-start, \"s\")"
   ]
  },
  {
   "cell_type": "code",
   "execution_count": 20,
   "metadata": {},
   "outputs": [
    {
     "ename": "IndexError",
     "evalue": "index 1000 is out of bounds for axis 0 with size 662",
     "output_type": "error",
     "traceback": [
      "\u001b[0;31m---------------------------------------------------------------------------\u001b[0m",
      "\u001b[0;31mIndexError\u001b[0m                                Traceback (most recent call last)",
      "Input \u001b[0;32mIn [20]\u001b[0m, in \u001b[0;36m<cell line: 1>\u001b[0;34m()\u001b[0m\n\u001b[0;32m----> 1\u001b[0m \u001b[38;5;28mprint\u001b[39m(\u001b[43menergiesXTB\u001b[49m\u001b[43m[\u001b[49m\u001b[38;5;241;43m1000\u001b[39;49m\u001b[43m]\u001b[49m, energiesXTB[\u001b[38;5;241m1105\u001b[39m])\n",
      "\u001b[0;31mIndexError\u001b[0m: index 1000 is out of bounds for axis 0 with size 662"
     ]
    }
   ],
   "source": [
    "print(energiesXTB[1000], energiesXTB[1105])"
   ]
  },
  {
   "cell_type": "code",
   "execution_count": null,
   "metadata": {},
   "outputs": [],
   "source": [
    "print(energiesXTB_mencoes[1000], energiesXTB_mencoes[1105])"
   ]
  },
  {
   "cell_type": "code",
   "execution_count": 21,
   "metadata": {},
   "outputs": [
    {
     "data": {
      "text/plain": [
       "(317760, 448)"
      ]
     },
     "execution_count": 21,
     "metadata": {},
     "output_type": "execute_result"
    }
   ],
   "source": [
    "feat_vector.shape"
   ]
  },
  {
   "cell_type": "code",
   "execution_count": 23,
   "metadata": {},
   "outputs": [],
   "source": [
    "# select the features with FPS, again the whole training set\n",
    "n_sparse_feat = 448\n",
    "#n_sparse_feat = 600*4\n",
    "feat_compressor = FPSFilter(repr_bas, n_sparse_feat, act_on='feature')\n",
    "feat_sparse_parameters = feat_compressor.select_and_filter(managers)"
   ]
  },
  {
   "cell_type": "code",
   "execution_count": 24,
   "metadata": {},
   "outputs": [],
   "source": [
    "feat_sparse_parameters.keys()\n",
    "hypersbaseline['coefficient_subselection'] = feat_sparse_parameters['coefficient_subselection']\n",
    "repr_bas_fsparse = SphericalInvariants(**hypersbaseline)"
   ]
  },
  {
   "cell_type": "code",
   "execution_count": 25,
   "metadata": {},
   "outputs": [
    {
     "data": {
      "application/vnd.jupyter.widget-view+json": {
       "model_id": "50d1e28d6a044e248db2a5b0cbff3b78",
       "version_major": 2,
       "version_minor": 0
      },
      "text/plain": [
       "  0%|          | 0/662 [00:00<?, ?it/s]"
      ]
     },
     "metadata": {},
     "output_type": "display_data"
    },
    {
     "name": "stdout",
     "output_type": "stream",
     "text": [
      "Execution time: 12.284471273422241 s\n"
     ]
    }
   ],
   "source": [
    "start = time()\n",
    "managers_sparsefeat = repr_bas_fsparse.transform(tqdm(LiPSdataset))\n",
    "print(\"Execution time: {} s\".format(time() - start))"
   ]
  },
  {
   "cell_type": "code",
   "execution_count": 33,
   "metadata": {},
   "outputs": [
    {
     "data": {
      "text/plain": [
       "2500"
      ]
     },
     "execution_count": 33,
     "metadata": {},
     "output_type": "execute_result"
    }
   ],
   "source": [
    "1250+625*2"
   ]
  },
  {
   "cell_type": "code",
   "execution_count": 27,
   "metadata": {},
   "outputs": [],
   "source": [
    "#select ONCE FOR ALL the sparse points for the sparse kernel method with CUR on the whole training set\n",
    "nsparse = {16:5000}\n",
    "#compressor = CURFilter(soap_fsparse, nsparse, act_on='sample per species')\n",
    "compressor = FPSFilter(repr_bas_fsparse, nsparse, act_on='sample per species')\n",
    "X_sparse_baseline = compressor.select_and_filter(managers_sparsefeat)\n",
    "dump_obj('Xsparse-baseline_rcut5.json', X_sparse_baseline)"
   ]
  },
  {
   "cell_type": "code",
   "execution_count": null,
   "metadata": {},
   "outputs": [
    {
     "data": {
      "application/vnd.jupyter.widget-view+json": {
       "model_id": "b43c03081dc84eca8fa3b5a982bc3ce9",
       "version_major": 2,
       "version_minor": 0
      },
      "text/plain": [
       "Computing kernel matrix:   0%|          | 0/662 [00:00<?, ?it/s]"
      ]
     },
     "metadata": {},
     "output_type": "display_data"
    }
   ],
   "source": [
    "zeta = 2\n",
    "start = time()\n",
    "#hypers['compute_gradients'] = True\n",
    "hypersbaseline['compute_gradients'] = True\n",
    "\n",
    "# soap = SphericalInvariants(**hypers)\n",
    "repr_bas_fsparse = SphericalInvariants(**hypersbaseline)\n",
    "kernel_base = Kernel(repr_bas_fsparse, name='GAP', zeta=zeta, target_type='Structure', kernel_type='Sparse')\n",
    "KNM_base = compute_KNM(tqdm(LiPSdataset, leave=True, desc=\"Computing kernel matrix\"), X_sparse_baseline, \n",
    "                          kernel_base, repr_bas_fsparse)\n",
    "# np.save('KNM.npy', KNM)"
   ]
  },
  {
   "cell_type": "code",
   "execution_count": 33,
   "metadata": {},
   "outputs": [],
   "source": [
    "\n",
    "#dicts = {'repr_bas_fsparse':repr_bas_fsparse,\n",
    "#         'kernel_base':kernel_base,\n",
    "#         'KNM_base':KNM_base,\n",
    "#         'X_sparse_baseline':X_sparse_baseline}\n",
    "#\n",
    "#with open('kernels_zeta2_4000sparsefeat.pk','wb') as fg:\n",
    "#    pk.dump(dicts,fg)\n",
    "    \n",
    "    \n",
    "    "
   ]
  },
  {
   "cell_type": "code",
   "execution_count": 19,
   "metadata": {},
   "outputs": [],
   "source": [
    "with open('kernels_zeta2_4000sparsefeat.pk','rb') as fg:\n",
    "    dicts = pk.load(fg)\n",
    "    \n",
    "repr_bas_fsparse = dicts['repr_bas_fsparse']\n",
    "kernel_base = dicts['kernel_base']\n",
    "KNM_base = dicts['KNM_base']\n",
    "X_sparse_baseline = dicts['X_sparse_baseline']"
   ]
  },
  {
   "cell_type": "code",
   "execution_count": 17,
   "metadata": {},
   "outputs": [],
   "source": [
    "del dicts"
   ]
  },
  {
   "cell_type": "markdown",
   "metadata": {},
   "source": [
    "# Optimizing the regularizers "
   ]
  },
  {
   "cell_type": "code",
   "execution_count": 176,
   "metadata": {},
   "outputs": [
    {
     "data": {
      "text/plain": [
       "{3: 1e-10, 15: 1e-10, 16: 1e-10}"
      ]
     },
     "execution_count": 176,
     "metadata": {},
     "output_type": "execute_result"
    }
   ],
   "source": [
    "energy_zero"
   ]
  },
  {
   "cell_type": "code",
   "execution_count": 177,
   "metadata": {},
   "outputs": [
    {
     "name": "stdout",
     "output_type": "stream",
     "text": [
      "(131472, 4000) (1500, 4000) (1500,) (131472,) 131472\n"
     ]
    },
    {
     "ename": "KeyboardInterrupt",
     "evalue": "",
     "output_type": "error",
     "traceback": [
      "\u001b[0;31m---------------------------------------------------------------------------\u001b[0m",
      "\u001b[0;31mKeyboardInterrupt\u001b[0m                         Traceback (most recent call last)",
      "Input \u001b[0;32mIn [177]\u001b[0m, in \u001b[0;36m<cell line: 15>\u001b[0;34m()\u001b[0m\n\u001b[1;32m     48\u001b[0m \u001b[38;5;28mprint\u001b[39m(KnM_gradients\u001b[38;5;241m.\u001b[39mshape, KnM_energies\u001b[38;5;241m.\u001b[39mshape, en_train\u001b[38;5;241m.\u001b[39mshape, f_train_fl\u001b[38;5;241m.\u001b[39mshape, \u001b[38;5;28mlen\u001b[39m(KnM_gradients[:, \u001b[38;5;241m0\u001b[39m]))\n\u001b[1;32m     49\u001b[0m KnM \u001b[38;5;241m=\u001b[39m np\u001b[38;5;241m.\u001b[39mvstack([KnM_energies, KnM_gradients])\n\u001b[0;32m---> 50\u001b[0m baseline\u001b[38;5;241m.\u001b[39mappend(\u001b[43mtrain_gap_model\u001b[49m\u001b[43m(\u001b[49m\u001b[43mkernel_base\u001b[49m\u001b[43m,\u001b[49m\u001b[43m \u001b[49m\u001b[43mframes_train\u001b[49m\u001b[43m[\u001b[49m\u001b[43m:\u001b[49m\u001b[43mnn\u001b[49m\u001b[43m]\u001b[49m\u001b[43m,\u001b[49m\u001b[43m \u001b[49m\u001b[43mKnM\u001b[49m\u001b[43m,\u001b[49m\u001b[43m \u001b[49m\u001b[43mX_sparse_baseline\u001b[49m\u001b[43m,\u001b[49m\u001b[43m \u001b[49m\u001b[43men_train\u001b[49m\u001b[43m[\u001b[49m\u001b[43m:\u001b[49m\u001b[43mnn\u001b[49m\u001b[43m]\u001b[49m\u001b[43m,\u001b[49m\u001b[43m \u001b[49m\u001b[43menergy_zero\u001b[49m\u001b[43m,\u001b[49m\u001b[43m \u001b[49m\n\u001b[1;32m     51\u001b[0m \u001b[43m                    \u001b[49m\u001b[43mgrad_train\u001b[49m\u001b[38;5;241;43m=\u001b[39;49m\u001b[38;5;241;43m-\u001b[39;49m\u001b[43mf_train_fl\u001b[49m\u001b[43m[\u001b[49m\u001b[43m:\u001b[49m\u001b[38;5;28;43mlen\u001b[39;49m\u001b[43m(\u001b[49m\u001b[43mKnM_gradients\u001b[49m\u001b[43m[\u001b[49m\u001b[43m:\u001b[49m\u001b[43m,\u001b[49m\u001b[43m \u001b[49m\u001b[38;5;241;43m0\u001b[39;49m\u001b[43m]\u001b[49m\u001b[43m)\u001b[49m\u001b[43m]\u001b[49m\u001b[43m,\u001b[49m\u001b[43m \u001b[49m\n\u001b[1;32m     52\u001b[0m \u001b[43m                    \u001b[49m\u001b[43mlambdas\u001b[49m\u001b[38;5;241;43m=\u001b[39;49m\u001b[43m[\u001b[49m\u001b[43mlambda1\u001b[49m\u001b[43m,\u001b[49m\u001b[43m \u001b[49m\u001b[43mlambda2\u001b[49m\u001b[43m]\u001b[49m\u001b[43m,\u001b[49m\u001b[43m \u001b[49m\u001b[43mjitter\u001b[49m\u001b[38;5;241;43m=\u001b[39;49m\u001b[38;5;241;43m1e-5\u001b[39;49m\u001b[43m,\u001b[49m\u001b[43msolver\u001b[49m\u001b[38;5;241;43m=\u001b[39;49m\u001b[38;5;124;43m'\u001b[39;49m\u001b[38;5;124;43mRKHS-QR\u001b[39;49m\u001b[38;5;124;43m'\u001b[39;49m\u001b[43m)\u001b[49m)\n",
      "File \u001b[0;32m~/anaconda3/lib/python3.9/site-packages/rascal/models/krr.py:689\u001b[0m, in \u001b[0;36mtrain_gap_model\u001b[0;34m(kernel, frames, KNM_, X_sparse, y_train, self_contributions, grad_train, lambdas, jitter, solver, rcond)\u001b[0m\n\u001b[1;32m    684\u001b[0m \u001b[38;5;66;03m# in current implementation KMM incorporates regularization so it is\u001b[39;00m\n\u001b[1;32m    685\u001b[0m \u001b[38;5;66;03m# better to use an absolute jitter value\u001b[39;00m\n\u001b[1;32m    686\u001b[0m ssolver \u001b[38;5;241m=\u001b[39m SparseGPRSolver(\n\u001b[1;32m    687\u001b[0m     KMM, regularizer\u001b[38;5;241m=\u001b[39m\u001b[38;5;241m1\u001b[39m, jitter\u001b[38;5;241m=\u001b[39mjitter, solver\u001b[38;5;241m=\u001b[39msolver, relative_jitter\u001b[38;5;241m=\u001b[39m\u001b[38;5;28;01mFalse\u001b[39;00m\n\u001b[1;32m    688\u001b[0m )\n\u001b[0;32m--> 689\u001b[0m \u001b[43mssolver\u001b[49m\u001b[38;5;241;43m.\u001b[39;49m\u001b[43mfit\u001b[49m\u001b[43m(\u001b[49m\u001b[43mKNM\u001b[49m\u001b[43m,\u001b[49m\u001b[43m \u001b[49m\u001b[43mY\u001b[49m\u001b[43m,\u001b[49m\u001b[43m \u001b[49m\u001b[43mrcond\u001b[49m\u001b[38;5;241;43m=\u001b[39;49m\u001b[43mrcond\u001b[49m\u001b[43m)\u001b[49m\n\u001b[1;32m    690\u001b[0m model \u001b[38;5;241m=\u001b[39m KRR(ssolver\u001b[38;5;241m.\u001b[39m_weights, kernel, X_sparse, self_contributions)\n\u001b[1;32m    692\u001b[0m \u001b[38;5;28;01mdel\u001b[39;00m KNM, KMM\n",
      "File \u001b[0;32m~/anaconda3/lib/python3.9/site-packages/rascal/models/krr.py:167\u001b[0m, in \u001b[0;36mSparseGPRSolver.fit\u001b[0;34m(self, KNM, Y, rcond)\u001b[0m\n\u001b[1;32m    163\u001b[0m \u001b[38;5;28;01melif\u001b[39;00m \u001b[38;5;28mself\u001b[39m\u001b[38;5;241m.\u001b[39msolver \u001b[38;5;241m==\u001b[39m \u001b[38;5;124m\"\u001b[39m\u001b[38;5;124mRKHS-QR\u001b[39m\u001b[38;5;124m\"\u001b[39m:\n\u001b[1;32m    164\u001b[0m     A \u001b[38;5;241m=\u001b[39m np\u001b[38;5;241m.\u001b[39mvstack(\n\u001b[1;32m    165\u001b[0m         [KNM \u001b[38;5;241m@\u001b[39m \u001b[38;5;28mself\u001b[39m\u001b[38;5;241m.\u001b[39m_PKPhi, np\u001b[38;5;241m.\u001b[39msqrt(\u001b[38;5;28mself\u001b[39m\u001b[38;5;241m.\u001b[39mregularizer) \u001b[38;5;241m*\u001b[39m np\u001b[38;5;241m.\u001b[39meye(\u001b[38;5;28mself\u001b[39m\u001b[38;5;241m.\u001b[39m_nM)]\n\u001b[1;32m    166\u001b[0m     )\n\u001b[0;32m--> 167\u001b[0m     Q, R \u001b[38;5;241m=\u001b[39m \u001b[43mnp\u001b[49m\u001b[38;5;241;43m.\u001b[39;49m\u001b[43mlinalg\u001b[49m\u001b[38;5;241;43m.\u001b[39;49m\u001b[43mqr\u001b[49m\u001b[43m(\u001b[49m\u001b[43mA\u001b[49m\u001b[43m)\u001b[49m\n\u001b[1;32m    168\u001b[0m     \u001b[38;5;28mself\u001b[39m\u001b[38;5;241m.\u001b[39m_weights \u001b[38;5;241m=\u001b[39m \u001b[38;5;28mself\u001b[39m\u001b[38;5;241m.\u001b[39m_PKPhi \u001b[38;5;241m@\u001b[39m scipy\u001b[38;5;241m.\u001b[39mlinalg\u001b[38;5;241m.\u001b[39msolve_triangular(\n\u001b[1;32m    169\u001b[0m         R, Q\u001b[38;5;241m.\u001b[39mT \u001b[38;5;241m@\u001b[39m np\u001b[38;5;241m.\u001b[39mvstack([Y, np\u001b[38;5;241m.\u001b[39mzeros((\u001b[38;5;28mself\u001b[39m\u001b[38;5;241m.\u001b[39m_nM, Y\u001b[38;5;241m.\u001b[39mshape[\u001b[38;5;241m1\u001b[39m]))])\n\u001b[1;32m    170\u001b[0m     )\n\u001b[1;32m    171\u001b[0m \u001b[38;5;28;01melif\u001b[39;00m \u001b[38;5;28mself\u001b[39m\u001b[38;5;241m.\u001b[39msolver \u001b[38;5;241m==\u001b[39m \u001b[38;5;124m\"\u001b[39m\u001b[38;5;124mQR\u001b[39m\u001b[38;5;124m\"\u001b[39m:\n",
      "File \u001b[0;32m<__array_function__ internals>:5\u001b[0m, in \u001b[0;36mqr\u001b[0;34m(*args, **kwargs)\u001b[0m\n",
      "File \u001b[0;32m~/anaconda3/lib/python3.9/site-packages/numpy/linalg/linalg.py:975\u001b[0m, in \u001b[0;36mqr\u001b[0;34m(a, mode)\u001b[0m\n\u001b[1;32m    973\u001b[0m lwork \u001b[38;5;241m=\u001b[39m \u001b[38;5;28mmax\u001b[39m(\u001b[38;5;241m1\u001b[39m, n, \u001b[38;5;28mint\u001b[39m(\u001b[38;5;28mabs\u001b[39m(work[\u001b[38;5;241m0\u001b[39m])))\n\u001b[1;32m    974\u001b[0m work \u001b[38;5;241m=\u001b[39m zeros((lwork,), t)\n\u001b[0;32m--> 975\u001b[0m results \u001b[38;5;241m=\u001b[39m \u001b[43mlapack_routine\u001b[49m\u001b[43m(\u001b[49m\u001b[43mm\u001b[49m\u001b[43m,\u001b[49m\u001b[43m \u001b[49m\u001b[43mmc\u001b[49m\u001b[43m,\u001b[49m\u001b[43m \u001b[49m\u001b[43mmn\u001b[49m\u001b[43m,\u001b[49m\u001b[43m \u001b[49m\u001b[43mq\u001b[49m\u001b[43m,\u001b[49m\u001b[43m \u001b[49m\u001b[38;5;28;43mmax\u001b[39;49m\u001b[43m(\u001b[49m\u001b[38;5;241;43m1\u001b[39;49m\u001b[43m,\u001b[49m\u001b[43m \u001b[49m\u001b[43mm\u001b[49m\u001b[43m)\u001b[49m\u001b[43m,\u001b[49m\u001b[43m \u001b[49m\u001b[43mtau\u001b[49m\u001b[43m,\u001b[49m\u001b[43m \u001b[49m\u001b[43mwork\u001b[49m\u001b[43m,\u001b[49m\u001b[43m \u001b[49m\u001b[43mlwork\u001b[49m\u001b[43m,\u001b[49m\u001b[43m \u001b[49m\u001b[38;5;241;43m0\u001b[39;49m\u001b[43m)\u001b[49m\n\u001b[1;32m    976\u001b[0m \u001b[38;5;28;01mif\u001b[39;00m results[\u001b[38;5;124m'\u001b[39m\u001b[38;5;124minfo\u001b[39m\u001b[38;5;124m'\u001b[39m] \u001b[38;5;241m!=\u001b[39m \u001b[38;5;241m0\u001b[39m:\n\u001b[1;32m    977\u001b[0m     \u001b[38;5;28;01mraise\u001b[39;00m LinAlgError(\u001b[38;5;124m'\u001b[39m\u001b[38;5;132;01m%s\u001b[39;00m\u001b[38;5;124m returns \u001b[39m\u001b[38;5;132;01m%d\u001b[39;00m\u001b[38;5;124m'\u001b[39m \u001b[38;5;241m%\u001b[39m (routine_name, results[\u001b[38;5;124m'\u001b[39m\u001b[38;5;124minfo\u001b[39m\u001b[38;5;124m'\u001b[39m]))\n",
      "\u001b[0;31mKeyboardInterrupt\u001b[0m: "
     ]
    }
   ],
   "source": [
    "ntrain = 1500\n",
    "ntraining = [1500]\n",
    "Nkvalidation = 1\n",
    "ids_validation = []\n",
    "baseline = []\n",
    "\n",
    "l1 = [1.0e-13, 1.0e-11, 1.0e-9, 1.0e-7, 1.0e-5]\n",
    "\n",
    "l2 = [1.0e-5, 1.0e-4, 1.0e-3, 0.01, 0.1, 1.0]\n",
    "l2 = [1.0e-9,1.0e-8, 1.0e-7, 1.0e-6,1.0e-5, 1.0e-4, 1.0e-3]\n",
    "l2 = [1.0e-13,1.0e-12,1.0e-11,1.0e-10,1.0e-9,1.0e-8, 1.0e-7, 1.0e-6]\n",
    "\n",
    "#for lambda1 in [1.0e-5, 1.0e-4, 1.0e-3, 0.01, 0.1, 1.0]:\n",
    "#    for lambda2 in [1.0e-5, 1.0e-4, 1.0e-3, 0.01, 0.1, 1.0]:\n",
    "for lambda1 in l1:\n",
    "    for lambda2 in l2:\n",
    "        for k in range(Nkvalidation):\n",
    "            ids = list(range(Ndataset))\n",
    "            np.random.seed(20+k)\n",
    "            np.random.shuffle(ids)\n",
    "            ids_validation.append(ids)\n",
    "            train_ids = [int(i) for i in ids[:ntrain]]\n",
    "            frames_train = [LiPSdataset[ii] for ii in train_ids]\n",
    "\n",
    "            #en_train = [energiesXTB[ii] for ii in train_ids]\n",
    "            en_train = [energiesXTB_mencoes[ii]for ii in train_ids]\n",
    "            en_train = np.array(en_train)\n",
    "\n",
    "            f_train = [forcesXTB[ii] for ii in train_ids]\n",
    "            f_train = np.array(f_train, dtype='object')\n",
    "            f_train_fl = np.concatenate(f_train).ravel()\n",
    "            #f_test_fl = np.concatenate(f_test).ravel()\n",
    "            for nn in ntraining: \n",
    "                KnM_energies = np.array([KNM_base[ii,:] for ii in train_ids[:nn]])\n",
    "                KnM_gradients = []\n",
    "\n",
    "                for ii in train_ids[:nn]:\n",
    "                    ntotatoms_prec_ii=0\n",
    "                    for i, f in enumerate(LiPSdataset[:ii]):\n",
    "                        ntotatoms_prec_ii+=f.get_global_number_of_atoms()\n",
    "\n",
    "                    ntotatoms_ii = LiPSdataset[ii].get_global_number_of_atoms()\n",
    "                    Init = Ndataset + ntotatoms_prec_ii*3\n",
    "                    for ll in range(Init, Init+3*ntotatoms_ii): \n",
    "                        KnM_gradients.append(KNM_base[ll, :])\n",
    "\n",
    "                KnM_gradients = np.array(KnM_gradients)\n",
    "                print(KnM_gradients.shape, KnM_energies.shape, en_train.shape, f_train_fl.shape, len(KnM_gradients[:, 0]))\n",
    "                KnM = np.vstack([KnM_energies, KnM_gradients])\n",
    "                baseline.append(train_gap_model(kernel_base, frames_train[:nn], KnM, X_sparse_baseline, en_train[:nn], energy_zero, \n",
    "                                    grad_train=-f_train_fl[:len(KnM_gradients[:, 0])], \n",
    "                                    lambdas=[lambda1, lambda2], jitter=1e-5,solver='RKHS-QR'))"
   ]
  },
  {
   "cell_type": "code",
   "execution_count": 103,
   "metadata": {},
   "outputs": [],
   "source": [
    "# baseline_energies = np.zeros((Ndataset, len(ntraining), Nkvalidation), dtype='float')\n",
    "# baseline_forces = np.zeros((len(forces_fl), len(ntraining), Nkvalidation), dtype='float')\n",
    "ngrid = len(l1)*len(l2)\n",
    "baseline_energies = np.zeros((Ndataset, Nkvalidation, ngrid), dtype='float')\n",
    "baseline_forces = np.zeros((len(forcesXTB_fl), Nkvalidation, ngrid), dtype='float')"
   ]
  },
  {
   "cell_type": "code",
   "execution_count": 104,
   "metadata": {},
   "outputs": [
    {
     "name": "stdout",
     "output_type": "stream",
     "text": [
      "(2256, 1, 40)\n"
     ]
    }
   ],
   "source": [
    "print(baseline_energies.shape)"
   ]
  },
  {
   "cell_type": "code",
   "execution_count": 105,
   "metadata": {},
   "outputs": [
    {
     "data": {
      "application/vnd.jupyter.widget-view+json": {
       "model_id": "12293bd54fae4227a689d09c56ec2edb",
       "version_major": 2,
       "version_minor": 0
      },
      "text/plain": [
       "  0%|          | 0/2256 [00:00<?, ?it/s]"
      ]
     },
     "metadata": {},
     "output_type": "display_data"
    }
   ],
   "source": [
    "i = 0\n",
    "iforce = 0\n",
    "for f in tqdm(LiPSdataset): \n",
    "    f.wrap(eps=1e-18)\n",
    "    m = repr_bas_fsparse.transform(f)\n",
    "    for ng in range(ngrid):\n",
    "        #for k in range(Nkvalidation):\n",
    "        baseline_energies[i, 0, ng] = baseline[ng].predict(m)\n",
    "        forces_tmp = baseline[ng].predict_forces(m)\n",
    "        forces_tmp_fl = np.concatenate(forces_tmp).ravel()\n",
    "        for l in range(iforce, iforce+len(forces_tmp_fl)):\n",
    "                baseline_forces[l, 0, ng] = forces_tmp_fl[l-iforce]\n",
    "    iforce += len(forces_tmp_fl)\n",
    "    i += 1  "
   ]
  },
  {
   "cell_type": "code",
   "execution_count": 106,
   "metadata": {},
   "outputs": [
    {
     "data": {
      "text/plain": [
       "(197664, 1, 40)"
      ]
     },
     "execution_count": 106,
     "metadata": {},
     "output_type": "execute_result"
    }
   ],
   "source": [
    "baseline_forces.shape"
   ]
  },
  {
   "cell_type": "code",
   "execution_count": 107,
   "metadata": {},
   "outputs": [
    {
     "data": {
      "text/plain": [
       "array([-0.20902235, -0.62584601, -0.33077285, ..., -0.6567388 ,\n",
       "        0.5897506 ,  0.14217168])"
      ]
     },
     "execution_count": 107,
     "metadata": {},
     "output_type": "execute_result"
    }
   ],
   "source": [
    "baseline_forces[:,0,ng]"
   ]
  },
  {
   "cell_type": "code",
   "execution_count": 108,
   "metadata": {},
   "outputs": [
    {
     "data": {
      "text/plain": [
       "(2256, (2256,), 2256)"
      ]
     },
     "execution_count": 108,
     "metadata": {},
     "output_type": "execute_result"
    }
   ],
   "source": [
    "len(energiesXTB),forcesXTB.shape,len(LiPSdataset)"
   ]
  },
  {
   "cell_type": "code",
   "execution_count": 109,
   "metadata": {},
   "outputs": [
    {
     "ename": "SyntaxError",
     "evalue": "invalid syntax (1190117399.py, line 1)",
     "output_type": "error",
     "traceback": [
      "\u001b[0;36m  Input \u001b[0;32mIn [109]\u001b[0;36m\u001b[0m\n\u001b[0;31m    LiPSdataset[0].\u001b[0m\n\u001b[0m                   ^\u001b[0m\n\u001b[0;31mSyntaxError\u001b[0m\u001b[0;31m:\u001b[0m invalid syntax\n"
     ]
    }
   ],
   "source": [
    "LiPSdataset[0]."
   ]
  },
  {
   "cell_type": "code",
   "execution_count": 110,
   "metadata": {},
   "outputs": [
    {
     "name": "stdout",
     "output_type": "stream",
     "text": [
      "NG =  0\n",
      "coeff =  1e-13 1e-13\n",
      "RMSE energy =  6.88404474518388 meV/atom\n",
      "RMSE forces =  87.99087916440159 meV/force component =  12.126308097376759 %\n",
      "NG =  1\n",
      "coeff =  1e-13 1e-12\n",
      "RMSE energy =  3.1730166512787856 meV/atom\n",
      "RMSE forces =  88.72868934643986 meV/force component =  12.22798810864317 %\n",
      "NG =  2\n",
      "coeff =  1e-13 1e-11\n",
      "RMSE energy =  2.3168183094682644 meV/atom\n",
      "RMSE forces =  98.50813539620157 meV/force component =  13.575725248529164 %\n",
      "NG =  3\n",
      "coeff =  1e-13 1e-10\n",
      "RMSE energy =  2.361850779097552 meV/atom\n",
      "RMSE forces =  103.36170909248374 meV/force component =  14.244611962394988 %\n",
      "NG =  4\n",
      "coeff =  1e-13 1e-09\n",
      "RMSE energy =  2.3708127349972288 meV/atom\n",
      "RMSE forces =  103.56602996686622 meV/force component =  14.2727700839755 %\n",
      "NG =  5\n",
      "coeff =  1e-13 1e-08\n",
      "RMSE energy =  2.371523334236431 meV/atom\n",
      "RMSE forces =  103.5736857661964 meV/force component =  14.273825154481571 %\n",
      "NG =  6\n",
      "coeff =  1e-13 1e-07\n",
      "RMSE energy =  2.3715310466548103 meV/atom\n",
      "RMSE forces =  103.57377077366915 meV/force component =  14.273836869636764 %\n",
      "NG =  7\n",
      "coeff =  1e-13 1e-06\n",
      "RMSE energy =  2.371531123017186 meV/atom\n",
      "RMSE forces =  103.57377162483156 meV/force component =  14.273836986938212 %\n",
      "NG =  8\n",
      "coeff =  1e-11 1e-13\n",
      "RMSE energy =  96.98747957071848 meV/atom\n",
      "RMSE forces =  87.91513569229387 meV/force component =  12.115869644120405 %\n",
      "NG =  9\n",
      "coeff =  1e-11 1e-12\n",
      "RMSE energy =  13.371299696308366 meV/atom\n",
      "RMSE forces =  87.91925140666126 meV/force component =  12.116436844049918 %\n",
      "NG =  10\n",
      "coeff =  1e-11 1e-11\n",
      "RMSE energy =  6.884044744834936 meV/atom\n",
      "RMSE forces =  87.99087916438924 meV/force component =  12.126308097375059 %\n",
      "NG =  11\n",
      "coeff =  1e-11 1e-10\n",
      "RMSE energy =  3.1730166516557596 meV/atom\n",
      "RMSE forces =  88.72868934636568 meV/force component =  12.227988108632948 %\n",
      "NG =  12\n",
      "coeff =  1e-11 1e-09\n",
      "RMSE energy =  2.316818308299125 meV/atom\n",
      "RMSE forces =  98.5081353994266 meV/force component =  13.575725248973617 %\n",
      "NG =  13\n",
      "coeff =  1e-11 1e-08\n",
      "RMSE energy =  2.36185077806789 meV/atom\n",
      "RMSE forces =  103.36170908725714 meV/force component =  14.244611961674691 %\n",
      "NG =  14\n",
      "coeff =  1e-11 1e-07\n",
      "RMSE energy =  2.370812739095346 meV/atom\n",
      "RMSE forces =  103.56602996267452 meV/force component =  14.272770083397827 %\n",
      "NG =  15\n",
      "coeff =  1e-11 1e-06\n",
      "RMSE energy =  2.37152333762571 meV/atom\n",
      "RMSE forces =  103.57368576130979 meV/force component =  14.27382515380813 %\n",
      "NG =  16\n",
      "coeff =  1e-09 1e-13\n",
      "RMSE energy =  1160.1004912691124 meV/atom\n",
      "RMSE forces =  87.89413982212018 meV/force component =  12.112976135237252 %\n",
      "NG =  17\n",
      "coeff =  1e-09 1e-12\n",
      "RMSE energy =  1045.844477570638 meV/atom\n",
      "RMSE forces =  87.89443386210272 meV/force component =  12.113016657839765 %\n",
      "NG =  18\n",
      "coeff =  1e-09 1e-11\n",
      "RMSE energy =  96.98747955940465 meV/atom\n",
      "RMSE forces =  87.91513569230067 meV/force component =  12.115869644121341 %\n",
      "NG =  19\n",
      "coeff =  1e-09 1e-10\n",
      "RMSE energy =  13.371299696496967 meV/atom\n",
      "RMSE forces =  87.91925140665687 meV/force component =  12.11643684404931 %\n",
      "NG =  20\n",
      "coeff =  1e-09 1e-09\n",
      "RMSE energy =  6.884044744770952 meV/atom\n",
      "RMSE forces =  87.99087916438116 meV/force component =  12.126308097373945 %\n",
      "NG =  21\n",
      "coeff =  1e-09 1e-08\n",
      "RMSE energy =  3.1730166512188362 meV/atom\n",
      "RMSE forces =  88.72868934654883 meV/force component =  12.227988108658188 %\n",
      "NG =  22\n",
      "coeff =  1e-09 1e-07\n",
      "RMSE energy =  2.316818309771714 meV/atom\n",
      "RMSE forces =  98.5081354015073 meV/force component =  13.575725249260366 %\n",
      "NG =  23\n",
      "coeff =  1e-09 1e-06\n",
      "RMSE energy =  2.36185078079835 meV/atom\n",
      "RMSE forces =  103.36170909933858 meV/force component =  14.244611963339675 %\n",
      "NG =  24\n",
      "coeff =  1e-07 1e-13\n",
      "RMSE energy =  1161.3819374642617 meV/atom\n",
      "RMSE forces =  87.89413919986467 meV/force component =  12.112976049482201 %\n",
      "NG =  25\n",
      "coeff =  1e-07 1e-12\n",
      "RMSE energy =  1161.3692360133437 meV/atom\n",
      "RMSE forces =  87.89413920575224 meV/force component =  12.11297605029359 %\n",
      "NG =  26\n",
      "coeff =  1e-07 1e-11\n",
      "RMSE energy =  1160.1004912449441 meV/atom\n",
      "RMSE forces =  87.89413982212747 meV/force component =  12.112976135238256 %\n",
      "NG =  27\n",
      "coeff =  1e-07 1e-10\n",
      "RMSE energy =  1045.8444775648986 meV/atom\n",
      "RMSE forces =  87.89443386210722 meV/force component =  12.113016657840385 %\n",
      "NG =  28\n",
      "coeff =  1e-07 1e-09\n",
      "RMSE energy =  96.98747955524698 meV/atom\n",
      "RMSE forces =  87.91513569229625 meV/force component =  12.115869644120734 %\n",
      "NG =  29\n",
      "coeff =  1e-07 1e-08\n",
      "RMSE energy =  13.371299696408894 meV/atom\n",
      "RMSE forces =  87.91925140667016 meV/force component =  12.116436844051142 %\n",
      "NG =  30\n",
      "coeff =  1e-07 1e-07\n",
      "RMSE energy =  6.88404474452927 meV/atom\n",
      "RMSE forces =  87.99087916438629 meV/force component =  12.126308097374652 %\n",
      "NG =  31\n",
      "coeff =  1e-07 1e-06\n",
      "RMSE energy =  3.1730166511605318 meV/atom\n",
      "RMSE forces =  88.72868934650813 meV/force component =  12.227988108652578 %\n",
      "NG =  32\n",
      "coeff =  1e-05 1e-13\n",
      "RMSE energy =  1161.382065755087 meV/atom\n",
      "RMSE forces =  87.89413919983305 meV/force component =  12.112976049477846 %\n",
      "NG =  33\n",
      "coeff =  1e-05 1e-12\n",
      "RMSE energy =  1161.382064483465 meV/atom\n",
      "RMSE forces =  87.89413919981816 meV/force component =  12.112976049475794 %\n",
      "NG =  34\n",
      "coeff =  1e-05 1e-11\n",
      "RMSE energy =  1161.3819374499399 meV/atom\n",
      "RMSE forces =  87.89413919990439 meV/force component =  12.112976049487676 %\n",
      "NG =  35\n",
      "coeff =  1e-05 1e-10\n",
      "RMSE energy =  1161.369235991541 meV/atom\n",
      "RMSE forces =  87.89413920576793 meV/force component =  12.11297605029575 %\n",
      "NG =  36\n",
      "coeff =  1e-05 1e-09\n",
      "RMSE energy =  1160.1004912726742 meV/atom\n",
      "RMSE forces =  87.89413982211722 meV/force component =  12.112976135236844 %\n",
      "NG =  37\n",
      "coeff =  1e-05 1e-08\n",
      "RMSE energy =  1045.844477560132 meV/atom\n",
      "RMSE forces =  87.89443386209831 meV/force component =  12.113016657839157 %\n",
      "NG =  38\n",
      "coeff =  1e-05 1e-07\n",
      "RMSE energy =  96.98747956271603 meV/atom\n",
      "RMSE forces =  87.91513569229875 meV/force component =  12.115869644121076 %\n",
      "NG =  39\n",
      "coeff =  1e-05 1e-06\n",
      "RMSE energy =  13.371299696929034 meV/atom\n",
      "RMSE forces =  87.9192514065966 meV/force component =  12.116436844041006 %\n"
     ]
    }
   ],
   "source": [
    "ngj1 = [1.0e-5, 1.0e-4, 1.0e-3, 0.01, 0.1, 1.0]\n",
    "for ng in range(ngrid):\n",
    "    ee = []\n",
    "    eML =[]\n",
    "    for i,(s,e) in enumerate(zip(LiPSdataset,energiesXTB_mencoes)):\n",
    "        ee.append(e/len(s))\n",
    "        eML.append((baseline_energies[i,0,ng])/len(s))\n",
    "    \n",
    "    score = get_score(np.array(ee), np.array(eML))\n",
    "    RMSE_energy = score['RMSE']\n",
    "                      \n",
    "    score = get_score(np.array(baseline_forces[:,0,ng]), np.array(forcesXTB_fl))\n",
    "    RMSE_forces  = score['RMSE']\n",
    "    print(\"NG = \", ng)\n",
    "    print(\"coeff = \",l1[ng//len(l2)],l2[ng%len(l2)]) #ngj1[ng//len(ngj1)],ngj1[ng%len(ngj1)])\n",
    "    print(\"RMSE energy = \", RMSE_energy*1000.0, \"meV/atom\")\n",
    "    print(\"RMSE forces = \", RMSE_forces*1000.0, \"meV/force component = \", RMSE_forces/(sigma_forces)*100.0, \"%\")\n",
    "        "
   ]
  },
  {
   "cell_type": "code",
   "execution_count": 111,
   "metadata": {},
   "outputs": [
    {
     "data": {
      "text/plain": [
       "(array([-2.94817628, -3.8945988 , -4.62005974, ..., -4.82814233,\n",
       "        -0.92734313, -3.01980997]),\n",
       " array([-2.96216479, -3.84227633, -4.60679454, ..., -4.8240201 ,\n",
       "        -0.89100395, -2.98840966]))"
      ]
     },
     "execution_count": 111,
     "metadata": {},
     "output_type": "execute_result"
    }
   ],
   "source": [
    "energiesXTB_mencoes,baseline_energies[:,0,0]"
   ]
  },
  {
   "cell_type": "code",
   "execution_count": 112,
   "metadata": {},
   "outputs": [
    {
     "data": {
      "text/plain": [
       "(array([-0.24422215, -0.61802584, -0.31599886, ..., -0.64605472,\n",
       "         0.54912541,  0.14405762]),\n",
       " array([-0.20902235, -0.62584601, -0.33077285, ..., -0.6567388 ,\n",
       "         0.5897506 ,  0.14217168]))"
      ]
     },
     "execution_count": 112,
     "metadata": {},
     "output_type": "execute_result"
    }
   ],
   "source": [
    "forcesXTB_fl,baseline_forces[:,0,-1]"
   ]
  },
  {
   "cell_type": "code",
   "execution_count": 113,
   "metadata": {},
   "outputs": [
    {
     "data": {
      "text/plain": [
       "(array([-3876.11969571, -7750.23763767, -7750.96309861, ...,\n",
       "        -7751.1711812 , -3874.09886256, -3876.19132941]),\n",
       " array([-21.59851856, -40.51705385, -41.74328313, ..., -41.55206305,\n",
       "        -19.09454962, -21.52951111]))"
      ]
     },
     "execution_count": 113,
     "metadata": {},
     "output_type": "execute_result"
    }
   ],
   "source": [
    "energiesXTB,baseline_energies[:,0,32]"
   ]
  },
  {
   "cell_type": "code",
   "execution_count": 43,
   "metadata": {},
   "outputs": [
    {
     "name": "stderr",
     "output_type": "stream",
     "text": [
      "/home/tisi/anaconda3/envs/dftb+/lib/python3.10/site-packages/numpy/core/fromnumeric.py:3474: RuntimeWarning: Mean of empty slice.\n",
      "  return _methods._mean(a, axis=axis, dtype=dtype,\n",
      "/home/tisi/anaconda3/envs/dftb+/lib/python3.10/site-packages/numpy/core/_methods.py:189: RuntimeWarning: invalid value encountered in double_scalars\n",
      "  ret = ret.dtype.type(ret / rcount)\n"
     ]
    },
    {
     "ename": "ValueError",
     "evalue": "operands could not be broadcast together with shapes (1742,) (0,) ",
     "output_type": "error",
     "traceback": [
      "\u001b[0;31m---------------------------------------------------------------------------\u001b[0m",
      "\u001b[0;31mValueError\u001b[0m                                Traceback (most recent call last)",
      "Input \u001b[0;32mIn [43]\u001b[0m, in \u001b[0;36m<cell line: 1>\u001b[0;34m()\u001b[0m\n\u001b[1;32m     18\u001b[0m             Nbeta211\u001b[38;5;241m+\u001b[39m\u001b[38;5;241m=\u001b[39m\u001b[38;5;241m1\u001b[39m\n\u001b[1;32m     20\u001b[0m \u001b[38;5;66;03m#     print(Nbeta, Nbeta211, Ngamma)\u001b[39;00m\n\u001b[1;32m     21\u001b[0m \u001b[38;5;66;03m#     print(Nbeta + Nbeta211 + Ngamma)\u001b[39;00m\n\u001b[0;32m---> 23\u001b[0m     score_beta \u001b[38;5;241m=\u001b[39m \u001b[43mget_score\u001b[49m\u001b[43m(\u001b[49m\u001b[43mnp\u001b[49m\u001b[38;5;241;43m.\u001b[39;49m\u001b[43marray\u001b[49m\u001b[43m(\u001b[49m\u001b[43mbaseline_en_beta\u001b[49m\u001b[43m)\u001b[49m\u001b[38;5;241;43m-\u001b[39;49m\u001b[43mnp\u001b[49m\u001b[38;5;241;43m.\u001b[39;49m\u001b[43mmean\u001b[49m\u001b[43m(\u001b[49m\u001b[43mbaseline_en_beta\u001b[49m\u001b[43m)\u001b[49m\u001b[43m,\u001b[49m\u001b[43m \u001b[49m\u001b[43mnp\u001b[49m\u001b[38;5;241;43m.\u001b[39;49m\u001b[43marray\u001b[49m\u001b[43m(\u001b[49m\u001b[43menergiesXTB_beta\u001b[49m\u001b[43m)\u001b[49m\u001b[38;5;241;43m-\u001b[39;49m\u001b[43mnp\u001b[49m\u001b[38;5;241;43m.\u001b[39;49m\u001b[43mmean\u001b[49m\u001b[43m(\u001b[49m\u001b[43menergiesXTB_beta\u001b[49m\u001b[43m)\u001b[49m\u001b[43m)\u001b[49m\n\u001b[1;32m     24\u001b[0m \u001b[38;5;66;03m#     print(score_beta)\u001b[39;00m\n\u001b[1;32m     25\u001b[0m     RMSE_beta \u001b[38;5;241m=\u001b[39m score_beta[\u001b[38;5;124m'\u001b[39m\u001b[38;5;124mRMSE\u001b[39m\u001b[38;5;124m'\u001b[39m]\n",
      "File \u001b[0;32m~/anaconda3/envs/dftb+/lib/python3.10/site-packages/rascal/utils/scorer.py:39\u001b[0m, in \u001b[0;36mget_score\u001b[0;34m(ypred, y, score_func)\u001b[0m\n\u001b[1;32m     37\u001b[0m scores \u001b[38;5;241m=\u001b[39m {}\n\u001b[1;32m     38\u001b[0m \u001b[38;5;28;01mfor\u001b[39;00m k, func \u001b[38;5;129;01min\u001b[39;00m score_func\u001b[38;5;241m.\u001b[39mitems():\n\u001b[0;32m---> 39\u001b[0m     scores[k] \u001b[38;5;241m=\u001b[39m \u001b[43mfunc\u001b[49m\u001b[43m(\u001b[49m\u001b[43mypred\u001b[49m\u001b[43m,\u001b[49m\u001b[43m \u001b[49m\u001b[43my\u001b[49m\u001b[43m)\u001b[49m\n\u001b[1;32m     40\u001b[0m \u001b[38;5;28;01mreturn\u001b[39;00m scores\n",
      "File \u001b[0;32m~/anaconda3/envs/dftb+/lib/python3.10/site-packages/rascal/utils/scorer.py:17\u001b[0m, in \u001b[0;36mget_mae\u001b[0;34m(ypred, y)\u001b[0m\n\u001b[1;32m     16\u001b[0m \u001b[38;5;28;01mdef\u001b[39;00m \u001b[38;5;21mget_mae\u001b[39m(ypred, y):\n\u001b[0;32m---> 17\u001b[0m     \u001b[38;5;28;01mreturn\u001b[39;00m np\u001b[38;5;241m.\u001b[39mmean(np\u001b[38;5;241m.\u001b[39mabs(\u001b[43mypred\u001b[49m\u001b[43m \u001b[49m\u001b[38;5;241;43m-\u001b[39;49m\u001b[43m \u001b[49m\u001b[43my\u001b[49m))\n",
      "\u001b[0;31mValueError\u001b[0m: operands could not be broadcast together with shapes (1742,) (0,) "
     ]
    }
   ],
   "source": [
    "for ng in range(36):\n",
    "    Nbeta = 0\n",
    "    Nbeta211 = 0\n",
    "    Ngamma = 0\n",
    "    baseline_en_beta = []\n",
    "    baseline_en_beta211 = []\n",
    "    baseline_en_gamma = []\n",
    "    for i in range(Ndataset):\n",
    "        #print(energies[i], Natoms[i])\n",
    "        if(energiesXTB[i]  > -3900.0):\n",
    "            baseline_en_gamma.append(baseline_energies[i, 0, ng])\n",
    "            Ngamma+=1\n",
    "        if(energiesXTB[i]  >= -8000.0 and energiesXTB[i] <= -7000.0):\n",
    "            baseline_en_beta.append(baseline_energies[i, 0, ng])\n",
    "            Nbeta+=1\n",
    "        if(energiesXTB[i]  <= -15000.0):\n",
    "            baseline_en_beta211.append(baseline_energies[i, 0, ng]/2.0)\n",
    "            Nbeta211+=1\n",
    "\n",
    "#     print(Nbeta, Nbeta211, Ngamma)\n",
    "#     print(Nbeta + Nbeta211 + Ngamma)\n",
    "\n",
    "    score_beta = get_score(np.array(baseline_en_beta)-np.mean(baseline_en_beta), np.array(energiesXTB_beta)-np.mean(energiesXTB_beta))\n",
    "#     print(score_beta)\n",
    "    RMSE_beta = score_beta['RMSE']\n",
    "\n",
    "    score_gamma = get_score(np.array(baseline_en_gamma)-np.mean(baseline_en_gamma), np.array(energiesXTB_gamma)-np.mean(energiesXTB_gamma))\n",
    "#     print(score_gamma)\n",
    "    RMSE_gamma = score_gamma['RMSE']\n",
    "\n",
    "    score_forces = get_score(np.array(baseline_forces[:,0,ng]), np.array(forcesXTB_fl))\n",
    "#     print(score_gamma)\n",
    "    RMSE_forces = score_forces['RMSE']\n",
    "    print(\"NG = \", ng)\n",
    "    print(\"RMSE beta = \", RMSE_beta*1000.0/(32.0), \"meV/atom\")\n",
    "    print(\"RMSE gamma = \", RMSE_gamma*1000.0/(16.0), \"meV/atom\")\n",
    "    print(\"RMSE forces = \", RMSE_forces*1000.0, \"meV/force component = \", RMSE_forces/(sigma_forces)*100.0, \"%\")"
   ]
  },
  {
   "cell_type": "code",
   "execution_count": 45,
   "metadata": {
    "scrolled": true
   },
   "outputs": [
    {
     "ename": "ValueError",
     "evalue": "zero-size array to reduction operation minimum which has no identity",
     "output_type": "error",
     "traceback": [
      "\u001b[0;31m---------------------------------------------------------------------------\u001b[0m",
      "\u001b[0;31mValueError\u001b[0m                                Traceback (most recent call last)",
      "Input \u001b[0;32mIn [45]\u001b[0m, in \u001b[0;36m<cell line: 8>\u001b[0;34m()\u001b[0m\n\u001b[1;32m      5\u001b[0m fig\u001b[38;5;241m.\u001b[39mtight_layout()\n\u001b[1;32m      7\u001b[0m ax[\u001b[38;5;241m0\u001b[39m]\u001b[38;5;241m.\u001b[39mset_title(\u001b[38;5;124mr\u001b[39m\u001b[38;5;124m\"\u001b[39m\u001b[38;5;124m$\u001b[39m\u001b[38;5;124m\\\u001b[39m\u001b[38;5;124mbeta$\u001b[39m\u001b[38;5;124m\"\u001b[39m, fontsize\u001b[38;5;241m=\u001b[39m\u001b[38;5;241m40\u001b[39m, weight\u001b[38;5;241m=\u001b[39m\u001b[38;5;124m'\u001b[39m\u001b[38;5;124mbold\u001b[39m\u001b[38;5;124m'\u001b[39m)\n\u001b[0;32m----> 8\u001b[0m xbeta \u001b[38;5;241m=\u001b[39m np\u001b[38;5;241m.\u001b[39mlinspace(\u001b[43mnp\u001b[49m\u001b[38;5;241;43m.\u001b[39;49m\u001b[43mmin\u001b[49m\u001b[43m(\u001b[49m\u001b[43menergiesXTB_beta\u001b[49m\u001b[43m)\u001b[49m\u001b[38;5;241m-\u001b[39mnp\u001b[38;5;241m.\u001b[39mmean(energiesXTB_beta), np\u001b[38;5;241m.\u001b[39mmax(energiesXTB_beta)\u001b[38;5;241m-\u001b[39mnp\u001b[38;5;241m.\u001b[39mmean(energiesXTB_beta), \u001b[38;5;241m100\u001b[39m)\n\u001b[1;32m      9\u001b[0m ybeta\u001b[38;5;241m=\u001b[39mxbeta\n\u001b[1;32m     10\u001b[0m ax[\u001b[38;5;241m0\u001b[39m]\u001b[38;5;241m.\u001b[39mset_ylabel(\u001b[38;5;124mr\u001b[39m\u001b[38;5;124m\"\u001b[39m\u001b[38;5;124mbaseline energiesXTB (eV)\u001b[39m\u001b[38;5;124m\"\u001b[39m)\n",
      "File \u001b[0;32m<__array_function__ internals>:5\u001b[0m, in \u001b[0;36mamin\u001b[0;34m(*args, **kwargs)\u001b[0m\n",
      "File \u001b[0;32m~/anaconda3/lib/python3.9/site-packages/numpy/core/fromnumeric.py:2879\u001b[0m, in \u001b[0;36mamin\u001b[0;34m(a, axis, out, keepdims, initial, where)\u001b[0m\n\u001b[1;32m   2763\u001b[0m \u001b[38;5;129m@array_function_dispatch\u001b[39m(_amin_dispatcher)\n\u001b[1;32m   2764\u001b[0m \u001b[38;5;28;01mdef\u001b[39;00m \u001b[38;5;21mamin\u001b[39m(a, axis\u001b[38;5;241m=\u001b[39m\u001b[38;5;28;01mNone\u001b[39;00m, out\u001b[38;5;241m=\u001b[39m\u001b[38;5;28;01mNone\u001b[39;00m, keepdims\u001b[38;5;241m=\u001b[39mnp\u001b[38;5;241m.\u001b[39m_NoValue, initial\u001b[38;5;241m=\u001b[39mnp\u001b[38;5;241m.\u001b[39m_NoValue,\n\u001b[1;32m   2765\u001b[0m          where\u001b[38;5;241m=\u001b[39mnp\u001b[38;5;241m.\u001b[39m_NoValue):\n\u001b[1;32m   2766\u001b[0m     \u001b[38;5;124;03m\"\"\"\u001b[39;00m\n\u001b[1;32m   2767\u001b[0m \u001b[38;5;124;03m    Return the minimum of an array or minimum along an axis.\u001b[39;00m\n\u001b[1;32m   2768\u001b[0m \n\u001b[0;32m   (...)\u001b[0m\n\u001b[1;32m   2877\u001b[0m \u001b[38;5;124;03m    6\u001b[39;00m\n\u001b[1;32m   2878\u001b[0m \u001b[38;5;124;03m    \"\"\"\u001b[39;00m\n\u001b[0;32m-> 2879\u001b[0m     \u001b[38;5;28;01mreturn\u001b[39;00m \u001b[43m_wrapreduction\u001b[49m\u001b[43m(\u001b[49m\u001b[43ma\u001b[49m\u001b[43m,\u001b[49m\u001b[43m \u001b[49m\u001b[43mnp\u001b[49m\u001b[38;5;241;43m.\u001b[39;49m\u001b[43mminimum\u001b[49m\u001b[43m,\u001b[49m\u001b[43m \u001b[49m\u001b[38;5;124;43m'\u001b[39;49m\u001b[38;5;124;43mmin\u001b[39;49m\u001b[38;5;124;43m'\u001b[39;49m\u001b[43m,\u001b[49m\u001b[43m \u001b[49m\u001b[43maxis\u001b[49m\u001b[43m,\u001b[49m\u001b[43m \u001b[49m\u001b[38;5;28;43;01mNone\u001b[39;49;00m\u001b[43m,\u001b[49m\u001b[43m \u001b[49m\u001b[43mout\u001b[49m\u001b[43m,\u001b[49m\n\u001b[1;32m   2880\u001b[0m \u001b[43m                          \u001b[49m\u001b[43mkeepdims\u001b[49m\u001b[38;5;241;43m=\u001b[39;49m\u001b[43mkeepdims\u001b[49m\u001b[43m,\u001b[49m\u001b[43m \u001b[49m\u001b[43minitial\u001b[49m\u001b[38;5;241;43m=\u001b[39;49m\u001b[43minitial\u001b[49m\u001b[43m,\u001b[49m\u001b[43m \u001b[49m\u001b[43mwhere\u001b[49m\u001b[38;5;241;43m=\u001b[39;49m\u001b[43mwhere\u001b[49m\u001b[43m)\u001b[49m\n",
      "File \u001b[0;32m~/anaconda3/lib/python3.9/site-packages/numpy/core/fromnumeric.py:86\u001b[0m, in \u001b[0;36m_wrapreduction\u001b[0;34m(obj, ufunc, method, axis, dtype, out, **kwargs)\u001b[0m\n\u001b[1;32m     83\u001b[0m         \u001b[38;5;28;01melse\u001b[39;00m:\n\u001b[1;32m     84\u001b[0m             \u001b[38;5;28;01mreturn\u001b[39;00m reduction(axis\u001b[38;5;241m=\u001b[39maxis, out\u001b[38;5;241m=\u001b[39mout, \u001b[38;5;241m*\u001b[39m\u001b[38;5;241m*\u001b[39mpasskwargs)\n\u001b[0;32m---> 86\u001b[0m \u001b[38;5;28;01mreturn\u001b[39;00m \u001b[43mufunc\u001b[49m\u001b[38;5;241;43m.\u001b[39;49m\u001b[43mreduce\u001b[49m\u001b[43m(\u001b[49m\u001b[43mobj\u001b[49m\u001b[43m,\u001b[49m\u001b[43m \u001b[49m\u001b[43maxis\u001b[49m\u001b[43m,\u001b[49m\u001b[43m \u001b[49m\u001b[43mdtype\u001b[49m\u001b[43m,\u001b[49m\u001b[43m \u001b[49m\u001b[43mout\u001b[49m\u001b[43m,\u001b[49m\u001b[43m \u001b[49m\u001b[38;5;241;43m*\u001b[39;49m\u001b[38;5;241;43m*\u001b[39;49m\u001b[43mpasskwargs\u001b[49m\u001b[43m)\u001b[49m\n",
      "\u001b[0;31mValueError\u001b[0m: zero-size array to reduction operation minimum which has no identity"
     ]
    },
    {
     "data": {
      "image/png": "[encoded data removed]",
      "text/plain": [
       "<Figure size 1152x576 with 2 Axes>"
      ]
     },
     "metadata": {
      "needs_background": "light"
     },
     "output_type": "display_data"
    }
   ],
   "source": [
    "plt.rcParams[\"figure.figsize\"] = (16, 8)\n",
    "plt.rcParams[\"font.size\"] = 25\n",
    "\n",
    "fig, ax = plt.subplots(nrows=1, ncols=2)\n",
    "fig.tight_layout()\n",
    "\n",
    "ax[0].set_title(r\"$\\beta$\", fontsize=40, weight='bold')\n",
    "xbeta = np.linspace(np.min(energiesXTB_beta)-np.mean(energiesXTB_beta), np.max(energiesXTB_beta)-np.mean(energiesXTB_beta), 100)\n",
    "ybeta=xbeta\n",
    "ax[0].set_ylabel(r\"baseline energiesXTB (eV)\")\n",
    "ax[0].set_xlabel(r\"DFT energiesXTB (eV)\")\n",
    "ax[0].set_ylim(np.min(energiesXTB_beta)-np.mean(energiesXTB_beta), np.max(energiesXTB_beta)-np.mean(energiesXTB_beta))\n",
    "ax[0].set_xlim(np.min(energiesXTB_beta)-np.mean(energiesXTB_beta), np.max(energiesXTB_beta)-np.mean(energiesXTB_beta))\n",
    "ax[0].plot(xbeta, ybeta, color='red', linestyle='--', linewidth=4.0)\n",
    "en_beta211 = np.array([e/2.0 for e in energiesXTB_beta211])\n",
    "ax[0].scatter(energiesXTB_beta-np.mean(energiesXTB_beta), baseline_en_beta-np.mean(baseline_en_beta), s=20.0, label='32 atoms')\n",
    "ax[0].scatter(energiesXTB_beta211-np.mean(energiesXTB_beta211), baseline_en_beta211-np.mean(baseline_en_beta211), s=50.0, color = 'orange', label='64 atoms')\n",
    "ax[0].legend()\n",
    "\n",
    "ax[1].set_title(r\"$\\gamma$\", fontsize=40, weight='bold')\n",
    "xgamma = np.linspace(np.min(energiesXTB_gamma)-np.mean(energiesXTB_gamma), np.max(energiesXTB_gamma)-np.mean(energiesXTB_gamma),100)\n",
    "ygamma=xgamma\n",
    "\n",
    "ax[1].set_ylim(np.min(energiesXTB_gamma)-np.mean(energiesXTB_gamma), np.max(energiesXTB_gamma)-np.mean(energiesXTB_gamma))\n",
    "ax[1].set_xlim(np.min(energiesXTB_gamma)-np.mean(energiesXTB_gamma), np.max(energiesXTB_gamma)-np.mean(energiesXTB_gamma))\n",
    "ax[1].plot(xgamma, ygamma, color='red', linestyle='--', linewidth=4.0)\n",
    "ax[1].scatter(energiesXTB_gamma-np.mean(energiesXTB_gamma), baseline_en_gamma-np.mean(baseline_en_gamma), s=20.0)\n",
    "\n",
    "\n",
    "fig.subplots_adjust(wspace=0.25)\n",
    "plt.show()"
   ]
  },
  {
   "cell_type": "code",
   "execution_count": 117,
   "metadata": {},
   "outputs": [
    {
     "data": {
      "text/plain": [
       "<matplotlib.collections.PathCollection at 0x7f524a134820>"
      ]
     },
     "execution_count": 117,
     "metadata": {},
     "output_type": "execute_result"
    },
    {
     "data": {
      "image/png": "[encoded data removed]",
      "text/plain": [
       "<Figure size 576x576 with 1 Axes>"
      ]
     },
     "metadata": {
      "needs_background": "light"
     },
     "output_type": "display_data"
    }
   ],
   "source": [
    "plt.rcParams[\"figure.figsize\"] = (8, 8)\n",
    "plt.rcParams[\"font.size\"] = 16\n",
    "plt.xlabel(r\"XTB force components ($eV/\\AA$)\")\n",
    "plt.ylabel(\"baseline force components ($eV/\\AA$)\")\n",
    "x = np.linspace(-8.0,8.0,100)\n",
    "y = x\n",
    "plt.plot(x, y, color='red', linestyle='--')\n",
    "#plt.plot(f_test_fl, GAP_for_test_fl)\n",
    "plt.xlim(-6.0, 6.0)\n",
    "plt.ylim(-6.0, 6.0)\n",
    "plt.scatter(baseline_forces[:,0,31], forcesXTB_fl[:], s=5.0)"
   ]
  },
  {
   "cell_type": "markdown",
   "metadata": {
    "heading_collapsed": true
   },
   "source": [
    "# Training a committee on top of a ML baseline"
   ]
  },
  {
   "cell_type": "code",
   "execution_count": 228,
   "metadata": {
    "hidden": true
   },
   "outputs": [
    {
     "name": "stdout",
     "output_type": "stream",
     "text": [
      "(816, 1000) (10, 1000) (1500,) (128064,) 816\n",
      "(2112, 1000) (25, 1000) (1500,) (128064,) 2112\n",
      "(4272, 1000) (50, 1000) (1500,) (128064,) 4272\n",
      "(8448, 1000) (100, 1000) (1500,) (128064,) 8448\n",
      "(16608, 1000) (200, 1000) (1500,) (128064,) 16608\n",
      "(34128, 1000) (400, 1000) (1500,) (128064,) 34128\n",
      "(67776, 1000) (800, 1000) (1500,) (128064,) 67776\n",
      "(128064, 1000) (1500, 1000) (1500,) (128064,) 128064\n"
     ]
    }
   ],
   "source": [
    "ntraining = [10, 25, 50, 100, 200, 400, 800, 1500]\n",
    "Nkvalidation = 1\n",
    "ntrain = 1500\n",
    "ids_validation = []\n",
    "models = []\n",
    "baseline = []\n",
    "\n",
    "\n",
    "for k in range(Nkvalidation):\n",
    "    ids = list(range(Ndataset))\n",
    "    np.random.seed(20+k)\n",
    "    np.random.shuffle(ids)\n",
    "    ids_validation.append(ids)\n",
    "    train_ids = [int(i) for i in ids[:ntrain]]\n",
    "    frames_train = [LiPSdataset[ii] for ii in train_ids]\n",
    "\n",
    "    en_train = [energiesXTB[ii] for ii in train_ids]\n",
    "    en_train = np.array(en_train)\n",
    "\n",
    "    f_train = [forcesXTB[ii] for ii in train_ids]\n",
    "    f_train = np.array(f_train, dtype='object')\n",
    "    f_train_fl = np.concatenate(f_train).ravel()\n",
    "    #f_test_fl = np.concatenate(f_test).ravel()\n",
    "    for nn in ntraining: \n",
    "        KnM_energies = np.array([KNM_base[ii,:] for ii in train_ids[:nn]])\n",
    "        KnM_gradients = []\n",
    "\n",
    "        for ii in train_ids[:nn]:\n",
    "            ntotatoms_prec_ii=0\n",
    "            for i, f in enumerate(LiPSdataset[:ii]):\n",
    "                ntotatoms_prec_ii+=f.get_global_number_of_atoms()\n",
    "\n",
    "            ntotatoms_ii = LiPSdataset[ii].get_global_number_of_atoms()\n",
    "            Init = Ndataset + ntotatoms_prec_ii*3\n",
    "            for ll in range(Init, Init+3*ntotatoms_ii): \n",
    "                KnM_gradients.append(KNM_base[ll, :])\n",
    "\n",
    "        KnM_gradients = np.array(KnM_gradients)\n",
    "        print(KnM_gradients.shape, KnM_energies.shape, en_train.shape, f_train_fl.shape, len(KnM_gradients[:, 0]))\n",
    "        KnM = np.vstack([KnM_energies, KnM_gradients])\n",
    "        baseline.append(train_gap_model(kernel_base, frames_train[:nn], KnM, X_sparse_baseline, en_train[:nn], energy_baseline_lstsq, \n",
    "                            grad_train=-f_train_fl[:len(KnM_gradients[:, 0])], \n",
    "                            lambdas=[1.0e-5*sigma_energies, 1.0e-5*sigma_forces], jitter=1e-13))"
   ]
  },
  {
   "cell_type": "code",
   "execution_count": 229,
   "metadata": {
    "hidden": true
   },
   "outputs": [],
   "source": [
    "baseline_energies = np.zeros((Ndataset, len(ntraining), Nkvalidation), dtype='float')\n",
    "baseline_forces = np.zeros((len(forces_fl), len(ntraining), Nkvalidation), dtype='float')"
   ]
  },
  {
   "cell_type": "code",
   "execution_count": 230,
   "metadata": {
    "hidden": true
   },
   "outputs": [
    {
     "data": {
      "application/vnd.jupyter.widget-view+json": {
       "model_id": "080d5db6fe674a8ca8ec09a81997b64f",
       "version_major": 2,
       "version_minor": 0
      },
      "text/plain": [
       "  0%|          | 0/1690 [00:00<?, ?it/s]"
      ]
     },
     "metadata": {},
     "output_type": "display_data"
    }
   ],
   "source": [
    "i = 0\n",
    "iforce = 0\n",
    "for f in tqdm(LiPSdataset): \n",
    "    f.wrap(eps=1e-18)\n",
    "    m = repr_bas_fsparse.transform(f)\n",
    "    for k in range(Nkvalidation):\n",
    "        for j, bmodel in enumerate(baseline[k*len(ntraining):(k+1)*len(ntraining)]):\n",
    "            baseline_energies[i, j, k] = bmodel.predict(m)\n",
    "            forces_tmp = bmodel.predict_forces(m)\n",
    "            forces_tmp_fl = np.concatenate(forces_tmp).ravel()\n",
    "            for l in range(iforce, iforce+len(forces_tmp_fl)):\n",
    "                baseline_forces[l, j, k] = forces_tmp_fl[l-iforce]\n",
    "    iforce += len(forces_tmp_fl)\n",
    "    i += 1  "
   ]
  },
  {
   "cell_type": "code",
   "execution_count": 92,
   "metadata": {
    "hidden": true
   },
   "outputs": [
    {
     "ename": "NameError",
     "evalue": "name 'baseline_energies' is not defined",
     "output_type": "error",
     "traceback": [
      "\u001b[0;31m---------------------------------------------------------------------------\u001b[0m",
      "\u001b[0;31mNameError\u001b[0m                                 Traceback (most recent call last)",
      "Input \u001b[0;32mIn [92]\u001b[0m, in \u001b[0;36m<cell line: 2>\u001b[0;34m()\u001b[0m\n\u001b[1;32m      1\u001b[0m rcut8_param \u001b[38;5;241m=\u001b[39m{\n\u001b[1;32m      2\u001b[0m     \u001b[38;5;124m'\u001b[39m\u001b[38;5;124mrepr_bas_fsparse\u001b[39m\u001b[38;5;124m'\u001b[39m:repr_bas_fsparse,\n\u001b[0;32m----> 3\u001b[0m     \u001b[38;5;124m'\u001b[39m\u001b[38;5;124mbaseline_energies\u001b[39m\u001b[38;5;124m'\u001b[39m:\u001b[43mbaseline_energies\u001b[49m,\n\u001b[1;32m      4\u001b[0m     \u001b[38;5;124m'\u001b[39m\u001b[38;5;124mbaseline_forces\u001b[39m\u001b[38;5;124m'\u001b[39m:baseline_force,\n\u001b[1;32m      5\u001b[0m     \u001b[38;5;124m'\u001b[39m\u001b[38;5;124mKnM\u001b[39m\u001b[38;5;124m'\u001b[39m:KnM,\n\u001b[1;32m      6\u001b[0m     \u001b[38;5;124m'\u001b[39m\u001b[38;5;124mKnM_gradients\u001b[39m\u001b[38;5;124m'\u001b[39m:KnM_gradients,\n\u001b[1;32m      7\u001b[0m     \u001b[38;5;124m'\u001b[39m\u001b[38;5;124mKNM_base\u001b[39m\u001b[38;5;124m'\u001b[39m:KNM_base,\n\u001b[1;32m      8\u001b[0m     \u001b[38;5;124m'\u001b[39m\u001b[38;5;124mkernel_base\u001b[39m\u001b[38;5;124m'\u001b[39m:kernel_base,\n\u001b[1;32m      9\u001b[0m     \u001b[38;5;124m'\u001b[39m\u001b[38;5;124mbmodel\u001b[39m\u001b[38;5;124m'\u001b[39m:bmodel\n\u001b[1;32m     10\u001b[0m     \n\u001b[1;32m     11\u001b[0m }\n",
      "\u001b[0;31mNameError\u001b[0m: name 'baseline_energies' is not defined"
     ]
    }
   ],
   "source": []
  },
  {
   "cell_type": "code",
   "execution_count": 93,
   "metadata": {
    "hidden": true
   },
   "outputs": [
    {
     "ename": "NameError",
     "evalue": "name 'baseline_forces' is not defined",
     "output_type": "error",
     "traceback": [
      "\u001b[0;31m---------------------------------------------------------------------------\u001b[0m",
      "\u001b[0;31mNameError\u001b[0m                                 Traceback (most recent call last)",
      "Input \u001b[0;32mIn [93]\u001b[0m, in \u001b[0;36m<cell line: 1>\u001b[0;34m()\u001b[0m\n\u001b[0;32m----> 1\u001b[0m \u001b[43mbaseline_forces\u001b[49m\u001b[38;5;241m.\u001b[39mshape\n",
      "\u001b[0;31mNameError\u001b[0m: name 'baseline_forces' is not defined"
     ]
    }
   ],
   "source": [
    "baseline_forces.shape"
   ]
  },
  {
   "cell_type": "code",
   "execution_count": 232,
   "metadata": {
    "hidden": true
   },
   "outputs": [
    {
     "name": "stdout",
     "output_type": "stream",
     "text": [
      "RMSE beta =  4.748044171227885 meV/atom\n",
      "RMSE gamma =  3.892714473062788 meV/atom\n",
      "RMSE forces =  116.3471714776264 meV/force component =  16.636678497466047 %\n"
     ]
    }
   ],
   "source": [
    "Nbeta = 0\n",
    "Nbeta211 = 0\n",
    "Ngamma = 0\n",
    "baseline_en_beta = []\n",
    "baseline_en_beta211 = []\n",
    "baseline_en_gamma = []\n",
    "for i in range(Ndataset):\n",
    "    if(energies[i] > -3900.0):\n",
    "        baseline_en_gamma.append(baseline_energies[i, 7, 0])\n",
    "        Ngamma+=1\n",
    "    if(energies[i] >= -8000.0 and energies[i] <= -7000.0):\n",
    "        baseline_en_beta.append(baseline_energies[i, 7, 0])\n",
    "        Nbeta+=1\n",
    "    if(energies[i] <= -15000.0):\n",
    "        baseline_en_beta211.append(baseline_energies[i, 7, 0]/2.0)\n",
    "        Nbeta211+=1\n",
    "\n",
    "\n",
    "score_beta = get_score(np.array(baseline_en_beta)-np.mean(baseline_en_beta), np.array(energiesXTB_beta)-np.mean(energiesXTB_beta))\n",
    "RMSE_beta = score_beta['RMSE']\n",
    "\n",
    "score_gamma = get_score(np.array(baseline_en_gamma)-np.mean(baseline_en_gamma), np.array(energiesXTB_gamma)-np.mean(energiesXTB_gamma))\n",
    "RMSE_gamma = score_gamma['RMSE']\n",
    "\n",
    "score_forces = get_score(np.array(baseline_forces[:,7,0]), np.array(forcesXTB_fl))\n",
    "RMSE_forces = score_forces['RMSE']\n",
    "print(\"RMSE beta = \", RMSE_beta*1000.0/(32.0), \"meV/atom\")\n",
    "print(\"RMSE gamma = \", RMSE_gamma*1000.0/(16.0), \"meV/atom\")\n",
    "print(\"RMSE forces = \", RMSE_forces*1000.0, \"meV/force component = \", RMSE_forces/(sigma_forces)*100.0, \"%\")"
   ]
  },
  {
   "cell_type": "code",
   "execution_count": 233,
   "metadata": {
    "hidden": true,
    "scrolled": true
   },
   "outputs": [
    {
     "data": {
      "image/png": "[encoded data removed]",
      "text/plain": [
       "<Figure size 1152x576 with 2 Axes>"
      ]
     },
     "metadata": {
      "needs_background": "light"
     },
     "output_type": "display_data"
    }
   ],
   "source": [
    "plt.rcParams[\"figure.figsize\"] = (16, 8)\n",
    "plt.rcParams[\"font.size\"] = 25\n",
    "\n",
    "fig, ax = plt.subplots(nrows=1, ncols=2)\n",
    "fig.tight_layout()\n",
    "\n",
    "ax[0].set_title(r\"$\\beta$\", fontsize=40, weight='bold')\n",
    "xbeta = np.linspace(np.min(energiesXTB_beta)-np.mean(energiesXTB_beta), np.max(energiesXTB_beta)-np.mean(energiesXTB_beta), 100)\n",
    "ybeta=xbeta\n",
    "ax[0].set_ylabel(r\"baseline energiesXTB (eV)\")\n",
    "ax[0].set_xlabel(r\"DFT energiesXTB (eV)\")\n",
    "ax[0].set_ylim(np.min(energiesXTB_beta)-np.mean(energiesXTB_beta), np.max(energiesXTB_beta)-np.mean(energiesXTB_beta))\n",
    "ax[0].set_xlim(np.min(energiesXTB_beta)-np.mean(energiesXTB_beta), np.max(energiesXTB_beta)-np.mean(energiesXTB_beta))\n",
    "ax[0].plot(xbeta, ybeta, color='red', linestyle='--', linewidth=4.0)\n",
    "en_beta211 = np.array([e/2.0 for e in energiesXTB_beta211])\n",
    "ax[0].scatter(energiesXTB_beta-np.mean(energiesXTB_beta), baseline_en_beta-np.mean(baseline_en_beta), s=20.0, label='32 atoms')\n",
    "ax[0].scatter(energiesXTB_beta211-np.mean(energiesXTB_beta211), baseline_en_beta211-np.mean(baseline_en_beta211), s=50.0, color = 'orange', label='64 atoms')\n",
    "ax[0].legend()\n",
    "\n",
    "ax[1].set_title(r\"$\\gamma$\", fontsize=40, weight='bold')\n",
    "xgamma = np.linspace(np.min(energiesXTB_gamma)-np.mean(energiesXTB_gamma), np.max(energiesXTB_gamma)-np.mean(energiesXTB_gamma),100)\n",
    "ygamma=xgamma\n",
    "\n",
    "ax[1].set_ylim(np.min(energiesXTB_gamma)-np.mean(energiesXTB_gamma), np.max(energiesXTB_gamma)-np.mean(energiesXTB_gamma))\n",
    "ax[1].set_xlim(np.min(energiesXTB_gamma)-np.mean(energiesXTB_gamma), np.max(energiesXTB_gamma)-np.mean(energiesXTB_gamma))\n",
    "ax[1].plot(xgamma, ygamma, color='red', linestyle='--', linewidth=4.0)\n",
    "ax[1].scatter(energiesXTB_gamma-np.mean(energiesXTB_gamma), baseline_en_gamma-np.mean(baseline_en_gamma), s=20.0)\n",
    "\n",
    "\n",
    "fig.subplots_adjust(wspace=0.25)\n",
    "plt.show()"
   ]
  },
  {
   "cell_type": "code",
   "execution_count": 234,
   "metadata": {
    "hidden": true
   },
   "outputs": [
    {
     "data": {
      "text/plain": [
       "<matplotlib.collections.PathCollection at 0x7f3003cd0c40>"
      ]
     },
     "execution_count": 234,
     "metadata": {},
     "output_type": "execute_result"
    },
    {
     "data": {
      "image/png": "[encoded data removed]",
      "text/plain": [
       "<Figure size 576x576 with 1 Axes>"
      ]
     },
     "metadata": {
      "needs_background": "light"
     },
     "output_type": "display_data"
    }
   ],
   "source": [
    "plt.rcParams[\"figure.figsize\"] = (8, 8)\n",
    "plt.rcParams[\"font.size\"] = 16\n",
    "plt.xlabel(r\"XTB force components ($eV/\\AA$)\")\n",
    "plt.ylabel(\"baseline force components ($eV/\\AA$)\")\n",
    "x = np.linspace(-8.0,8.0,100)\n",
    "y = x\n",
    "plt.plot(x, y, color='red', linestyle='--')\n",
    "#plt.plot(f_test_fl, GAP_for_test_fl)\n",
    "plt.xlim(-6.0, 6.0)\n",
    "plt.ylim(-6.0, 6.0)\n",
    "plt.scatter(baseline_forces[:,7,0], forcesXTB_fl[:], s=5.0)"
   ]
  },
  {
   "cell_type": "code",
   "execution_count": 235,
   "metadata": {
    "hidden": true
   },
   "outputs": [],
   "source": [
    "RMSE_energies = np.zeros((len(ntraining), Nkvalidation), dtype='float')\n",
    "RMSE_forces = np.zeros((len(ntraining), Nkvalidation), dtype='float')"
   ]
  },
  {
   "cell_type": "code",
   "execution_count": 236,
   "metadata": {
    "hidden": true
   },
   "outputs": [
    {
     "name": "stdout",
     "output_type": "stream",
     "text": [
      "1\n"
     ]
    }
   ],
   "source": [
    "print(len(ids_validation))\n",
    "ids_validation = np.array(ids_validation)"
   ]
  },
  {
   "cell_type": "code",
   "execution_count": 237,
   "metadata": {
    "hidden": true
   },
   "outputs": [],
   "source": [
    "for k in range(Nkvalidation):\n",
    "    ids = ids_validation[0, :]\n",
    "    train_ids = [int(ii) for ii in ids[:ntrain]]\n",
    "    test_ids = [int(ii) for ii in ids[ntrain:]] \n",
    "    Ntest = len(test_ids)\n",
    "    Ntrain = len(train_ids)\n",
    "    Ntest_forces = 0\n",
    "    for i in test_ids:\n",
    "        Ntest_forces += 3*LiPSdataset[i].get_global_number_of_atoms()\n",
    "    \n",
    "    baseline_en_train= np.zeros((Ntrain, len(ntraining)), dtype='float')\n",
    "    baseline_en_test = np.zeros((Ntest, len(ntraining)), dtype='float')\n",
    "    baseline_forces_test = np.zeros((Ntest_forces, len(ntraining)), dtype='float')\n",
    "    en_test = np.array([energiesXTB[ii] for ii in test_ids])\n",
    "    en_train = np.array([energiesXTB[ii] for ii in train_ids])\n",
    "    f_test = [forcesXTB[ii] for ii in test_ids]\n",
    "    f_test_fl = np.concatenate(f_test).ravel()\n",
    "    f_test_fl = np.array(f_test_fl)\n",
    "    \n",
    "    for j in range(len(ntraining)): \n",
    "        ncomponents = 0\n",
    "        for n, ii in enumerate(test_ids):\n",
    "            baseline_en_test[n, j] = baseline_energies[ii, j, k]\n",
    "            Init = 0\n",
    "            if ii == 0:\n",
    "                 Init = 0\n",
    "            else:\n",
    "                for kk in range(ii): \n",
    "                    Init += 3*LiPSdataset[kk].get_global_number_of_atoms()\n",
    "            natoms_ii = LiPSdataset[ii].get_global_number_of_atoms()\n",
    "            for ll in range(Init, Init+3*natoms_ii):\n",
    "                baseline_forces_test[ncomponents, j] = baseline_forces[ll, j, k]\n",
    "                ncomponents += 1\n",
    "            \n",
    "        for n, ii in enumerate(train_ids):\n",
    "            baseline_en_train[n, j] = baseline_energies[ii, j, k]\n",
    "            \n",
    "        rmse_en = 0\n",
    "        for i, n in enumerate(test_ids):\n",
    "            rmse_en += (en_test[i] - baseline_en_test[i,j])**2/(Ntest*(LiPSdataset[i].get_global_number_of_atoms())**2)\n",
    "       \n",
    "        RMSE_energies[j, k] = np.sqrt(rmse_en)\n",
    "        rmse_f = 0\n",
    "        for i in range(len(f_test_fl)):\n",
    "            rmse_f += (f_test_fl[i] - baseline_forces_test[i,j])**2  \n",
    "        RMSE_forces[j, k] = np.sqrt(rmse_f/(len(f_test_fl)))/(np.std(forces_fl))"
   ]
  },
  {
   "cell_type": "code",
   "execution_count": 238,
   "metadata": {
    "hidden": true
   },
   "outputs": [
    {
     "data": {
      "text/plain": [
       "<matplotlib.collections.PathCollection at 0x7f30075459d0>"
      ]
     },
     "execution_count": 238,
     "metadata": {},
     "output_type": "execute_result"
    },
    {
     "data": {
      "image/png": "[encoded data removed]",
      "text/plain": [
       "<Figure size 576x576 with 1 Axes>"
      ]
     },
     "metadata": {
      "needs_background": "light"
     },
     "output_type": "display_data"
    }
   ],
   "source": [
    "plt.rcParams[\"figure.figsize\"] = (8, 8)\n",
    "plt.rcParams[\"font.size\"] = 25\n",
    "plt.xlabel(r\"DFT force components ($eV/\\AA$)\")\n",
    "plt.ylabel(\"TB+GAP force components ($eV/\\AA$)\")\n",
    "x = np.linspace(-8.0,8.0,100)\n",
    "y = x\n",
    "plt.plot(x, y, color='red', linestyle='--')\n",
    "#plt.plot(f_test_fl, GAP_for_test_fl)\n",
    "plt.xlim(-6.0, 6.0)\n",
    "plt.ylim(-6.0, 6.0)\n",
    "\n",
    "plt.scatter(f_test_fl, baseline_forces_test[:,7], s=5.0)"
   ]
  },
  {
   "cell_type": "code",
   "execution_count": 239,
   "metadata": {
    "hidden": true
   },
   "outputs": [
    {
     "name": "stdout",
     "output_type": "stream",
     "text": [
      "0.06948712408389682\n"
     ]
    }
   ],
   "source": [
    "print(np.mean(abs(f_test_fl[:] - baseline_forces_test[:,7])))"
   ]
  },
  {
   "cell_type": "code",
   "execution_count": 240,
   "metadata": {
    "hidden": true
   },
   "outputs": [
    {
     "name": "stdout",
     "output_type": "stream",
     "text": [
      "0.15643840008610269\n"
     ]
    }
   ],
   "source": [
    "rmse = np.sum((f_test_fl[:] - baseline_forces_test[:,7])**2/len(f_test_fl))\n",
    "print(np.sqrt(rmse)/np.std(f_test_fl))"
   ]
  },
  {
   "cell_type": "code",
   "execution_count": 241,
   "metadata": {
    "hidden": true
   },
   "outputs": [
    {
     "name": "stdout",
     "output_type": "stream",
     "text": [
      "[[0.36451505]\n",
      " [0.26755255]\n",
      " [0.23849449]\n",
      " [0.18401765]\n",
      " [0.1651035 ]\n",
      " [0.15919962]\n",
      " [0.15880351]\n",
      " [0.15584808]]\n"
     ]
    }
   ],
   "source": [
    "print(RMSE_forces)"
   ]
  },
  {
   "cell_type": "code",
   "execution_count": 242,
   "metadata": {
    "hidden": true
   },
   "outputs": [
    {
     "name": "stdout",
     "output_type": "stream",
     "text": [
      "[[0.08631022]\n",
      " [0.05100019]\n",
      " [0.01221117]\n",
      " [0.0101184 ]\n",
      " [0.01134236]\n",
      " [0.00889454]\n",
      " [0.00936698]\n",
      " [0.00910979]]\n"
     ]
    }
   ],
   "source": [
    "print(RMSE_energies)"
   ]
  },
  {
   "cell_type": "code",
   "execution_count": 243,
   "metadata": {
    "hidden": true
   },
   "outputs": [
    {
     "name": "stdout",
     "output_type": "stream",
     "text": [
      "{'MAE': 0.06948712408389682, 'RMSE': 0.10901315198198532, 'SUP': 1.890499230351293, 'R2': 0.9755270269785005, 'CORR': 0.9859760203111735}\n"
     ]
    }
   ],
   "source": [
    "score_forces = get_score(baseline_forces_test[:, 7], f_test_fl[:])\n",
    "print(score_forces)\n",
    "RMSE_forces_test = score_forces['RMSE']"
   ]
  },
  {
   "cell_type": "code",
   "execution_count": 244,
   "metadata": {
    "hidden": true
   },
   "outputs": [
    {
     "name": "stdout",
     "output_type": "stream",
     "text": [
      "{'MAE': 0.08085349154321551, 'RMSE': 0.14575662847277557, 'SUP': 1.0751297373067246, 'R2': 0.9999999289517875, 'CORR': 0.9992358722764956}\n"
     ]
    }
   ],
   "source": [
    "score_energies = get_score(baseline_en_test[:, 7], en_test[:])\n",
    "print(score_energies)\n",
    "RMSE_energies_test = score_energies['RMSE']"
   ]
  },
  {
   "cell_type": "code",
   "execution_count": 245,
   "metadata": {
    "hidden": true
   },
   "outputs": [
    {
     "name": "stdout",
     "output_type": "stream",
     "text": [
      "[[0.36451505]\n",
      " [0.26755255]\n",
      " [0.23849449]\n",
      " [0.18401765]\n",
      " [0.1651035 ]\n",
      " [0.15919962]\n",
      " [0.15880351]\n",
      " [0.15584808]]\n"
     ]
    }
   ],
   "source": [
    "print(RMSE_forces)"
   ]
  },
  {
   "cell_type": "code",
   "execution_count": 251,
   "metadata": {
    "hidden": true
   },
   "outputs": [
    {
     "name": "stderr",
     "output_type": "stream",
     "text": [
      "No artists with labels found to put in legend.  Note that artists whose label start with an underscore are ignored when legend() is called with no argument.\n"
     ]
    },
    {
     "data": {
      "text/plain": [
       "<matplotlib.legend.Legend at 0x7f30d45d1c10>"
      ]
     },
     "execution_count": 251,
     "metadata": {},
     "output_type": "execute_result"
    },
    {
     "data": {
      "image/png": "[encoded data removed]",
      "text/plain": [
       "<Figure size 576x576 with 1 Axes>"
      ]
     },
     "metadata": {
      "needs_background": "light"
     },
     "output_type": "display_data"
    }
   ],
   "source": [
    "plt.rcParams[\"figure.figsize\"] = (8, 8)\n",
    "plt.rcParams[\"font.size\"] = 25\n",
    "\n",
    "fig = plt.figure('')\n",
    "#mpl.rc('font', **font)\n",
    "\n",
    "# font = {'family' : 'normal',\n",
    "#         'weight' : 'normal',\n",
    "#         'size'   : 20}\n",
    "\n",
    "\n",
    "grid = plt.GridSpec(1, 1, wspace=0.8, hspace=0.0)\n",
    "ax_left = fig.add_subplot(grid[0, 0])\n",
    "\n",
    "ax_left.set_xlabel(r\"$n_{training}$\")\n",
    "ax_left.set_ylabel(r\"Energy RMSE/atom (meV)\")\n",
    "ax_left.plot(ntraining, RMSE_energies, color = 'black')\n",
    "ax_left.scatter(ntraining, RMSE_energies, color = 'black')\n",
    "ax_left.set_xscale('log')\n",
    "ax_left.set_yscale('log')\n",
    "plt.legend()"
   ]
  },
  {
   "cell_type": "code",
   "execution_count": 250,
   "metadata": {
    "hidden": true
   },
   "outputs": [
    {
     "name": "stderr",
     "output_type": "stream",
     "text": [
      "No artists with labels found to put in legend.  Note that artists whose label start with an underscore are ignored when legend() is called with no argument.\n"
     ]
    },
    {
     "data": {
      "text/plain": [
       "<matplotlib.legend.Legend at 0x7f30078e43d0>"
      ]
     },
     "execution_count": 250,
     "metadata": {},
     "output_type": "execute_result"
    },
    {
     "data": {
      "image/png": "[encoded data removed]",
      "text/plain": [
       "<Figure size 576x576 with 2 Axes>"
      ]
     },
     "metadata": {
      "needs_background": "light"
     },
     "output_type": "display_data"
    }
   ],
   "source": [
    "plt.rcParams[\"figure.figsize\"] = (8, 8)\n",
    "plt.rcParams[\"font.size\"] = 25\n",
    "\n",
    "fig = plt.figure('')\n",
    "#mpl.rc('font', **font)\n",
    "\n",
    "# font = {'family' : 'normal',\n",
    "#         'weight' : 'normal',\n",
    "#         'size'   : 20}\n",
    "\n",
    "\n",
    "grid = plt.GridSpec(1, 1, wspace=0.8, hspace=0.0)\n",
    "ax_left = fig.add_subplot(grid[0, 0])\n",
    "\n",
    "ax_right = ax_left.twinx()\n",
    "\n",
    "ax_left.set_xlabel(r\"$n_{training}$\")\n",
    "ax_left.set_ylabel(r\"Energy RMSE/atom (meV)\")\n",
    "# ax_left.plot(ntraining, Mean_en_RMSE, color = 'black')\n",
    "# ax_left.scatter(ntraining, Mean_en_RMSE, color = 'black')\n",
    "ax_right.set_ylabel(r'% force RMSE/atom')\n",
    "ax_right.plot(ntraining[1:], RMSE_forces[1:], color = 'red')\n",
    "ax_right.scatter(ntraining[1:], RMSE_forces[1:], color = 'red')\n",
    "ax_left.set_xscale('log')\n",
    "ax_left.set_yscale('log')\n",
    "ax_right.set_yscale('log')\n",
    "#plt.yscale('log')\n",
    "plt.legend()\n",
    "#ax_right.legend()"
   ]
  },
  {
   "cell_type": "markdown",
   "metadata": {},
   "source": [
    "# Training on PBEsol-atomic_energy"
   ]
  },
  {
   "cell_type": "code",
   "execution_count": null,
   "metadata": {},
   "outputs": [],
   "source": []
  },
  {
   "cell_type": "code",
   "execution_count": 16,
   "metadata": {},
   "outputs": [
    {
     "data": {
      "text/plain": [
       "2256"
      ]
     },
     "execution_count": 16,
     "metadata": {},
     "output_type": "execute_result"
    }
   ],
   "source": [
    "len(LiPSdataset)"
   ]
  },
  {
   "cell_type": "code",
   "execution_count": 20,
   "metadata": {},
   "outputs": [
    {
     "ename": "FileNotFoundError",
     "evalue": "[Errno 2] No such file or directory: 'GAPonPBE_rcut5_sigma0.3_2400sparsepoints_solvers.pk'",
     "output_type": "error",
     "traceback": [
      "\u001b[0;31m---------------------------------------------------------------------------\u001b[0m",
      "\u001b[0;31mFileNotFoundError\u001b[0m                         Traceback (most recent call last)",
      "Input \u001b[0;32mIn [20]\u001b[0m, in \u001b[0;36m<cell line: 1>\u001b[0;34m()\u001b[0m\n\u001b[0;32m----> 1\u001b[0m \u001b[38;5;28;01mwith\u001b[39;00m \u001b[38;5;28;43mopen\u001b[39;49m\u001b[43m(\u001b[49m\u001b[38;5;124;43m'\u001b[39;49m\u001b[38;5;124;43mGAPonPBE_rcut5_sigma0.3_2400sparsepoints_solvers.pk\u001b[39;49m\u001b[38;5;124;43m'\u001b[39;49m\u001b[43m,\u001b[49m\u001b[38;5;124;43m'\u001b[39;49m\u001b[38;5;124;43mrb\u001b[39;49m\u001b[38;5;124;43m'\u001b[39;49m\u001b[43m)\u001b[49m \u001b[38;5;28;01mas\u001b[39;00m fg:\n\u001b[1;32m      2\u001b[0m     rcut_param \u001b[38;5;241m=\u001b[39m pk\u001b[38;5;241m.\u001b[39mload(fg)\n\u001b[1;32m      3\u001b[0m ml_solvers \u001b[38;5;241m=\u001b[39m rcut_param[\u001b[38;5;124m'\u001b[39m\u001b[38;5;124mmodels\u001b[39m\u001b[38;5;124m'\u001b[39m]\n",
      "\u001b[0;31mFileNotFoundError\u001b[0m: [Errno 2] No such file or directory: 'GAPonPBE_rcut5_sigma0.3_2400sparsepoints_solvers.pk'"
     ]
    }
   ],
   "source": [
    "with open('GAPonPBE_rcut5_sigma0.3_2400sparsepoints_solvers.pk','rb') as fg:\n",
    "    rcut_param = pk.load(fg)\n",
    "ml_solvers = rcut_param['models']"
   ]
  },
  {
   "cell_type": "code",
   "execution_count": 36,
   "metadata": {},
   "outputs": [],
   "source": [
    "solvers =['RKHS-QR']\n",
    "#solvers =['nplstsqNone','nplstsq-1','scipylstsq_gelsd']\n",
    "ml_solvers = {}"
   ]
  },
  {
   "cell_type": "code",
   "execution_count": 37,
   "metadata": {},
   "outputs": [
    {
     "data": {
      "text/plain": [
       "2256"
      ]
     },
     "execution_count": 37,
     "metadata": {},
     "output_type": "execute_result"
    }
   ],
   "source": [
    "Ndataset"
   ]
  },
  {
   "cell_type": "code",
   "execution_count": 38,
   "metadata": {
    "scrolled": true
   },
   "outputs": [
    {
     "name": "stdout",
     "output_type": "stream",
     "text": [
      "(2016, 4000) (20, 4000) (2000,) (175200,) 2016\n",
      "(4800, 4000) (50, 4000) (2000,) (175200,) 4800\n",
      "(9456, 4000) (100, 4000) (2000,) (175200,) 9456\n",
      "(18288, 4000) (200, 4000) (2000,) (175200,) 18288\n",
      "(35616, 4000) (400, 4000) (2000,) (175200,) 35616\n",
      "(70656, 4000) (800, 4000) (2000,) (175200,) 70656\n",
      "(131376, 4000) (1500, 4000) (2000,) (175200,) 131376\n",
      "(175200, 4000) (2000, 4000) (2000,) (175200,) 175200\n"
     ]
    }
   ],
   "source": [
    "#solvers = ['gaptools']\n",
    "for solver in solvers:\n",
    "    ntrain = 2000\n",
    "    ntraining = [20,50,100, 200, 400, 800, 1500,2000]\n",
    "    Nkvalidation = 1\n",
    "    ids_validation = []\n",
    "    models = []\n",
    "    for k in range(Nkvalidation):\n",
    "        #ids = range(ntrain)\n",
    "        #np.random.seed(20+k)\n",
    "        #np.random.shuffle(ids)\n",
    "        #ids_validation.append(ids)\n",
    "        train_ids = range(ntrain) #[int(i) for i in ids[:ntrain]]\n",
    "        frames_train = [LiPSdataset[ii] for ii in train_ids]\n",
    "\n",
    "        en_train = [energiesXTB_mencoes[ii] for ii in train_ids]\n",
    "        en_train = np.array(en_train)\n",
    "\n",
    "        f_train = [forcesXTB[ii] for ii in train_ids]\n",
    "        f_train = np.array(f_train, dtype='object')\n",
    "        f_train_fl = np.concatenate(f_train).ravel()\n",
    "        #f_test_fl = np.concatenate(f_test).ravel()\n",
    "        for nn in ntraining: \n",
    "            KnM_energies = np.array([KNM_base[ii,:] for ii in train_ids[:nn]])\n",
    "            KnM_gradients = []\n",
    "\n",
    "            for ii in train_ids[:nn]:\n",
    "                ntotatoms_prec_ii=0\n",
    "                for i, f in enumerate(LiPSdataset[:ii]):\n",
    "                    ntotatoms_prec_ii+=f.get_global_number_of_atoms()\n",
    "\n",
    "                ntotatoms_ii = LiPSdataset[ii].get_global_number_of_atoms()\n",
    "                Init = Ndataset + ntotatoms_prec_ii*3\n",
    "                for ll in range(Init, Init+3*ntotatoms_ii): \n",
    "                    KnM_gradients.append(KNM_base[ll, :])\n",
    "\n",
    "            KnM_gradients = np.array(KnM_gradients)\n",
    "            print(KnM_gradients.shape, KnM_energies.shape, en_train.shape, f_train_fl.shape, len(KnM_gradients[:, 0]))\n",
    "            KnM = np.vstack([KnM_energies, KnM_gradients])\n",
    "            models.append(train_gap_model(kernel_base, frames_train[:nn], KnM, X_sparse_baseline, en_train[:nn], energy_zero, \n",
    "                                grad_train=-f_train_fl[:len(KnM_gradients[:, 0])], \n",
    "                                          lambdas=[1e-07, 1e-06], jitter=1e-5,solver=solver))\n",
    "    ml_solvers[solver] = models"
   ]
  },
  {
   "cell_type": "code",
   "execution_count": 39,
   "metadata": {},
   "outputs": [
    {
     "name": "stdout",
     "output_type": "stream",
     "text": [
      "8 1\n"
     ]
    }
   ],
   "source": [
    "print(len(models),Nkvalidation)"
   ]
  },
  {
   "cell_type": "code",
   "execution_count": 40,
   "metadata": {},
   "outputs": [
    {
     "name": "stdout",
     "output_type": "stream",
     "text": [
      "(0,)\n"
     ]
    }
   ],
   "source": [
    "ids_validation = np.array(ids_validation)\n",
    "print(ids_validation.shape)\n",
    "#np.save(\"ids_validation.npy\", ids_validation)"
   ]
  },
  {
   "cell_type": "code",
   "execution_count": 41,
   "metadata": {},
   "outputs": [],
   "source": [
    "GAP_energies = np.zeros((len(solvers),Ndataset, len(ntraining), Nkvalidation), dtype='float')\n",
    "GAP_forces = np.zeros((len(solvers),len(forcesXTB_fl), len(ntraining), Nkvalidation), dtype='float')"
   ]
  },
  {
   "cell_type": "code",
   "execution_count": 43,
   "metadata": {},
   "outputs": [
    {
     "ename": "NameError",
     "evalue": "name 'forces_tmp_fl' is not defined",
     "output_type": "error",
     "traceback": [
      "\u001b[0;31m---------------------------------------------------------------------------\u001b[0m",
      "\u001b[0;31mNameError\u001b[0m                                 Traceback (most recent call last)",
      "Input \u001b[0;32mIn [43]\u001b[0m, in \u001b[0;36m<cell line: 1>\u001b[0;34m()\u001b[0m\n\u001b[0;32m----> 1\u001b[0m \u001b[38;5;28mprint\u001b[39m(\u001b[38;5;28mlen\u001b[39m(LiPSdataset), \u001b[38;5;28mlen\u001b[39m(forcesXTB_fl),\u001b[38;5;28mlen\u001b[39m(models),\u001b[38;5;28mlen\u001b[39m(\u001b[43mforces_tmp_fl\u001b[49m),GAP_forces\u001b[38;5;241m.\u001b[39mshape)\n",
      "\u001b[0;31mNameError\u001b[0m: name 'forces_tmp_fl' is not defined"
     ]
    }
   ],
   "source": [
    "print(len(LiPSdataset), len(forcesXTB_fl),len(models),len(forces_tmp_fl),GAP_forces.shape)"
   ]
  },
  {
   "cell_type": "code",
   "execution_count": 42,
   "metadata": {},
   "outputs": [
    {
     "data": {
      "application/vnd.jupyter.widget-view+json": {
       "model_id": "859d0f221d9a4846b95917ca14eb5d17",
       "version_major": 2,
       "version_minor": 0
      },
      "text/plain": [
       "  0%|          | 0/2256 [00:00<?, ?it/s]"
      ]
     },
     "metadata": {},
     "output_type": "display_data"
    }
   ],
   "source": [
    "for isolv,solver in enumerate(solvers):\n",
    "    models =  ml_solvers[solver]\n",
    "    i = 0\n",
    "    iforce = 0\n",
    "    for f in tqdm(LiPSdataset): \n",
    "        f.wrap(eps=1e-18)\n",
    "        m = repr_bas_fsparse.transform(f)\n",
    "        for k in range(Nkvalidation):\n",
    "            for j, gap in enumerate(models[k*len(ntraining):(k+1)*len(ntraining)]):\n",
    "                GAP_energies[isolv,i, j, k] = gap.predict(m)\n",
    "                forces_tmp = gap.predict_forces(m)\n",
    "                forces_tmp_fl = np.concatenate(forces_tmp).ravel()\n",
    "                for l in range(iforce, iforce+len(forces_tmp_fl)):\n",
    "                    GAP_forces[isolv,l, j, k] = forces_tmp_fl[l-iforce]\n",
    "        iforce += len(forces_tmp_fl)\n",
    "        i += 1  "
   ]
  },
  {
   "cell_type": "code",
   "execution_count": 43,
   "metadata": {},
   "outputs": [
    {
     "name": "stdout",
     "output_type": "stream",
     "text": [
      "8 (1, 2256, 8, 1)\n"
     ]
    },
    {
     "data": {
      "text/plain": [
       "(None,\n",
       " [<rascal.models.krr.KRR at 0x7fd38483a100>,\n",
       "  <rascal.models.krr.KRR at 0x7fd3b2255a90>,\n",
       "  <rascal.models.krr.KRR at 0x7fd3a8423910>,\n",
       "  <rascal.models.krr.KRR at 0x7fd3a83cac10>,\n",
       "  <rascal.models.krr.KRR at 0x7fd3b2255c40>,\n",
       "  <rascal.models.krr.KRR at 0x7fd3b1859310>,\n",
       "  <rascal.models.krr.KRR at 0x7fd38483aee0>,\n",
       "  <rascal.models.krr.KRR at 0x7fd38483a130>])"
      ]
     },
     "execution_count": 43,
     "metadata": {},
     "output_type": "execute_result"
    }
   ],
   "source": [
    "print(len(models), GAP_energies.shape),ml_solvers['RKHS-QR']"
   ]
  },
  {
   "cell_type": "code",
   "execution_count": 46,
   "metadata": {},
   "outputs": [],
   "source": [
    "rcut8_param ={\n",
    "    'repr_bas_fsparse':repr_bas_fsparse,\n",
    "    'GAP_energies':GAP_energies,\n",
    "    'GAP_forces':GAP_forces,\n",
    "    'KnM':KnM,\n",
    "    'KnM_gradients':KnM_gradients,\n",
    "    'KNM_base':KNM_base,\n",
    "    'kernel_base':kernel_base,\n",
    "    'models':models,\n",
    "    'ntraining':ntraining\n",
    "    \n",
    "}\n",
    "\n",
    "\n"
   ]
  },
  {
   "cell_type": "code",
   "execution_count": 47,
   "metadata": {},
   "outputs": [],
   "source": [
    "#import pickle as pk\n",
    "#with open('GAPonXTB_rcut8_sigma0.3_6ksnap.pk','wb') as fg:\n",
    "#    pk.dump(rcut8_param,fg)"
   ]
  },
  {
   "cell_type": "code",
   "execution_count": 48,
   "metadata": {},
   "outputs": [],
   "source": [
    "import pickle as pk\n",
    "with open('GAPonPBEsol_rcut8_sigma0.3_4ksnap_rege-5regf-4.pk','wb') as fg:\n",
    "    pk.dump(rcut8_param,fg)"
   ]
  },
  {
   "cell_type": "code",
   "execution_count": 44,
   "metadata": {},
   "outputs": [
    {
     "ename": "IndexError",
     "evalue": "index 1 is out of bounds for axis 0 with size 1",
     "output_type": "error",
     "traceback": [
      "\u001b[0;31m---------------------------------------------------------------------------\u001b[0m",
      "\u001b[0;31mIndexError\u001b[0m                                Traceback (most recent call last)",
      "Input \u001b[0;32mIn [44]\u001b[0m, in \u001b[0;36m<cell line: 9>\u001b[0;34m()\u001b[0m\n\u001b[1;32m     16\u001b[0m         Nbeta\u001b[38;5;241m+\u001b[39m\u001b[38;5;241m=\u001b[39m\u001b[38;5;241m1\u001b[39m\n\u001b[1;32m     17\u001b[0m     \u001b[38;5;28;01mif\u001b[39;00m(energiesXTB[i] \u001b[38;5;241m<\u001b[39m\u001b[38;5;241m=\u001b[39m \u001b[38;5;241m-\u001b[39m\u001b[38;5;241m3000.0\u001b[39m):\n\u001b[0;32m---> 18\u001b[0m         GAP_en_beta211\u001b[38;5;241m.\u001b[39mappend(\u001b[43mGAP_energies\u001b[49m\u001b[43m[\u001b[49m\u001b[43mi\u001b[49m\u001b[43m,\u001b[49m\u001b[43m \u001b[49m\u001b[38;5;241;43m6\u001b[39;49m\u001b[43m,\u001b[49m\u001b[43m \u001b[49m\u001b[38;5;241;43m0\u001b[39;49m\u001b[43m]\u001b[49m\u001b[38;5;241m/\u001b[39m\u001b[38;5;241m2.0\u001b[39m)\n\u001b[1;32m     19\u001b[0m         Nbeta211\u001b[38;5;241m+\u001b[39m\u001b[38;5;241m=\u001b[39m\u001b[38;5;241m1\u001b[39m\n\u001b[1;32m     21\u001b[0m \u001b[38;5;28mprint\u001b[39m(Nbeta, Nbeta211, Ngamma)\n",
      "\u001b[0;31mIndexError\u001b[0m: index 1 is out of bounds for axis 0 with size 1"
     ]
    }
   ],
   "source": [
    "Nbeta = 0\n",
    "Nbeta211 = 0\n",
    "Ngamma = 0\n",
    "\n",
    "GAP_en_beta = []\n",
    "GAP_en_beta211 = []\n",
    "GAP_en_gamma = []\n",
    "\n",
    "for i in range(Ndataset):\n",
    "    #print(energies[i], Natoms[i])\n",
    "    if(energiesXTB[i] > -1500.0):\n",
    "        GAP_en_gamma.append(GAP_energies[i, 6, 0])\n",
    "        Ngamma+=1\n",
    "    if(energiesXTB[i] >= -2500.0 and energiesXTB[i] <= -1800.0):\n",
    "        GAP_en_beta.append(GAP_energies[i, 6, 0])\n",
    "        Nbeta+=1\n",
    "    if(energiesXTB[i] <= -3000.0):\n",
    "        GAP_en_beta211.append(GAP_energies[i, 6, 0]/2.0)\n",
    "        Nbeta211+=1\n",
    "\n",
    "print(Nbeta, Nbeta211, Ngamma)\n",
    "print(Nbeta + Nbeta211 + Ngamma)"
   ]
  },
  {
   "cell_type": "code",
   "execution_count": 56,
   "metadata": {
    "scrolled": true
   },
   "outputs": [
    {
     "name": "stderr",
     "output_type": "stream",
     "text": [
      "/home/tisi/anaconda3/lib/python3.9/site-packages/numpy/core/fromnumeric.py:3440: RuntimeWarning: Mean of empty slice.\n",
      "  return _methods._mean(a, axis=axis, dtype=dtype,\n",
      "/home/tisi/anaconda3/lib/python3.9/site-packages/numpy/core/_methods.py:189: RuntimeWarning: invalid value encountered in double_scalars\n",
      "  ret = ret.dtype.type(ret / rcount)\n"
     ]
    },
    {
     "ename": "ValueError",
     "evalue": "zero-size array to reduction operation maximum which has no identity",
     "output_type": "error",
     "traceback": [
      "\u001b[0;31m---------------------------------------------------------------------------\u001b[0m",
      "\u001b[0;31mValueError\u001b[0m                                Traceback (most recent call last)",
      "Input \u001b[0;32mIn [56]\u001b[0m, in \u001b[0;36m<cell line: 1>\u001b[0;34m()\u001b[0m\n\u001b[0;32m----> 1\u001b[0m score_beta \u001b[38;5;241m=\u001b[39m \u001b[43mget_score\u001b[49m\u001b[43m(\u001b[49m\u001b[43mnp\u001b[49m\u001b[38;5;241;43m.\u001b[39;49m\u001b[43marray\u001b[49m\u001b[43m(\u001b[49m\u001b[43mGAP_en_beta\u001b[49m\u001b[43m)\u001b[49m\u001b[43m,\u001b[49m\u001b[43m \u001b[49m\u001b[43mnp\u001b[49m\u001b[38;5;241;43m.\u001b[39;49m\u001b[43marray\u001b[49m\u001b[43m(\u001b[49m\u001b[43menergiesXTB_beta\u001b[49m\u001b[43m)\u001b[49m\u001b[43m)\u001b[49m\n\u001b[1;32m      2\u001b[0m \u001b[38;5;28mprint\u001b[39m(score_beta)\n\u001b[1;32m      3\u001b[0m RMSE_beta \u001b[38;5;241m=\u001b[39m score_beta[\u001b[38;5;124m'\u001b[39m\u001b[38;5;124mRMSE\u001b[39m\u001b[38;5;124m'\u001b[39m]\n",
      "File \u001b[0;32m~/anaconda3/lib/python3.9/site-packages/rascal/utils/scorer.py:39\u001b[0m, in \u001b[0;36mget_score\u001b[0;34m(ypred, y, score_func)\u001b[0m\n\u001b[1;32m     37\u001b[0m scores \u001b[38;5;241m=\u001b[39m {}\n\u001b[1;32m     38\u001b[0m \u001b[38;5;28;01mfor\u001b[39;00m k, func \u001b[38;5;129;01min\u001b[39;00m score_func\u001b[38;5;241m.\u001b[39mitems():\n\u001b[0;32m---> 39\u001b[0m     scores[k] \u001b[38;5;241m=\u001b[39m \u001b[43mfunc\u001b[49m\u001b[43m(\u001b[49m\u001b[43mypred\u001b[49m\u001b[43m,\u001b[49m\u001b[43m \u001b[49m\u001b[43my\u001b[49m\u001b[43m)\u001b[49m\n\u001b[1;32m     40\u001b[0m \u001b[38;5;28;01mreturn\u001b[39;00m scores\n",
      "File \u001b[0;32m~/anaconda3/lib/python3.9/site-packages/rascal/utils/scorer.py:25\u001b[0m, in \u001b[0;36mget_sup\u001b[0;34m(ypred, y)\u001b[0m\n\u001b[1;32m     24\u001b[0m \u001b[38;5;28;01mdef\u001b[39;00m \u001b[38;5;21mget_sup\u001b[39m(ypred, y):\n\u001b[0;32m---> 25\u001b[0m     \u001b[38;5;28;01mreturn\u001b[39;00m \u001b[43mnp\u001b[49m\u001b[38;5;241;43m.\u001b[39;49m\u001b[43mamax\u001b[49m\u001b[43m(\u001b[49m\u001b[43mnp\u001b[49m\u001b[38;5;241;43m.\u001b[39;49m\u001b[43mabs\u001b[49m\u001b[43m(\u001b[49m\u001b[43m(\u001b[49m\u001b[43mypred\u001b[49m\u001b[43m \u001b[49m\u001b[38;5;241;43m-\u001b[39;49m\u001b[43m \u001b[49m\u001b[43my\u001b[49m\u001b[43m)\u001b[49m\u001b[43m)\u001b[49m\u001b[43m)\u001b[49m\n",
      "File \u001b[0;32m<__array_function__ internals>:5\u001b[0m, in \u001b[0;36mamax\u001b[0;34m(*args, **kwargs)\u001b[0m\n",
      "File \u001b[0;32m~/anaconda3/lib/python3.9/site-packages/numpy/core/fromnumeric.py:2754\u001b[0m, in \u001b[0;36mamax\u001b[0;34m(a, axis, out, keepdims, initial, where)\u001b[0m\n\u001b[1;32m   2638\u001b[0m \u001b[38;5;129m@array_function_dispatch\u001b[39m(_amax_dispatcher)\n\u001b[1;32m   2639\u001b[0m \u001b[38;5;28;01mdef\u001b[39;00m \u001b[38;5;21mamax\u001b[39m(a, axis\u001b[38;5;241m=\u001b[39m\u001b[38;5;28;01mNone\u001b[39;00m, out\u001b[38;5;241m=\u001b[39m\u001b[38;5;28;01mNone\u001b[39;00m, keepdims\u001b[38;5;241m=\u001b[39mnp\u001b[38;5;241m.\u001b[39m_NoValue, initial\u001b[38;5;241m=\u001b[39mnp\u001b[38;5;241m.\u001b[39m_NoValue,\n\u001b[1;32m   2640\u001b[0m          where\u001b[38;5;241m=\u001b[39mnp\u001b[38;5;241m.\u001b[39m_NoValue):\n\u001b[1;32m   2641\u001b[0m     \u001b[38;5;124;03m\"\"\"\u001b[39;00m\n\u001b[1;32m   2642\u001b[0m \u001b[38;5;124;03m    Return the maximum of an array or maximum along an axis.\u001b[39;00m\n\u001b[1;32m   2643\u001b[0m \n\u001b[0;32m   (...)\u001b[0m\n\u001b[1;32m   2752\u001b[0m \u001b[38;5;124;03m    5\u001b[39;00m\n\u001b[1;32m   2753\u001b[0m \u001b[38;5;124;03m    \"\"\"\u001b[39;00m\n\u001b[0;32m-> 2754\u001b[0m     \u001b[38;5;28;01mreturn\u001b[39;00m \u001b[43m_wrapreduction\u001b[49m\u001b[43m(\u001b[49m\u001b[43ma\u001b[49m\u001b[43m,\u001b[49m\u001b[43m \u001b[49m\u001b[43mnp\u001b[49m\u001b[38;5;241;43m.\u001b[39;49m\u001b[43mmaximum\u001b[49m\u001b[43m,\u001b[49m\u001b[43m \u001b[49m\u001b[38;5;124;43m'\u001b[39;49m\u001b[38;5;124;43mmax\u001b[39;49m\u001b[38;5;124;43m'\u001b[39;49m\u001b[43m,\u001b[49m\u001b[43m \u001b[49m\u001b[43maxis\u001b[49m\u001b[43m,\u001b[49m\u001b[43m \u001b[49m\u001b[38;5;28;43;01mNone\u001b[39;49;00m\u001b[43m,\u001b[49m\u001b[43m \u001b[49m\u001b[43mout\u001b[49m\u001b[43m,\u001b[49m\n\u001b[1;32m   2755\u001b[0m \u001b[43m                          \u001b[49m\u001b[43mkeepdims\u001b[49m\u001b[38;5;241;43m=\u001b[39;49m\u001b[43mkeepdims\u001b[49m\u001b[43m,\u001b[49m\u001b[43m \u001b[49m\u001b[43minitial\u001b[49m\u001b[38;5;241;43m=\u001b[39;49m\u001b[43minitial\u001b[49m\u001b[43m,\u001b[49m\u001b[43m \u001b[49m\u001b[43mwhere\u001b[49m\u001b[38;5;241;43m=\u001b[39;49m\u001b[43mwhere\u001b[49m\u001b[43m)\u001b[49m\n",
      "File \u001b[0;32m~/anaconda3/lib/python3.9/site-packages/numpy/core/fromnumeric.py:86\u001b[0m, in \u001b[0;36m_wrapreduction\u001b[0;34m(obj, ufunc, method, axis, dtype, out, **kwargs)\u001b[0m\n\u001b[1;32m     83\u001b[0m         \u001b[38;5;28;01melse\u001b[39;00m:\n\u001b[1;32m     84\u001b[0m             \u001b[38;5;28;01mreturn\u001b[39;00m reduction(axis\u001b[38;5;241m=\u001b[39maxis, out\u001b[38;5;241m=\u001b[39mout, \u001b[38;5;241m*\u001b[39m\u001b[38;5;241m*\u001b[39mpasskwargs)\n\u001b[0;32m---> 86\u001b[0m \u001b[38;5;28;01mreturn\u001b[39;00m \u001b[43mufunc\u001b[49m\u001b[38;5;241;43m.\u001b[39;49m\u001b[43mreduce\u001b[49m\u001b[43m(\u001b[49m\u001b[43mobj\u001b[49m\u001b[43m,\u001b[49m\u001b[43m \u001b[49m\u001b[43maxis\u001b[49m\u001b[43m,\u001b[49m\u001b[43m \u001b[49m\u001b[43mdtype\u001b[49m\u001b[43m,\u001b[49m\u001b[43m \u001b[49m\u001b[43mout\u001b[49m\u001b[43m,\u001b[49m\u001b[43m \u001b[49m\u001b[38;5;241;43m*\u001b[39;49m\u001b[38;5;241;43m*\u001b[39;49m\u001b[43mpasskwargs\u001b[49m\u001b[43m)\u001b[49m\n",
      "\u001b[0;31mValueError\u001b[0m: zero-size array to reduction operation maximum which has no identity"
     ]
    }
   ],
   "source": [
    "score_beta = get_score(np.array(GAP_en_beta), np.array(energiesXTB_beta))\n",
    "print(score_beta)\n",
    "RMSE_beta = score_beta['RMSE']\n",
    "\n",
    "score_gamma = get_score(np.array(GAP_en_gamma), np.array(energiesXTB_gamma))\n",
    "print(score_gamma)\n",
    "RMSE_gamma = score_gamma['RMSE']\n",
    "\n",
    "print(\"RMSE beta = \", RMSE_beta*1000.0/(32.0), \"meV/atom\")\n",
    "print(\"RMSE gamma = \", RMSE_gamma*1000.0/(16.0), \"meV/atom\")"
   ]
  },
  {
   "cell_type": "code",
   "execution_count": 57,
   "metadata": {
    "scrolled": true
   },
   "outputs": [
    {
     "ename": "ValueError",
     "evalue": "zero-size array to reduction operation minimum which has no identity",
     "output_type": "error",
     "traceback": [
      "\u001b[0;31m---------------------------------------------------------------------------\u001b[0m",
      "\u001b[0;31mValueError\u001b[0m                                Traceback (most recent call last)",
      "Input \u001b[0;32mIn [57]\u001b[0m, in \u001b[0;36m<cell line: 8>\u001b[0;34m()\u001b[0m\n\u001b[1;32m      5\u001b[0m fig\u001b[38;5;241m.\u001b[39mtight_layout()\n\u001b[1;32m      7\u001b[0m ax[\u001b[38;5;241m0\u001b[39m]\u001b[38;5;241m.\u001b[39mset_title(\u001b[38;5;124mr\u001b[39m\u001b[38;5;124m\"\u001b[39m\u001b[38;5;124m$\u001b[39m\u001b[38;5;124m\\\u001b[39m\u001b[38;5;124mbeta$\u001b[39m\u001b[38;5;124m\"\u001b[39m, fontsize\u001b[38;5;241m=\u001b[39m\u001b[38;5;241m40\u001b[39m, weight\u001b[38;5;241m=\u001b[39m\u001b[38;5;124m'\u001b[39m\u001b[38;5;124mbold\u001b[39m\u001b[38;5;124m'\u001b[39m)\n\u001b[0;32m----> 8\u001b[0m xbeta \u001b[38;5;241m=\u001b[39m np\u001b[38;5;241m.\u001b[39mlinspace(\u001b[43mnp\u001b[49m\u001b[38;5;241;43m.\u001b[39;49m\u001b[43mmin\u001b[49m\u001b[43m(\u001b[49m\u001b[43menergiesXTB_beta\u001b[49m\u001b[43m)\u001b[49m, np\u001b[38;5;241m.\u001b[39mmax(energiesXTB_beta), \u001b[38;5;241m100\u001b[39m)\n\u001b[1;32m      9\u001b[0m ybeta\u001b[38;5;241m=\u001b[39mxbeta\n\u001b[1;32m     10\u001b[0m ax[\u001b[38;5;241m0\u001b[39m]\u001b[38;5;241m.\u001b[39mset_ylabel(\u001b[38;5;124mr\u001b[39m\u001b[38;5;124m\"\u001b[39m\u001b[38;5;124mTB+GAP energiesXTB (eV)\u001b[39m\u001b[38;5;124m\"\u001b[39m)\n",
      "File \u001b[0;32m<__array_function__ internals>:5\u001b[0m, in \u001b[0;36mamin\u001b[0;34m(*args, **kwargs)\u001b[0m\n",
      "File \u001b[0;32m~/anaconda3/lib/python3.9/site-packages/numpy/core/fromnumeric.py:2879\u001b[0m, in \u001b[0;36mamin\u001b[0;34m(a, axis, out, keepdims, initial, where)\u001b[0m\n\u001b[1;32m   2763\u001b[0m \u001b[38;5;129m@array_function_dispatch\u001b[39m(_amin_dispatcher)\n\u001b[1;32m   2764\u001b[0m \u001b[38;5;28;01mdef\u001b[39;00m \u001b[38;5;21mamin\u001b[39m(a, axis\u001b[38;5;241m=\u001b[39m\u001b[38;5;28;01mNone\u001b[39;00m, out\u001b[38;5;241m=\u001b[39m\u001b[38;5;28;01mNone\u001b[39;00m, keepdims\u001b[38;5;241m=\u001b[39mnp\u001b[38;5;241m.\u001b[39m_NoValue, initial\u001b[38;5;241m=\u001b[39mnp\u001b[38;5;241m.\u001b[39m_NoValue,\n\u001b[1;32m   2765\u001b[0m          where\u001b[38;5;241m=\u001b[39mnp\u001b[38;5;241m.\u001b[39m_NoValue):\n\u001b[1;32m   2766\u001b[0m     \u001b[38;5;124;03m\"\"\"\u001b[39;00m\n\u001b[1;32m   2767\u001b[0m \u001b[38;5;124;03m    Return the minimum of an array or minimum along an axis.\u001b[39;00m\n\u001b[1;32m   2768\u001b[0m \n\u001b[0;32m   (...)\u001b[0m\n\u001b[1;32m   2877\u001b[0m \u001b[38;5;124;03m    6\u001b[39;00m\n\u001b[1;32m   2878\u001b[0m \u001b[38;5;124;03m    \"\"\"\u001b[39;00m\n\u001b[0;32m-> 2879\u001b[0m     \u001b[38;5;28;01mreturn\u001b[39;00m \u001b[43m_wrapreduction\u001b[49m\u001b[43m(\u001b[49m\u001b[43ma\u001b[49m\u001b[43m,\u001b[49m\u001b[43m \u001b[49m\u001b[43mnp\u001b[49m\u001b[38;5;241;43m.\u001b[39;49m\u001b[43mminimum\u001b[49m\u001b[43m,\u001b[49m\u001b[43m \u001b[49m\u001b[38;5;124;43m'\u001b[39;49m\u001b[38;5;124;43mmin\u001b[39;49m\u001b[38;5;124;43m'\u001b[39;49m\u001b[43m,\u001b[49m\u001b[43m \u001b[49m\u001b[43maxis\u001b[49m\u001b[43m,\u001b[49m\u001b[43m \u001b[49m\u001b[38;5;28;43;01mNone\u001b[39;49;00m\u001b[43m,\u001b[49m\u001b[43m \u001b[49m\u001b[43mout\u001b[49m\u001b[43m,\u001b[49m\n\u001b[1;32m   2880\u001b[0m \u001b[43m                          \u001b[49m\u001b[43mkeepdims\u001b[49m\u001b[38;5;241;43m=\u001b[39;49m\u001b[43mkeepdims\u001b[49m\u001b[43m,\u001b[49m\u001b[43m \u001b[49m\u001b[43minitial\u001b[49m\u001b[38;5;241;43m=\u001b[39;49m\u001b[43minitial\u001b[49m\u001b[43m,\u001b[49m\u001b[43m \u001b[49m\u001b[43mwhere\u001b[49m\u001b[38;5;241;43m=\u001b[39;49m\u001b[43mwhere\u001b[49m\u001b[43m)\u001b[49m\n",
      "File \u001b[0;32m~/anaconda3/lib/python3.9/site-packages/numpy/core/fromnumeric.py:86\u001b[0m, in \u001b[0;36m_wrapreduction\u001b[0;34m(obj, ufunc, method, axis, dtype, out, **kwargs)\u001b[0m\n\u001b[1;32m     83\u001b[0m         \u001b[38;5;28;01melse\u001b[39;00m:\n\u001b[1;32m     84\u001b[0m             \u001b[38;5;28;01mreturn\u001b[39;00m reduction(axis\u001b[38;5;241m=\u001b[39maxis, out\u001b[38;5;241m=\u001b[39mout, \u001b[38;5;241m*\u001b[39m\u001b[38;5;241m*\u001b[39mpasskwargs)\n\u001b[0;32m---> 86\u001b[0m \u001b[38;5;28;01mreturn\u001b[39;00m \u001b[43mufunc\u001b[49m\u001b[38;5;241;43m.\u001b[39;49m\u001b[43mreduce\u001b[49m\u001b[43m(\u001b[49m\u001b[43mobj\u001b[49m\u001b[43m,\u001b[49m\u001b[43m \u001b[49m\u001b[43maxis\u001b[49m\u001b[43m,\u001b[49m\u001b[43m \u001b[49m\u001b[43mdtype\u001b[49m\u001b[43m,\u001b[49m\u001b[43m \u001b[49m\u001b[43mout\u001b[49m\u001b[43m,\u001b[49m\u001b[43m \u001b[49m\u001b[38;5;241;43m*\u001b[39;49m\u001b[38;5;241;43m*\u001b[39;49m\u001b[43mpasskwargs\u001b[49m\u001b[43m)\u001b[49m\n",
      "\u001b[0;31mValueError\u001b[0m: zero-size array to reduction operation minimum which has no identity"
     ]
    },
    {
     "data": {
      "image/png": "[encoded data removed]",
      "text/plain": [
       "<Figure size 1152x576 with 2 Axes>"
      ]
     },
     "metadata": {
      "needs_background": "light"
     },
     "output_type": "display_data"
    }
   ],
   "source": [
    "plt.rcParams[\"figure.figsize\"] = (16, 8)\n",
    "plt.rcParams[\"font.size\"] = 25\n",
    "\n",
    "fig, ax = plt.subplots(nrows=1, ncols=2)\n",
    "fig.tight_layout()\n",
    "\n",
    "ax[0].set_title(r\"$\\beta$\", fontsize=40, weight='bold')\n",
    "xbeta = np.linspace(np.min(energiesXTB_beta), np.max(energiesXTB_beta), 100)\n",
    "ybeta=xbeta\n",
    "ax[0].set_ylabel(r\"TB+GAP energiesXTB (eV)\")\n",
    "ax[0].set_xlabel(r\"DFT energies (eV)\")\n",
    "ax[0].set_ylim(np.min(energiesXTB_beta), np.max(energiesXTB_beta))\n",
    "ax[0].set_xlim(np.min(energiesXTB_beta), np.max(energiesXTB_beta))\n",
    "ax[0].plot(xbeta, ybeta, color='red', linestyle='--', linewidth=4.0)\n",
    "en_beta211 = np.array([e/2.0 for e in energiesXTB_beta211])\n",
    "ax[0].scatter(energiesXTB_beta, GAP_en_beta, s=20.0, label='32 atoms')\n",
    "ax[0].scatter(en_beta211, GAP_en_beta211, s=50.0, color = 'orange', label='64 atoms')\n",
    "ax[0].legend()\n",
    "\n",
    "ax[1].set_title(r\"$\\gamma$\", fontsize=40, weight='bold')\n",
    "xgamma = np.linspace(np.min(energiesXTB_gamma), np.max(energiesXTB_gamma),100)\n",
    "ygamma=xgamma\n",
    "\n",
    "ax[1].set_ylim(np.min(energiesXTB_gamma), np.max(energiesXTB_gamma))\n",
    "ax[1].set_xlim(np.min(energiesXTB_gamma), np.max(energiesXTB_gamma))\n",
    "ax[1].plot(xgamma, ygamma, color='red', linestyle='--', linewidth=4.0)\n",
    "ax[1].scatter(energiesXTB_gamma, GAP_en_gamma, s=20.0)\n",
    "\n",
    "\n",
    "fig.subplots_adjust(wspace=0.25)\n",
    "plt.show()"
   ]
  },
  {
   "cell_type": "code",
   "execution_count": 137,
   "metadata": {
    "scrolled": true
   },
   "outputs": [
    {
     "ename": "ValueError",
     "evalue": "x and y must be the same size",
     "output_type": "error",
     "traceback": [
      "\u001b[0;31m---------------------------------------------------------------------------\u001b[0m",
      "\u001b[0;31mValueError\u001b[0m                                Traceback (most recent call last)",
      "Input \u001b[0;32mIn [137]\u001b[0m, in \u001b[0;36m<cell line: 11>\u001b[0;34m()\u001b[0m\n\u001b[1;32m      9\u001b[0m plt\u001b[38;5;241m.\u001b[39mxlim(\u001b[38;5;241m-\u001b[39m\u001b[38;5;241m6.0\u001b[39m, \u001b[38;5;241m6.0\u001b[39m)\n\u001b[1;32m     10\u001b[0m plt\u001b[38;5;241m.\u001b[39mylim(\u001b[38;5;241m-\u001b[39m\u001b[38;5;241m6.0\u001b[39m, \u001b[38;5;241m6.0\u001b[39m)\n\u001b[0;32m---> 11\u001b[0m \u001b[43mplt\u001b[49m\u001b[38;5;241;43m.\u001b[39;49m\u001b[43mscatter\u001b[49m\u001b[43m(\u001b[49m\u001b[43mforcesXTB_fl\u001b[49m\u001b[43m,\u001b[49m\u001b[43m \u001b[49m\u001b[43mGAP_forces\u001b[49m\u001b[43m[\u001b[49m\u001b[43m:\u001b[49m\u001b[43m,\u001b[49m\u001b[43m \u001b[49m\u001b[38;5;241;43m9\u001b[39;49m\u001b[43m,\u001b[49m\u001b[43m \u001b[49m\u001b[38;5;241;43m0\u001b[39;49m\u001b[43m]\u001b[49m\u001b[43m,\u001b[49m\u001b[43m \u001b[49m\u001b[43ms\u001b[49m\u001b[38;5;241;43m=\u001b[39;49m\u001b[38;5;241;43m5.0\u001b[39;49m\u001b[43m)\u001b[49m\n",
      "File \u001b[0;32m~/anaconda3/lib/python3.9/site-packages/matplotlib/pyplot.py:2807\u001b[0m, in \u001b[0;36mscatter\u001b[0;34m(x, y, s, c, marker, cmap, norm, vmin, vmax, alpha, linewidths, edgecolors, plotnonfinite, data, **kwargs)\u001b[0m\n\u001b[1;32m   2802\u001b[0m \u001b[38;5;129m@_copy_docstring_and_deprecators\u001b[39m(Axes\u001b[38;5;241m.\u001b[39mscatter)\n\u001b[1;32m   2803\u001b[0m \u001b[38;5;28;01mdef\u001b[39;00m \u001b[38;5;21mscatter\u001b[39m(\n\u001b[1;32m   2804\u001b[0m         x, y, s\u001b[38;5;241m=\u001b[39m\u001b[38;5;28;01mNone\u001b[39;00m, c\u001b[38;5;241m=\u001b[39m\u001b[38;5;28;01mNone\u001b[39;00m, marker\u001b[38;5;241m=\u001b[39m\u001b[38;5;28;01mNone\u001b[39;00m, cmap\u001b[38;5;241m=\u001b[39m\u001b[38;5;28;01mNone\u001b[39;00m, norm\u001b[38;5;241m=\u001b[39m\u001b[38;5;28;01mNone\u001b[39;00m,\n\u001b[1;32m   2805\u001b[0m         vmin\u001b[38;5;241m=\u001b[39m\u001b[38;5;28;01mNone\u001b[39;00m, vmax\u001b[38;5;241m=\u001b[39m\u001b[38;5;28;01mNone\u001b[39;00m, alpha\u001b[38;5;241m=\u001b[39m\u001b[38;5;28;01mNone\u001b[39;00m, linewidths\u001b[38;5;241m=\u001b[39m\u001b[38;5;28;01mNone\u001b[39;00m, \u001b[38;5;241m*\u001b[39m,\n\u001b[1;32m   2806\u001b[0m         edgecolors\u001b[38;5;241m=\u001b[39m\u001b[38;5;28;01mNone\u001b[39;00m, plotnonfinite\u001b[38;5;241m=\u001b[39m\u001b[38;5;28;01mFalse\u001b[39;00m, data\u001b[38;5;241m=\u001b[39m\u001b[38;5;28;01mNone\u001b[39;00m, \u001b[38;5;241m*\u001b[39m\u001b[38;5;241m*\u001b[39mkwargs):\n\u001b[0;32m-> 2807\u001b[0m     __ret \u001b[38;5;241m=\u001b[39m \u001b[43mgca\u001b[49m\u001b[43m(\u001b[49m\u001b[43m)\u001b[49m\u001b[38;5;241;43m.\u001b[39;49m\u001b[43mscatter\u001b[49m\u001b[43m(\u001b[49m\n\u001b[1;32m   2808\u001b[0m \u001b[43m        \u001b[49m\u001b[43mx\u001b[49m\u001b[43m,\u001b[49m\u001b[43m \u001b[49m\u001b[43my\u001b[49m\u001b[43m,\u001b[49m\u001b[43m \u001b[49m\u001b[43ms\u001b[49m\u001b[38;5;241;43m=\u001b[39;49m\u001b[43ms\u001b[49m\u001b[43m,\u001b[49m\u001b[43m \u001b[49m\u001b[43mc\u001b[49m\u001b[38;5;241;43m=\u001b[39;49m\u001b[43mc\u001b[49m\u001b[43m,\u001b[49m\u001b[43m \u001b[49m\u001b[43mmarker\u001b[49m\u001b[38;5;241;43m=\u001b[39;49m\u001b[43mmarker\u001b[49m\u001b[43m,\u001b[49m\u001b[43m \u001b[49m\u001b[43mcmap\u001b[49m\u001b[38;5;241;43m=\u001b[39;49m\u001b[43mcmap\u001b[49m\u001b[43m,\u001b[49m\u001b[43m \u001b[49m\u001b[43mnorm\u001b[49m\u001b[38;5;241;43m=\u001b[39;49m\u001b[43mnorm\u001b[49m\u001b[43m,\u001b[49m\n\u001b[1;32m   2809\u001b[0m \u001b[43m        \u001b[49m\u001b[43mvmin\u001b[49m\u001b[38;5;241;43m=\u001b[39;49m\u001b[43mvmin\u001b[49m\u001b[43m,\u001b[49m\u001b[43m \u001b[49m\u001b[43mvmax\u001b[49m\u001b[38;5;241;43m=\u001b[39;49m\u001b[43mvmax\u001b[49m\u001b[43m,\u001b[49m\u001b[43m \u001b[49m\u001b[43malpha\u001b[49m\u001b[38;5;241;43m=\u001b[39;49m\u001b[43malpha\u001b[49m\u001b[43m,\u001b[49m\u001b[43m \u001b[49m\u001b[43mlinewidths\u001b[49m\u001b[38;5;241;43m=\u001b[39;49m\u001b[43mlinewidths\u001b[49m\u001b[43m,\u001b[49m\n\u001b[1;32m   2810\u001b[0m \u001b[43m        \u001b[49m\u001b[43medgecolors\u001b[49m\u001b[38;5;241;43m=\u001b[39;49m\u001b[43medgecolors\u001b[49m\u001b[43m,\u001b[49m\u001b[43m \u001b[49m\u001b[43mplotnonfinite\u001b[49m\u001b[38;5;241;43m=\u001b[39;49m\u001b[43mplotnonfinite\u001b[49m\u001b[43m,\u001b[49m\n\u001b[1;32m   2811\u001b[0m \u001b[43m        \u001b[49m\u001b[38;5;241;43m*\u001b[39;49m\u001b[38;5;241;43m*\u001b[39;49m\u001b[43m(\u001b[49m\u001b[43m{\u001b[49m\u001b[38;5;124;43m\"\u001b[39;49m\u001b[38;5;124;43mdata\u001b[39;49m\u001b[38;5;124;43m\"\u001b[39;49m\u001b[43m:\u001b[49m\u001b[43m \u001b[49m\u001b[43mdata\u001b[49m\u001b[43m}\u001b[49m\u001b[43m \u001b[49m\u001b[38;5;28;43;01mif\u001b[39;49;00m\u001b[43m \u001b[49m\u001b[43mdata\u001b[49m\u001b[43m \u001b[49m\u001b[38;5;129;43;01mis\u001b[39;49;00m\u001b[43m \u001b[49m\u001b[38;5;129;43;01mnot\u001b[39;49;00m\u001b[43m \u001b[49m\u001b[38;5;28;43;01mNone\u001b[39;49;00m\u001b[43m \u001b[49m\u001b[38;5;28;43;01melse\u001b[39;49;00m\u001b[43m \u001b[49m\u001b[43m{\u001b[49m\u001b[43m}\u001b[49m\u001b[43m)\u001b[49m\u001b[43m,\u001b[49m\u001b[43m \u001b[49m\u001b[38;5;241;43m*\u001b[39;49m\u001b[38;5;241;43m*\u001b[39;49m\u001b[43mkwargs\u001b[49m\u001b[43m)\u001b[49m\n\u001b[1;32m   2812\u001b[0m     sci(__ret)\n\u001b[1;32m   2813\u001b[0m     \u001b[38;5;28;01mreturn\u001b[39;00m __ret\n",
      "File \u001b[0;32m~/anaconda3/lib/python3.9/site-packages/matplotlib/__init__.py:1412\u001b[0m, in \u001b[0;36m_preprocess_data.<locals>.inner\u001b[0;34m(ax, data, *args, **kwargs)\u001b[0m\n\u001b[1;32m   1409\u001b[0m \u001b[38;5;129m@functools\u001b[39m\u001b[38;5;241m.\u001b[39mwraps(func)\n\u001b[1;32m   1410\u001b[0m \u001b[38;5;28;01mdef\u001b[39;00m \u001b[38;5;21minner\u001b[39m(ax, \u001b[38;5;241m*\u001b[39margs, data\u001b[38;5;241m=\u001b[39m\u001b[38;5;28;01mNone\u001b[39;00m, \u001b[38;5;241m*\u001b[39m\u001b[38;5;241m*\u001b[39mkwargs):\n\u001b[1;32m   1411\u001b[0m     \u001b[38;5;28;01mif\u001b[39;00m data \u001b[38;5;129;01mis\u001b[39;00m \u001b[38;5;28;01mNone\u001b[39;00m:\n\u001b[0;32m-> 1412\u001b[0m         \u001b[38;5;28;01mreturn\u001b[39;00m \u001b[43mfunc\u001b[49m\u001b[43m(\u001b[49m\u001b[43max\u001b[49m\u001b[43m,\u001b[49m\u001b[43m \u001b[49m\u001b[38;5;241;43m*\u001b[39;49m\u001b[38;5;28;43mmap\u001b[39;49m\u001b[43m(\u001b[49m\u001b[43msanitize_sequence\u001b[49m\u001b[43m,\u001b[49m\u001b[43m \u001b[49m\u001b[43margs\u001b[49m\u001b[43m)\u001b[49m\u001b[43m,\u001b[49m\u001b[43m \u001b[49m\u001b[38;5;241;43m*\u001b[39;49m\u001b[38;5;241;43m*\u001b[39;49m\u001b[43mkwargs\u001b[49m\u001b[43m)\u001b[49m\n\u001b[1;32m   1414\u001b[0m     bound \u001b[38;5;241m=\u001b[39m new_sig\u001b[38;5;241m.\u001b[39mbind(ax, \u001b[38;5;241m*\u001b[39margs, \u001b[38;5;241m*\u001b[39m\u001b[38;5;241m*\u001b[39mkwargs)\n\u001b[1;32m   1415\u001b[0m     auto_label \u001b[38;5;241m=\u001b[39m (bound\u001b[38;5;241m.\u001b[39marguments\u001b[38;5;241m.\u001b[39mget(label_namer)\n\u001b[1;32m   1416\u001b[0m                   \u001b[38;5;129;01mor\u001b[39;00m bound\u001b[38;5;241m.\u001b[39mkwargs\u001b[38;5;241m.\u001b[39mget(label_namer))\n",
      "File \u001b[0;32m~/anaconda3/lib/python3.9/site-packages/matplotlib/axes/_axes.py:4369\u001b[0m, in \u001b[0;36mAxes.scatter\u001b[0;34m(self, x, y, s, c, marker, cmap, norm, vmin, vmax, alpha, linewidths, edgecolors, plotnonfinite, **kwargs)\u001b[0m\n\u001b[1;32m   4367\u001b[0m y \u001b[38;5;241m=\u001b[39m np\u001b[38;5;241m.\u001b[39mma\u001b[38;5;241m.\u001b[39mravel(y)\n\u001b[1;32m   4368\u001b[0m \u001b[38;5;28;01mif\u001b[39;00m x\u001b[38;5;241m.\u001b[39msize \u001b[38;5;241m!=\u001b[39m y\u001b[38;5;241m.\u001b[39msize:\n\u001b[0;32m-> 4369\u001b[0m     \u001b[38;5;28;01mraise\u001b[39;00m \u001b[38;5;167;01mValueError\u001b[39;00m(\u001b[38;5;124m\"\u001b[39m\u001b[38;5;124mx and y must be the same size\u001b[39m\u001b[38;5;124m\"\u001b[39m)\n\u001b[1;32m   4371\u001b[0m \u001b[38;5;28;01mif\u001b[39;00m s \u001b[38;5;129;01mis\u001b[39;00m \u001b[38;5;28;01mNone\u001b[39;00m:\n\u001b[1;32m   4372\u001b[0m     s \u001b[38;5;241m=\u001b[39m (\u001b[38;5;241m20\u001b[39m \u001b[38;5;28;01mif\u001b[39;00m rcParams[\u001b[38;5;124m'\u001b[39m\u001b[38;5;124m_internal.classic_mode\u001b[39m\u001b[38;5;124m'\u001b[39m] \u001b[38;5;28;01melse\u001b[39;00m\n\u001b[1;32m   4373\u001b[0m          rcParams[\u001b[38;5;124m'\u001b[39m\u001b[38;5;124mlines.markersize\u001b[39m\u001b[38;5;124m'\u001b[39m] \u001b[38;5;241m*\u001b[39m\u001b[38;5;241m*\u001b[39m \u001b[38;5;241m2.0\u001b[39m)\n",
      "\u001b[0;31mValueError\u001b[0m: x and y must be the same size"
     ]
    },
    {
     "data": {
      "image/png": "[encoded data removed]",
      "text/plain": [
       "<Figure size 576x576 with 1 Axes>"
      ]
     },
     "metadata": {
      "needs_background": "light"
     },
     "output_type": "display_data"
    }
   ],
   "source": [
    "plt.rcParams[\"figure.figsize\"] = (8, 8)\n",
    "plt.rcParams[\"font.size\"] = 16\n",
    "plt.xlabel(r\"DFT force components ($eV/\\AA$)\")\n",
    "plt.ylabel(\"TB+GAP force components ($eV/\\AA$)\")\n",
    "x = np.linspace(-8.0,8.0,100)\n",
    "y = x\n",
    "plt.plot(x, y, color='red', linestyle='--')\n",
    "#plt.plot(f_test_fl, GAP_for_test_fl)\n",
    "plt.xlim(-6.0, 6.0)\n",
    "plt.ylim(-6.0, 6.0)\n",
    "plt.scatter(forcesXTB_fl, GAP_forces[:, 9, 0], s=5.0)"
   ]
  },
  {
   "cell_type": "code",
   "execution_count": 45,
   "metadata": {},
   "outputs": [],
   "source": [
    "RMSE_energies = np.zeros((len(solvers),len(ntraining), Nkvalidation), dtype='float')\n",
    "RMSE_forces = np.zeros((len(solvers),len(ntraining), Nkvalidation), dtype='float')"
   ]
  },
  {
   "cell_type": "code",
   "execution_count": 46,
   "metadata": {},
   "outputs": [
    {
     "name": "stdout",
     "output_type": "stream",
     "text": [
      "2256\n"
     ]
    },
    {
     "data": {
      "application/vnd.jupyter.widget-view+json": {
       "model_id": "314fef4034a14f0d831fe166808a0c85",
       "version_major": 2,
       "version_minor": 0
      },
      "text/plain": [
       "  0%|          | 0/8 [00:00<?, ?it/s]"
      ]
     },
     "metadata": {},
     "output_type": "display_data"
    }
   ],
   "source": [
    "for k in range(Nkvalidation):\n",
    "    ids = range(len(LiPSdataset))\n",
    "    print(len(LiPSdataset))\n",
    "    train_ids = [int(ii) for ii in ids[:ntrain]]\n",
    "    test_ids = [int(ii) for ii in ids[ntrain:]] \n",
    "    Ntest = len(test_ids)\n",
    "    Ntrain = len(train_ids)\n",
    "    Ntest_forces = 0\n",
    "    for i in test_ids:\n",
    "        Ntest_forces += 3*LiPSdataset[i].get_global_number_of_atoms()\n",
    "    \n",
    "    GAP_en_train= np.zeros((len(solvers),Ntrain, len(ntraining)), dtype='float')\n",
    "    GAP_en_test = np.zeros((len(solvers),Ntest, len(ntraining)), dtype='float')\n",
    "    GAP_forces_test = np.zeros((len(solvers),Ntest_forces, len(ntraining)), dtype='float')\n",
    "    en_test = np.array([energiesXTB[ii] for ii in test_ids])\n",
    "    en_train = np.array([energiesXTB[ii] for ii in train_ids])\n",
    "    f_test = [forcesXTB[ii] for ii in test_ids]\n",
    "    f_test_fl = np.concatenate(f_test).ravel()\n",
    "    f_test_fl = np.array(f_test_fl)\n",
    "    for isolv,solver in enumerate(solvers):\n",
    "        for j in tqdm(range(len(ntraining))): \n",
    "            ncomponents = 0\n",
    "            for n, ii in enumerate(test_ids):\n",
    "                GAP_en_test[isolv,n, j] = GAP_energies[isolv,ii, j, k]+energies_coesiveXTB[ii]\n",
    "                Init = 0\n",
    "                if ii == 0:\n",
    "                     Init = 0\n",
    "                else:\n",
    "                    for kk in range(ii): \n",
    "                        Init += 3*LiPSdataset[kk].get_global_number_of_atoms()\n",
    "                natoms_ii = LiPSdataset[ii].get_global_number_of_atoms()\n",
    "\n",
    "                for ll in range(Init, Init+3*natoms_ii):\n",
    "                    GAP_forces_test[isolv,ncomponents, j] = GAP_forces[isolv,ll, j, k]\n",
    "                    ncomponents += 1\n",
    "\n",
    "            for n, ii in enumerate(train_ids):\n",
    "                GAP_en_train[isolv,n, j] = GAP_energies[isolv,ii, j, k]+energies_coesiveXTB[ii]\n",
    "\n",
    "            rmse_en = 0\n",
    "            for i, n in enumerate(test_ids):\n",
    "                rmse_en += (en_test[i] - GAP_en_test[isolv,i,j])**2/(Ntest*(LiPSdataset[i].get_global_number_of_atoms())**2)\n",
    "\n",
    "            RMSE_energies[isolv,j, k] = np.sqrt(rmse_en)\n",
    "            rmse_f = 0\n",
    "            for i in range(len(f_test_fl)):\n",
    "                rmse_f += (f_test_fl[i] - GAP_forces_test[isolv,i,j])**2  \n",
    "            RMSE_forces[isolv,j, k] = np.sqrt(rmse_f/(len(f_test_fl)))/(np.std(forcesXTB_fl))\n",
    "            \n",
    "            "
   ]
  },
  {
   "cell_type": "code",
   "execution_count": 47,
   "metadata": {},
   "outputs": [
    {
     "data": {
      "image/png": "[encoded data removed]",
      "text/plain": [
       "<Figure size 576x576 with 1 Axes>"
      ]
     },
     "metadata": {
      "needs_background": "light"
     },
     "output_type": "display_data"
    }
   ],
   "source": [
    "plt.rcParams[\"figure.figsize\"] = (8, 8)\n",
    "plt.rcParams[\"font.size\"] = 25\n",
    "plt.xlabel(r\"DFT force components ($eV/\\AA$)\")\n",
    "plt.ylabel(\"TB+GAP force components ($eV/\\AA$)\")\n",
    "x = np.linspace(-8.0,8.0,100)\n",
    "y = x\n",
    "plt.plot(x, y, color='red', linestyle='--')\n",
    "#plt.plot(f_test_fl, GAP_for_test_fl)\n",
    "plt.xlim(-6.0, 6.0)\n",
    "plt.ylim(-6.0, 6.0)\n",
    "for isolv,solver in enumerate(solvers):\n",
    "    plt.scatter(f_test_fl, GAP_forces_test[isolv,:,5], s=5.0)"
   ]
  },
  {
   "cell_type": "code",
   "execution_count": 48,
   "metadata": {},
   "outputs": [
    {
     "name": "stdout",
     "output_type": "stream",
     "text": [
      "0.058509963470891074\n"
     ]
    }
   ],
   "source": [
    "for isolv,solver in enumerate(solvers):\n",
    "    print(np.mean(abs(f_test_fl[:] - GAP_forces_test[isolv,:,-1])))"
   ]
  },
  {
   "cell_type": "code",
   "execution_count": 49,
   "metadata": {},
   "outputs": [
    {
     "name": "stdout",
     "output_type": "stream",
     "text": [
      "0.058509963470891074\n"
     ]
    }
   ],
   "source": [
    "for isolv,solver in enumerate(solvers):\n",
    "    print(np.mean(abs(f_test_fl[:] - GAP_forces_test[isolv,:,-1])))"
   ]
  },
  {
   "cell_type": "code",
   "execution_count": 50,
   "metadata": {},
   "outputs": [
    {
     "name": "stdout",
     "output_type": "stream",
     "text": [
      "0.1307018935632209\n"
     ]
    }
   ],
   "source": [
    "for isolv,solver in enumerate(solvers):\n",
    "    rmse = np.sum((f_test_fl[:] - GAP_forces_test[isolv,:,-1])**2/len(f_test_fl))\n",
    "    print(np.sqrt(rmse)/np.std(f_test_fl))"
   ]
  },
  {
   "cell_type": "code",
   "execution_count": 51,
   "metadata": {},
   "outputs": [
    {
     "name": "stdout",
     "output_type": "stream",
     "text": [
      "[[[0.2608318 ]\n",
      "  [0.27456121]\n",
      "  [0.14107094]\n",
      "  [0.11505238]\n",
      "  [0.10193858]\n",
      "  [0.09716318]\n",
      "  [0.09315865]\n",
      "  [0.09329141]]]\n"
     ]
    }
   ],
   "source": [
    "print(RMSE_forces*np.std(forcesXTB_fl))"
   ]
  },
  {
   "cell_type": "code",
   "execution_count": 52,
   "metadata": {},
   "outputs": [
    {
     "name": "stdout",
     "output_type": "stream",
     "text": [
      "[[[0.05480398]\n",
      "  [0.02191553]\n",
      "  [0.00680229]\n",
      "  [0.00563292]\n",
      "  [0.00448146]\n",
      "  [0.00432179]\n",
      "  [0.00400578]\n",
      "  [0.00400412]]]\n"
     ]
    }
   ],
   "source": [
    "print(RMSE_energies)"
   ]
  },
  {
   "cell_type": "code",
   "execution_count": 53,
   "metadata": {},
   "outputs": [
    {
     "ename": "ValueError",
     "evalue": "operands could not be broadcast together with shapes (1,8) (22464,) ",
     "output_type": "error",
     "traceback": [
      "\u001b[0;31m---------------------------------------------------------------------------\u001b[0m",
      "\u001b[0;31mValueError\u001b[0m                                Traceback (most recent call last)",
      "Input \u001b[0;32mIn [53]\u001b[0m, in \u001b[0;36m<cell line: 1>\u001b[0;34m()\u001b[0m\n\u001b[0;32m----> 1\u001b[0m score_forces \u001b[38;5;241m=\u001b[39m \u001b[43mget_score\u001b[49m\u001b[43m(\u001b[49m\u001b[43mGAP_forces_test\u001b[49m\u001b[43m[\u001b[49m\u001b[43m:\u001b[49m\u001b[43m,\u001b[49m\u001b[43m \u001b[49m\u001b[38;5;241;43m-\u001b[39;49m\u001b[38;5;241;43m1\u001b[39;49m\u001b[43m]\u001b[49m\u001b[43m,\u001b[49m\u001b[43m \u001b[49m\u001b[43mf_test_fl\u001b[49m\u001b[43m[\u001b[49m\u001b[43m:\u001b[49m\u001b[43m]\u001b[49m\u001b[43m)\u001b[49m\n\u001b[1;32m      2\u001b[0m \u001b[38;5;28mprint\u001b[39m(score_forces)\n\u001b[1;32m      3\u001b[0m RMSE_forces_test \u001b[38;5;241m=\u001b[39m score_forces[\u001b[38;5;124m'\u001b[39m\u001b[38;5;124mRMSE\u001b[39m\u001b[38;5;124m'\u001b[39m]\n",
      "File \u001b[0;32m~/anaconda3/lib/python3.9/site-packages/rascal/utils/scorer.py:39\u001b[0m, in \u001b[0;36mget_score\u001b[0;34m(ypred, y, score_func)\u001b[0m\n\u001b[1;32m     37\u001b[0m scores \u001b[38;5;241m=\u001b[39m {}\n\u001b[1;32m     38\u001b[0m \u001b[38;5;28;01mfor\u001b[39;00m k, func \u001b[38;5;129;01min\u001b[39;00m score_func\u001b[38;5;241m.\u001b[39mitems():\n\u001b[0;32m---> 39\u001b[0m     scores[k] \u001b[38;5;241m=\u001b[39m \u001b[43mfunc\u001b[49m\u001b[43m(\u001b[49m\u001b[43mypred\u001b[49m\u001b[43m,\u001b[49m\u001b[43m \u001b[49m\u001b[43my\u001b[49m\u001b[43m)\u001b[49m\n\u001b[1;32m     40\u001b[0m \u001b[38;5;28;01mreturn\u001b[39;00m scores\n",
      "File \u001b[0;32m~/anaconda3/lib/python3.9/site-packages/rascal/utils/scorer.py:17\u001b[0m, in \u001b[0;36mget_mae\u001b[0;34m(ypred, y)\u001b[0m\n\u001b[1;32m     16\u001b[0m \u001b[38;5;28;01mdef\u001b[39;00m \u001b[38;5;21mget_mae\u001b[39m(ypred, y):\n\u001b[0;32m---> 17\u001b[0m     \u001b[38;5;28;01mreturn\u001b[39;00m np\u001b[38;5;241m.\u001b[39mmean(np\u001b[38;5;241m.\u001b[39mabs(\u001b[43mypred\u001b[49m\u001b[43m \u001b[49m\u001b[38;5;241;43m-\u001b[39;49m\u001b[43m \u001b[49m\u001b[43my\u001b[49m))\n",
      "\u001b[0;31mValueError\u001b[0m: operands could not be broadcast together with shapes (1,8) (22464,) "
     ]
    }
   ],
   "source": [
    "score_forces = get_score(GAP_forces_test[:, -1], f_test_fl[:])\n",
    "print(score_forces)\n",
    "RMSE_forces_test = score_forces['RMSE']"
   ]
  },
  {
   "cell_type": "code",
   "execution_count": 40,
   "metadata": {},
   "outputs": [
    {
     "ename": "ValueError",
     "evalue": "operands could not be broadcast together with shapes (5,7) (256,) ",
     "output_type": "error",
     "traceback": [
      "\u001b[0;31m---------------------------------------------------------------------------\u001b[0m",
      "\u001b[0;31mValueError\u001b[0m                                Traceback (most recent call last)",
      "Input \u001b[0;32mIn [40]\u001b[0m, in \u001b[0;36m<cell line: 1>\u001b[0;34m()\u001b[0m\n\u001b[0;32m----> 1\u001b[0m score_energies \u001b[38;5;241m=\u001b[39m \u001b[43mget_score\u001b[49m\u001b[43m(\u001b[49m\u001b[43mGAP_en_test\u001b[49m\u001b[43m[\u001b[49m\u001b[43m:\u001b[49m\u001b[43m,\u001b[49m\u001b[43m \u001b[49m\u001b[38;5;241;43m-\u001b[39;49m\u001b[38;5;241;43m1\u001b[39;49m\u001b[43m]\u001b[49m\u001b[43m,\u001b[49m\u001b[43m \u001b[49m\u001b[43men_test\u001b[49m\u001b[43m[\u001b[49m\u001b[43m:\u001b[49m\u001b[43m]\u001b[49m\u001b[43m)\u001b[49m\n\u001b[1;32m      2\u001b[0m \u001b[38;5;28mprint\u001b[39m(score_energies)\n\u001b[1;32m      3\u001b[0m RMSE_energies_test \u001b[38;5;241m=\u001b[39m score_energies[\u001b[38;5;124m'\u001b[39m\u001b[38;5;124mRMSE\u001b[39m\u001b[38;5;124m'\u001b[39m]\n",
      "File \u001b[0;32m~/anaconda3/lib/python3.9/site-packages/rascal/utils/scorer.py:39\u001b[0m, in \u001b[0;36mget_score\u001b[0;34m(ypred, y, score_func)\u001b[0m\n\u001b[1;32m     37\u001b[0m scores \u001b[38;5;241m=\u001b[39m {}\n\u001b[1;32m     38\u001b[0m \u001b[38;5;28;01mfor\u001b[39;00m k, func \u001b[38;5;129;01min\u001b[39;00m score_func\u001b[38;5;241m.\u001b[39mitems():\n\u001b[0;32m---> 39\u001b[0m     scores[k] \u001b[38;5;241m=\u001b[39m \u001b[43mfunc\u001b[49m\u001b[43m(\u001b[49m\u001b[43mypred\u001b[49m\u001b[43m,\u001b[49m\u001b[43m \u001b[49m\u001b[43my\u001b[49m\u001b[43m)\u001b[49m\n\u001b[1;32m     40\u001b[0m \u001b[38;5;28;01mreturn\u001b[39;00m scores\n",
      "File \u001b[0;32m~/anaconda3/lib/python3.9/site-packages/rascal/utils/scorer.py:17\u001b[0m, in \u001b[0;36mget_mae\u001b[0;34m(ypred, y)\u001b[0m\n\u001b[1;32m     16\u001b[0m \u001b[38;5;28;01mdef\u001b[39;00m \u001b[38;5;21mget_mae\u001b[39m(ypred, y):\n\u001b[0;32m---> 17\u001b[0m     \u001b[38;5;28;01mreturn\u001b[39;00m np\u001b[38;5;241m.\u001b[39mmean(np\u001b[38;5;241m.\u001b[39mabs(\u001b[43mypred\u001b[49m\u001b[43m \u001b[49m\u001b[38;5;241;43m-\u001b[39;49m\u001b[43m \u001b[49m\u001b[43my\u001b[49m))\n",
      "\u001b[0;31mValueError\u001b[0m: operands could not be broadcast together with shapes (5,7) (256,) "
     ]
    }
   ],
   "source": [
    "score_energies = get_score(GAP_en_test[:, -1], en_test[:])\n",
    "print(score_energies)\n",
    "RMSE_energies_test = score_energies['RMSE']"
   ]
  },
  {
   "cell_type": "code",
   "execution_count": 54,
   "metadata": {},
   "outputs": [
    {
     "name": "stdout",
     "output_type": "stream",
     "text": [
      "[[[0.35946076]\n",
      "  [0.37838169]\n",
      "  [0.19441443]\n",
      "  [0.15855741]\n",
      "  [0.14048485]\n",
      "  [0.13390373]\n",
      "  [0.12838495]\n",
      "  [0.12856792]]]\n"
     ]
    }
   ],
   "source": [
    "print(RMSE_forces)"
   ]
  },
  {
   "cell_type": "code",
   "execution_count": 55,
   "metadata": {
    "scrolled": true
   },
   "outputs": [
    {
     "name": "stderr",
     "output_type": "stream",
     "text": [
      "/home/tisi/anaconda3/lib/python3.9/site-packages/numpy/core/_methods.py:262: RuntimeWarning: Degrees of freedom <= 0 for slice\n",
      "  ret = _var(a, axis=axis, dtype=dtype, out=out, ddof=ddof,\n",
      "/home/tisi/anaconda3/lib/python3.9/site-packages/numpy/core/_methods.py:254: RuntimeWarning: invalid value encountered in double_scalars\n",
      "  ret = ret.dtype.type(ret / rcount)\n"
     ]
    }
   ],
   "source": [
    "nsolvers= len(solvers)\n",
    "Mean_en_RMSE  = np.zeros((nsolvers,len(ntraining)), dtype='float')\n",
    "Sigma_en_RMSE = np.zeros((nsolvers,len(ntraining)), dtype='float')\n",
    "\n",
    "Mean_force_RMSE  = np.zeros((nsolvers,len(ntraining)), dtype='float')\n",
    "Sigma_force_RMSE = np.zeros((nsolvers,len(ntraining)), dtype='float')\n",
    "\n",
    "for isolv,solver in enumerate(solvers):\n",
    "    for i, n in enumerate(ntraining):\n",
    "        Mean_en_RMSE    [isolv,i] = np.mean(RMSE_energies[isolv,i, :])*1000.0\n",
    "        Sigma_en_RMSE   [isolv,i] = np.std( RMSE_energies[isolv,i, :], ddof = 1)*1000.0\n",
    "        Mean_force_RMSE [isolv,i] = np.mean(RMSE_forces  [isolv,i, :])*100.0\n",
    "        Sigma_force_RMSE[isolv,i] = np.std( RMSE_forces  [isolv,i, :], ddof = 1)*100.0"
   ]
  },
  {
   "cell_type": "code",
   "execution_count": 59,
   "metadata": {},
   "outputs": [],
   "source": [
    "rcut_param ={\n",
    "    'repr_bas_fsparse':repr_bas_fsparse,\n",
    "    'GAP_energies':GAP_energies,\n",
    "    'GAP_forces':GAP_forces,\n",
    "    'RMSE_forces':RMSE_forces,\n",
    "    'RMSE_energies':RMSE_energies,\n",
    "    'Mean_en_RMSE':Mean_en_RMSE,\n",
    "    'Mean_force_RMSE':Mean_force_RMSE,\n",
    "    'ntraining':ntraining,\n",
    "    'models': ml_solvers,\n",
    "    'solvers': solvers\n",
    "}"
   ]
  },
  {
   "cell_type": "code",
   "execution_count": null,
   "metadata": {},
   "outputs": [],
   "source": []
  },
  {
   "cell_type": "code",
   "execution_count": 77,
   "metadata": {},
   "outputs": [],
   "source": [
    "#import pickle as pk\n",
    "#with open('GAPonPBE_rcut5_sigma0.3_solvers.pk','wb') as fg:\n",
    "#    pk.dump(rcut_param,fg)"
   ]
  },
  {
   "cell_type": "code",
   "execution_count": 70,
   "metadata": {},
   "outputs": [],
   "source": [
    "#import pickle as pk\n",
    "#with open('GAPonPBE_rcut5_sigma0.3_2400sparsepoints_solvers.pk','wb') as fg:\n",
    "#    pk.dump(rcut_param,fg)"
   ]
  },
  {
   "cell_type": "code",
   "execution_count": 60,
   "metadata": {},
   "outputs": [],
   "source": [
    "import pickle as pk\n",
    "with open('GAPonPBE_rcut5_sigma0.3_600sparsefeature_4000sparseenviroment_solvers.pk','wb') as fg:\n",
    "    pk.dump(rcut_param,fg)"
   ]
  },
  {
   "cell_type": "code",
   "execution_count": 102,
   "metadata": {},
   "outputs": [],
   "source": [
    "#import pickle as pk\n",
    "#with open('GAPonPBE_rcut5_sigma0.3_600sparsefeature_3000sparseenviroment_solvers.pk','wb') as fg:\n",
    "#    pk.dump(rcut_param,fg)"
   ]
  },
  {
   "cell_type": "code",
   "execution_count": 57,
   "metadata": {},
   "outputs": [],
   "source": [
    "#import pickle as pk\n",
    "#with open('GAPonPBE_rcut5_sigma0.3_600sparsefeature_4000sparseenviroment_solvers.pk','wb') as fg:\n",
    "#    pk.dump(rcut_param,fg)"
   ]
  },
  {
   "cell_type": "code",
   "execution_count": 64,
   "metadata": {},
   "outputs": [],
   "source": [
    "#import pickle as pk\n",
    "#with open('GAPonPBE_rcut5_sigma0.3_600sparsefeature_8000sparseenviroment_solvers.pk','wb') as fg:\n",
    "#    pk.dump(rcut_param,fg)"
   ]
  },
  {
   "cell_type": "code",
   "execution_count": 59,
   "metadata": {},
   "outputs": [],
   "source": [
    "with open('GAPonPBE_rcut5_sigma0.3_600sparsefeature_4000sparseenviroment_solvers.pk','rb') as fg:\n",
    "    rcut_param_600 = pk.load(fg)\n",
    "    \n",
    "repr_bas_fsparse = rcut_param_600['repr_bas_fsparse'] \n",
    "GAP_energies = rcut_param_600['GAP_energies']\n",
    "GAP_forces = rcut_param_600['GAP_forces']\n",
    "RMSE_forces = rcut_param_600['RMSE_forces']\n",
    "RMSE_energies = rcut_param_600['RMSE_energies']\n",
    "Mean_en_RMSE = rcut_param_600['Mean_en_RMSE']\n",
    "Mean_force_RMSE = rcut_param_600['Mean_force_RMSE']\n",
    "ntraining = rcut_param_600['ntraining']\n",
    "ml_solvers = rcut_param_600['models']\n",
    "solvers = rcut_param_600['solvers'] "
   ]
  },
  {
   "cell_type": "code",
   "execution_count": 71,
   "metadata": {},
   "outputs": [
    {
     "data": {
      "text/plain": [
       "(dict_keys(['RKHS-QR']), ['RKHS-QR'])"
      ]
     },
     "execution_count": 71,
     "metadata": {},
     "output_type": "execute_result"
    }
   ],
   "source": [
    "rcut_param_600['models'].keys(),solvers"
   ]
  },
  {
   "cell_type": "code",
   "execution_count": 61,
   "metadata": {},
   "outputs": [
    {
     "name": "stdout",
     "output_type": "stream",
     "text": [
      "[[nan nan nan nan nan nan nan nan]] [[54.13965699 32.44734688  6.58263897  5.45022869  4.53133406  4.21769753\n",
      "   3.93926112  3.93347607]]\n"
     ]
    }
   ],
   "source": [
    "Sigma_en_RMSE = np.array(Sigma_en_RMSE)\n",
    "print(Sigma_en_RMSE,Mean_en_RMSE)"
   ]
  },
  {
   "cell_type": "code",
   "execution_count": 62,
   "metadata": {},
   "outputs": [
    {
     "name": "stdout",
     "output_type": "stream",
     "text": [
      "[20, 50, 100, 200, 400, 800, 1500, 2000]\n"
     ]
    }
   ],
   "source": [
    "print(ntraining)"
   ]
  },
  {
   "cell_type": "code",
   "execution_count": 63,
   "metadata": {},
   "outputs": [
    {
     "name": "stdout",
     "output_type": "stream",
     "text": [
      "[[35.28498772 44.30735477 19.67353999 16.21352809 14.08154896 13.2946501\n",
      "  12.71664928 12.70567226]]\n",
      "102957.79320000001\n"
     ]
    }
   ],
   "source": [
    "print(Mean_force_RMSE)\n",
    "print(((23.15808166-21.72811231)/(6000.0)**(-1))*12.0)"
   ]
  },
  {
   "cell_type": "code",
   "execution_count": 56,
   "metadata": {
    "scrolled": false
   },
   "outputs": [
    {
     "data": {
      "text/plain": [
       "<matplotlib.legend.Legend at 0x7fd387eb5280>"
      ]
     },
     "execution_count": 56,
     "metadata": {},
     "output_type": "execute_result"
    },
    {
     "data": {
      "image/png": "[encoded data removed]",
      "text/plain": [
       "<Figure size 576x576 with 1 Axes>"
      ]
     },
     "metadata": {
      "needs_background": "light"
     },
     "output_type": "display_data"
    }
   ],
   "source": [
    "plt.rcParams[\"figure.figsize\"] = (8, 8)\n",
    "plt.rcParams[\"font.size\"] = 25\n",
    "\n",
    "fig = plt.figure('')\n",
    "#mpl.rc('font', **font)\n",
    "\n",
    "# font = {'family' : 'normal',\n",
    "#         'weight' : 'normal',\n",
    "#         'size'   : 20}\n",
    "\n",
    "\n",
    "grid = plt.GridSpec(1, 1, wspace=0.8, hspace=0.0)\n",
    "ax_left = fig.add_subplot(grid[0, 0])\n",
    "#Mean_en_RMSE_600 = rcut_param_600['Mean_en_RMSE']\n",
    "#solvers_600 = ['nplstsqNone', 'nplstsq-1', 'scipysolve', 'npsolve']\n",
    "\n",
    "ax_left.set_xlabel(r\"$n_{training}$\")\n",
    "ax_left.set_ylabel(r\"Energy RMSE/atom (meV)\")\n",
    "for isolv,solver in enumerate(solvers):\n",
    "    #ax_left.scatter(ntraining[2:], Mean_en_RMSE[isolv,2:])\n",
    "    ax_left.loglog(ntraining[2:], Mean_en_RMSE[isolv,2:],marker='o',label=solver)\n",
    "#for isolv,solver in enumerate(solvers_600):\n",
    "#    ax_left.loglog(ntraining[2:], Mean_en_RMSE_600[isolv,2:],marker='o',label=solver+'_600sp')\n",
    "\n",
    "#ax_left.set_xscale('log')\n",
    "#ax_left.set_yscale('log')\n",
    "\n",
    "plt.legend()"
   ]
  },
  {
   "cell_type": "code",
   "execution_count": 164,
   "metadata": {},
   "outputs": [
    {
     "data": {
      "text/plain": [
       "['RKHS-QR']"
      ]
     },
     "execution_count": 164,
     "metadata": {},
     "output_type": "execute_result"
    }
   ],
   "source": [
    "solvers"
   ]
  },
  {
   "cell_type": "code",
   "execution_count": 57,
   "metadata": {},
   "outputs": [
    {
     "name": "stderr",
     "output_type": "stream",
     "text": [
      "/tmp/ipykernel_1999000/2783416338.py:37: UserWarning: Attempted to set non-positive left xlim on a log-scaled axis.\n",
      "Invalid limit will be ignored.\n",
      "  ax_left.set_xlim(0,8000)\n"
     ]
    },
    {
     "data": {
      "text/plain": [
       "<matplotlib.legend.Legend at 0x7fd387aee730>"
      ]
     },
     "execution_count": 57,
     "metadata": {},
     "output_type": "execute_result"
    },
    {
     "data": {
      "image/png": "[encoded data removed]",
      "text/plain": [
       "<Figure size 576x576 with 1 Axes>"
      ]
     },
     "metadata": {
      "needs_background": "light"
     },
     "output_type": "display_data"
    }
   ],
   "source": [
    "plt.rcParams[\"figure.figsize\"] = (8, 8)\n",
    "plt.rcParams[\"font.size\"] = 25\n",
    "\n",
    "fig = plt.figure('')\n",
    "#mpl.rc('font', **font)\n",
    "\n",
    "# font = {'family' : 'normal',\n",
    "#         'weight' : 'normal',\n",
    "#         'size'   : 20}\n",
    "\n",
    "\n",
    "grid = plt.GridSpec(1, 1, wspace=0.8, hspace=0.0)\n",
    "ax_left = fig.add_subplot(grid[0, 0])\n",
    "\n",
    "#ax_right = ax_left.twinx()\n",
    "\n",
    "ax_left.set_xlabel(r\"$n_{training}$\")\n",
    "#ax_left.set_ylabel(r\"Energy RMSE/atom (meV)\")\n",
    "#ax_left.errorbar(ntraining[2:], Mean_en_RMSE[2:], yerr=Sigma_en_RMSE[2:], color = 'black', label = \"energy\")\n",
    "ax_left.set_ylabel(r'% force RMSE/atom')\n",
    "#ax_left.errorbar(ntraining[2:], Mean_force_RMSE[2:], yerr=Sigma_force_RMSE[2:], color = 'red', label = \"forces\")\n",
    "#ax_left.set_xscale('log')\n",
    "\n",
    "for isolv,solver in enumerate(solvers):\n",
    "    #if solver == 'npsolve': continue\n",
    "    ax_left.loglog([-1,9000],[Mean_force_RMSE[isolv,-1],Mean_force_RMSE[isolv,-1]], label = \"\",marker='',ls='--',color='black')\n",
    "    ax_left.loglog(ntraining[:], Mean_force_RMSE[isolv,:], label = solver,marker='o')\n",
    "    #ax_left.loglog(zeta2_Mean_force_RMSE[:,0], zeta2_Mean_force_RMSE[:,1], label = \"forces\",marker='o')\n",
    "    \n",
    "\n",
    "\n",
    "\n",
    "#ax_left.set_yscale('log')\n",
    "#ax_right.set_yscale('log')\n",
    "#plt.yscale('log')\n",
    "#ax_left.set_ylim((0,50))\n",
    "ax_left.set_xlim(0,8000)\n",
    "plt.legend()\n",
    "ax_left.legend(loc = 0)"
   ]
  },
  {
   "cell_type": "code",
   "execution_count": 58,
   "metadata": {},
   "outputs": [
    {
     "name": "stdout",
     "output_type": "stream",
     "text": [
      "RKHS-QR 12.85679197759426\n"
     ]
    }
   ],
   "source": [
    "for isolv,solver in enumerate(solvers):\n",
    "    print(solver, Mean_force_RMSE[isolv,-1])"
   ]
  },
  {
   "cell_type": "code",
   "execution_count": 167,
   "metadata": {},
   "outputs": [],
   "source": [
    "rcut_param ={\n",
    "    'GAP_energies':GAP_energies,\n",
    "    'GAP_forces':GAP_forces,\n",
    "    'RMSE_forces':RMSE_forces,\n",
    "    'RMSE_energies':RMSE_energies,\n",
    "    'Mean_en_RMSE':Mean_en_RMSE,\n",
    "    'Mean_force_RMSE':Mean_force_RMSE,\n",
    "    'ntraining':ntraining,\n",
    "    'solvers': solvers\n",
    "}\n",
    "\n",
    "\n",
    "#with open('RMSE_GAPonPBE_rcut5_sigma0.3_600sparsefeature_8000sparseenviroment_solvers.pk','wb') as fg:\n",
    "with open('RMSE_GAPonPBE_menocoesiveenergy_rcut5_sigma0.3_600sparsefeature_4000sparseenviroment_solvers.pk','wb') as fg:\n",
    "    pk.dump(rcut_param,fg)"
   ]
  },
  {
   "cell_type": "code",
   "execution_count": 168,
   "metadata": {},
   "outputs": [],
   "source": [
    "dump_obj('model-PBEsol-menocoesiveenergy-rcut5_sigma0.3-4000sparseenv-1500traindata.json',ml_solvers['RKHS-QR'][-2])"
   ]
  },
  {
   "cell_type": "code",
   "execution_count": 65,
   "metadata": {},
   "outputs": [],
   "source": [
    "dump_obj?"
   ]
  },
  {
   "cell_type": "code",
   "execution_count": 169,
   "metadata": {},
   "outputs": [
    {
     "data": {
      "text/plain": [
       "[<rascal.models.krr.KRR at 0x7f5249060040>,\n",
       " <rascal.models.krr.KRR at 0x7f5249060610>,\n",
       " <rascal.models.krr.KRR at 0x7f546bd745b0>,\n",
       " <rascal.models.krr.KRR at 0x7f5421c87f40>,\n",
       " <rascal.models.krr.KRR at 0x7f524a1440a0>,\n",
       " <rascal.models.krr.KRR at 0x7f5249060e50>,\n",
       " <rascal.models.krr.KRR at 0x7f52490600a0>,\n",
       " <rascal.models.krr.KRR at 0x7f5249060520>]"
      ]
     },
     "execution_count": 169,
     "metadata": {},
     "output_type": "execute_result"
    }
   ],
   "source": [
    "ml_solvers['RKHS-QR']"
   ]
  },
  {
   "cell_type": "code",
   "execution_count": 172,
   "metadata": {},
   "outputs": [
    {
     "data": {
      "text/plain": [
       "{'energy': -3876.119695710878,\n",
       " 'stress': array([[ 0.00357531,  0.00194282,  0.00199883],\n",
       "        [ 0.00194282,  0.01093618, -0.00203647],\n",
       "        [ 0.00199883, -0.00203647,  0.01275137]]),\n",
       " 'free_energy': -3876.119695710878}"
      ]
     },
     "execution_count": 172,
     "metadata": {},
     "output_type": "execute_result"
    }
   ],
   "source": [
    "LiPSdataset[0].info"
   ]
  },
  {
   "cell_type": "code",
   "execution_count": 1,
   "metadata": {},
   "outputs": [
    {
     "data": {
      "text/plain": [
       "'/scratch/tisi/LIPS_dataset_alpha_beta_gamma'"
      ]
     },
     "execution_count": 1,
     "metadata": {},
     "output_type": "execute_result"
    }
   ],
   "source": [
    "pwd"
   ]
  },
  {
   "cell_type": "code",
   "execution_count": null,
   "metadata": {},
   "outputs": [],
   "source": []
  }
 ],
 "metadata": {
  "kernelspec": {
   "display_name": "Python 3 (ipykernel)",
   "language": "python",
   "name": "python3"
  },
  "language_info": {
   "codemirror_mode": {
    "name": "ipython",
    "version": 3
   },
   "file_extension": ".py",
   "mimetype": "text/x-python",
   "name": "python",
   "nbconvert_exporter": "python",
   "pygments_lexer": "ipython3",
   "version": "3.9.12"
  }
 },
 "nbformat": 4,
 "nbformat_minor": 4
}
